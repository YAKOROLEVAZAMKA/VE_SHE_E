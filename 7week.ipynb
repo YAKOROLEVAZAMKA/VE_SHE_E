{
 "cells": [
  {
   "cell_type": "markdown",
   "metadata": {},
   "source": [
    "### МНОЖЕСТВА И СЛОВАРИ"
   ]
  },
  {
   "cell_type": "code",
   "execution_count": 2,
   "metadata": {},
   "outputs": [
    {
     "name": "stdout",
     "output_type": "stream",
     "text": [
      "True\n"
     ]
    }
   ],
   "source": [
    "fSet = {1, 2, 3}\n",
    "sSet = {3, 1, 2}\n",
    "print(fSet == sSet)\n"
   ]
  },
  {
   "cell_type": "code",
   "execution_count": 3,
   "metadata": {},
   "outputs": [
    {
     "name": "stdin",
     "output_type": "stream",
     "text": [
      " 1 2 3 4\n"
     ]
    },
    {
     "name": "stdout",
     "output_type": "stream",
     "text": [
      "{1, 2, 3, 4}\n"
     ]
    }
   ],
   "source": [
    "intlist = list(map(int, input().split()))\n",
    "intset = set(intlist)\n",
    "print(intset)"
   ]
  },
  {
   "cell_type": "code",
   "execution_count": 5,
   "metadata": {},
   "outputs": [
    {
     "name": "stdout",
     "output_type": "stream",
     "text": [
      "{'abc', 1, 3.14, (1, 2)}\n"
     ]
    }
   ],
   "source": [
    "fSet = {1, 3.14, 'abc', (1, 2)}\n",
    "print(fSet)"
   ]
  },
  {
   "cell_type": "code",
   "execution_count": 6,
   "metadata": {},
   "outputs": [
    {
     "ename": "TypeError",
     "evalue": "unhashable type: 'list'",
     "output_type": "error",
     "traceback": [
      "\u001b[1;31m---------------------------------------------------------------------------\u001b[0m",
      "\u001b[1;31mTypeError\u001b[0m                                 Traceback (most recent call last)",
      "\u001b[1;32m<ipython-input-6-d5e3b4f5fc2b>\u001b[0m in \u001b[0;36m<module>\u001b[1;34m\u001b[0m\n\u001b[1;32m----> 1\u001b[1;33m \u001b[0mfSet\u001b[0m \u001b[1;33m=\u001b[0m \u001b[1;33m{\u001b[0m\u001b[1;36m1\u001b[0m\u001b[1;33m,\u001b[0m \u001b[1;36m3.14\u001b[0m\u001b[1;33m,\u001b[0m \u001b[1;34m'abc'\u001b[0m\u001b[1;33m,\u001b[0m \u001b[1;33m[\u001b[0m\u001b[1;36m1\u001b[0m\u001b[1;33m,\u001b[0m \u001b[1;36m2\u001b[0m\u001b[1;33m]\u001b[0m\u001b[1;33m}\u001b[0m\u001b[1;33m\u001b[0m\u001b[1;33m\u001b[0m\u001b[0m\n\u001b[0m\u001b[0;32m      2\u001b[0m \u001b[0mprint\u001b[0m\u001b[1;33m(\u001b[0m\u001b[0mfSet\u001b[0m\u001b[1;33m)\u001b[0m\u001b[1;33m\u001b[0m\u001b[1;33m\u001b[0m\u001b[0m\n",
      "\u001b[1;31mTypeError\u001b[0m: unhashable type: 'list'"
     ]
    }
   ],
   "source": [
    "fSet = {1, 3.14, 'abc', [1, 2]}\n",
    "print(fSet)"
   ]
  },
  {
   "cell_type": "code",
   "execution_count": 7,
   "metadata": {},
   "outputs": [
    {
     "ename": "TypeError",
     "evalue": "unhashable type: 'set'",
     "output_type": "error",
     "traceback": [
      "\u001b[1;31m---------------------------------------------------------------------------\u001b[0m",
      "\u001b[1;31mTypeError\u001b[0m                                 Traceback (most recent call last)",
      "\u001b[1;32m<ipython-input-7-be00f99801b1>\u001b[0m in \u001b[0;36m<module>\u001b[1;34m\u001b[0m\n\u001b[1;32m----> 1\u001b[1;33m \u001b[0mfSet\u001b[0m \u001b[1;33m=\u001b[0m \u001b[1;33m{\u001b[0m\u001b[1;36m1\u001b[0m\u001b[1;33m,\u001b[0m \u001b[1;36m3.14\u001b[0m\u001b[1;33m,\u001b[0m \u001b[1;34m'abc'\u001b[0m\u001b[1;33m,\u001b[0m \u001b[1;33m{\u001b[0m\u001b[1;36m1\u001b[0m\u001b[1;33m,\u001b[0m \u001b[1;36m2\u001b[0m\u001b[1;33m}\u001b[0m\u001b[1;33m}\u001b[0m\u001b[1;33m\u001b[0m\u001b[1;33m\u001b[0m\u001b[0m\n\u001b[0m\u001b[0;32m      2\u001b[0m \u001b[0mprint\u001b[0m\u001b[1;33m(\u001b[0m\u001b[0mfSet\u001b[0m\u001b[1;33m)\u001b[0m\u001b[1;33m\u001b[0m\u001b[1;33m\u001b[0m\u001b[0m\n",
      "\u001b[1;31mTypeError\u001b[0m: unhashable type: 'set'"
     ]
    }
   ],
   "source": [
    "fSet = {1, 3.14, 'abc', {1, 2}}\n",
    "print(fSet)"
   ]
  },
  {
   "cell_type": "code",
   "execution_count": 13,
   "metadata": {},
   "outputs": [
    {
     "name": "stdout",
     "output_type": "stream",
     "text": [
      "{'abc', 1, 3.14, frozenset({1, 2})}\n",
      "frozenset({'abc', 1, 3.14, frozenset({1, 2})})\n",
      "abc 1 3.14 frozenset({1, 2})\n"
     ]
    }
   ],
   "source": [
    "fSet = {1, 3.14, 'abc', frozenset((1, 2))}\n",
    "print(fSet)\n",
    "print(frozenset(fSet))\n",
    "print(*fSet)"
   ]
  },
  {
   "cell_type": "code",
   "execution_count": null,
   "metadata": {},
   "outputs": [],
   "source": []
  },
  {
   "cell_type": "code",
   "execution_count": 17,
   "metadata": {},
   "outputs": [
    {
     "name": "stdout",
     "output_type": "stream",
     "text": [
      "40000000000 1 2 3\n",
      "1 2 3 40000000000\n"
     ]
    }
   ],
   "source": [
    "fSet = {1, 2, 3, 1, 40000000000}\n",
    "print(*fSet)\n",
    "print(*sorted(list(fSet)))"
   ]
  },
  {
   "cell_type": "code",
   "execution_count": 18,
   "metadata": {},
   "outputs": [
    {
     "name": "stdout",
     "output_type": "stream",
     "text": [
      "4\n"
     ]
    }
   ],
   "source": [
    "fSet = set('abcdabc')\n",
    "print(len(fSet))"
   ]
  },
  {
   "cell_type": "code",
   "execution_count": null,
   "metadata": {},
   "outputs": [],
   "source": []
  },
  {
   "cell_type": "code",
   "execution_count": 25,
   "metadata": {},
   "outputs": [],
   "source": [
    "#####"
   ]
  },
  {
   "cell_type": "code",
   "execution_count": 24,
   "metadata": {},
   "outputs": [
    {
     "name": "stdout",
     "output_type": "stream",
     "text": [
      "1\n"
     ]
    }
   ],
   "source": [
    "abc = ['1']\n",
    "for element in range(len(abc)):\n",
    "    abc.append('2')\n",
    "    print(1)"
   ]
  },
  {
   "cell_type": "code",
   "execution_count": null,
   "metadata": {},
   "outputs": [],
   "source": [
    "if answer == empty:\n",
    "    wait(10sec)\n",
    "    counter += 1\n",
    "    if counter > 10000:\n",
    "        print(error)\n",
    "        break"
   ]
  },
  {
   "cell_type": "code",
   "execution_count": 26,
   "metadata": {},
   "outputs": [],
   "source": [
    "#####"
   ]
  },
  {
   "cell_type": "code",
   "execution_count": null,
   "metadata": {},
   "outputs": [],
   "source": []
  },
  {
   "cell_type": "code",
   "execution_count": 27,
   "metadata": {},
   "outputs": [
    {
     "name": "stdout",
     "output_type": "stream",
     "text": [
      "400000000\n",
      "1\n",
      "2\n",
      "3\n"
     ]
    }
   ],
   "source": [
    "fSet = {1, 2, 3, 400000000}\n",
    "for elem in fSet:\n",
    "    print(elem)\n"
   ]
  },
  {
   "cell_type": "code",
   "execution_count": 31,
   "metadata": {},
   "outputs": [
    {
     "name": "stdin",
     "output_type": "stream",
     "text": [
      " 3\n"
     ]
    },
    {
     "name": "stdout",
     "output_type": "stream",
     "text": [
      "YES\n"
     ]
    }
   ],
   "source": [
    "primes = {2, 3, 5, 7, 11, 15}\n",
    "n = int(input())\n",
    "if n in primes:\n",
    "    print('YES')\n",
    "else:\n",
    "    print('NO')\n"
   ]
  },
  {
   "cell_type": "code",
   "execution_count": 33,
   "metadata": {},
   "outputs": [
    {
     "name": "stdin",
     "output_type": "stream",
     "text": [
      " 12\n"
     ]
    },
    {
     "name": "stdout",
     "output_type": "stream",
     "text": [
      "NO\n"
     ]
    }
   ],
   "source": [
    "primes = {2, 3, 5, 7, 11, 15}\n",
    "n = int(input())\n",
    "if n not in primes:\n",
    "    print('NO')\n",
    "else:\n",
    "    print('YES')\n"
   ]
  },
  {
   "cell_type": "code",
   "execution_count": null,
   "metadata": {},
   "outputs": [],
   "source": []
  },
  {
   "cell_type": "code",
   "execution_count": 35,
   "metadata": {},
   "outputs": [
    {
     "name": "stdout",
     "output_type": "stream",
     "text": [
      "2 3 5 11 15 17\n"
     ]
    }
   ],
   "source": [
    "primes = {2, 3, 5, 7, 11, 13, 15}\n",
    "primes.add(17)\n",
    "primes.remove(13) # НЕ ЛОМАЕТСЯ\n",
    "primes.discard(7) # ЛОМАЕТСЯ ЕСЛИ НЕТ ЗНАЧЕНИЯ\n",
    "print(*primes)"
   ]
  },
  {
   "cell_type": "code",
   "execution_count": null,
   "metadata": {},
   "outputs": [],
   "source": []
  },
  {
   "cell_type": "code",
   "execution_count": 40,
   "metadata": {},
   "outputs": [
    {
     "name": "stdout",
     "output_type": "stream",
     "text": [
      "False\n",
      "True\n",
      "------\n",
      "False\n",
      "True\n",
      "------\n",
      "False\n",
      "True\n"
     ]
    }
   ],
   "source": [
    "a = {1, 2, 3, 4}\n",
    "b = {1, 3}\n",
    "print(a == b)\n",
    "print(a != b)\n",
    "print('------')\n",
    "print(a < b)\n",
    "print(a > b)\n",
    "print('------')\n",
    "print(a <= b)\n",
    "print(a >= b)\n"
   ]
  },
  {
   "cell_type": "code",
   "execution_count": 46,
   "metadata": {},
   "outputs": [
    {
     "name": "stdout",
     "output_type": "stream",
     "text": [
      "{1, 2, 3, 4, 5}\n",
      "{1, 3}\n",
      "{2, 4}\n",
      "{2, 4, 5}\n"
     ]
    }
   ],
   "source": [
    "a = {1, 2, 3, 4}\n",
    "b = {1, 3, 5}\n",
    "print(a | b) # СЛОЖЕНИЕ\n",
    "# print(a + b)\n",
    "print(a & b) # ПЕРЕСЕЧЕНИЕ\n",
    "print(a - b) # СОДЕРЖАТСЯ В а, НЕТ В б\n",
    "print(a ^ b) # ОБРАТНОЕ ПЕРЕСЕЧЕНИЮ (!)"
   ]
  },
  {
   "cell_type": "code",
   "execution_count": null,
   "metadata": {},
   "outputs": [],
   "source": []
  },
  {
   "cell_type": "code",
   "execution_count": 48,
   "metadata": {},
   "outputs": [
    {
     "name": "stdin",
     "output_type": "stream",
     "text": [
      " 1 2 3\n"
     ]
    },
    {
     "name": "stdout",
     "output_type": "stream",
     "text": [
      "3\n"
     ]
    }
   ],
   "source": [
    "intlist = map(int, input().split())\n",
    "intset = set(intlist)\n",
    "print(len(intset))\n"
   ]
  },
  {
   "cell_type": "code",
   "execution_count": 50,
   "metadata": {},
   "outputs": [
    {
     "name": "stdout",
     "output_type": "stream",
     "text": [
      "<map object at 0x000001698E1D34E0>\n",
      "<class 'map'>\n"
     ]
    }
   ],
   "source": [
    "print(intlist)\n",
    "print(type(intlist))"
   ]
  },
  {
   "cell_type": "code",
   "execution_count": null,
   "metadata": {},
   "outputs": [],
   "source": []
  },
  {
   "cell_type": "code",
   "execution_count": null,
   "metadata": {},
   "outputs": [],
   "source": [
    "ilist1 = set(map(int, input().split()))\n",
    "ilist2 = set(map(int, input().split()))\n",
    "print(len(ilist1 & ilist2))\n"
   ]
  },
  {
   "cell_type": "code",
   "execution_count": null,
   "metadata": {},
   "outputs": [],
   "source": []
  },
  {
   "cell_type": "code",
   "execution_count": 52,
   "metadata": {},
   "outputs": [
    {
     "name": "stdin",
     "output_type": "stream",
     "text": [
      " 1 3 2\n",
      " 4 3 2\n"
     ]
    },
    {
     "name": "stdout",
     "output_type": "stream",
     "text": [
      "2 3\n"
     ]
    }
   ],
   "source": [
    "ilist1 = set(map(int, input().split()))\n",
    "ilist2 = set(map(int, input().split()))\n",
    "print(*sorted(list(ilist1 & ilist2)))\n"
   ]
  },
  {
   "cell_type": "code",
   "execution_count": null,
   "metadata": {},
   "outputs": [],
   "source": []
  },
  {
   "cell_type": "code",
   "execution_count": 53,
   "metadata": {},
   "outputs": [
    {
     "name": "stdin",
     "output_type": "stream",
     "text": [
      " 1 2 3 2 3 4\n"
     ]
    },
    {
     "name": "stdout",
     "output_type": "stream",
     "text": [
      "NO\n",
      "NO\n",
      "NO\n",
      "YES\n",
      "YES\n",
      "NO\n"
     ]
    }
   ],
   "source": [
    "intlist = list(map(int, input().split()))\n",
    "iset = set(intlist)\n",
    "for i in intlist:\n",
    "    if i in iset:\n",
    "        print('NO')\n",
    "        iset.discard(i)\n",
    "    else:\n",
    "        print('YES')\n"
   ]
  },
  {
   "cell_type": "code",
   "execution_count": null,
   "metadata": {},
   "outputs": [],
   "source": []
  },
  {
   "cell_type": "code",
   "execution_count": 26,
   "metadata": {},
   "outputs": [
    {
     "name": "stdout",
     "output_type": "stream",
     "text": [
      "2\n",
      "0 1\n",
      "2\n",
      "9 10\n",
      "1\n",
      "3\n"
     ]
    }
   ],
   "source": [
    "file = open('input7.txt', 'r', encoding='utf8')\n",
    "for line in file:\n",
    "    temp = line.split()\n",
    "    temp[0] = temp[0].replace('\\ufeff', '')\n",
    "    n = int(temp[0])\n",
    "    m = int(temp[1])\n",
    "    break\n",
    "# print(n, m)\n",
    "anya = []\n",
    "borya = []\n",
    "lines = file.readlines()\n",
    "for line in lines:\n",
    "    line = line.strip()\n",
    "    if n > 0:\n",
    "        anya.append(line)\n",
    "        n -= 1\n",
    "    else:\n",
    "        borya.append(line)\n",
    "# print(anya)\n",
    "# print(borya)\n",
    "# print('--------')\n",
    "setA = set(anya)\n",
    "setB = set(borya)\n",
    "temp = setB & setA\n",
    "# print(temp)\n",
    "# temp = list(temp)\n",
    "# print(temp)\n",
    "# temp.sort(reverse=True)\n",
    "print(len(temp))\n",
    "# print(len(setA & setB))\n",
    "print(*sorted(list(setA & setB)))\n",
    "print(len(setA - setB))\n",
    "temp = setA - setB\n",
    "# print(temp)\n",
    "temp = list(temp)\n",
    "# print(temp)\n",
    "temp.sort(reverse=True)\n",
    "print(*temp)\n",
    "print(len(setB - setA))\n",
    "# print(*sorted(list(setB - setA)))\n",
    "temp = setB - setA\n",
    "# print(temp)\n",
    "temp = list(temp)\n",
    "# print(temp)\n",
    "temp.sort(reverse=True)\n",
    "print(*temp)\n"
   ]
  },
  {
   "cell_type": "code",
   "execution_count": null,
   "metadata": {},
   "outputs": [],
   "source": []
  },
  {
   "cell_type": "code",
   "execution_count": 40,
   "metadata": {},
   "outputs": [
    {
     "name": "stdout",
     "output_type": "stream",
     "text": [
      "19\n"
     ]
    }
   ],
   "source": [
    "file = open('input8.txt', 'r', encoding='utf8')\n",
    "xxx = set()\n",
    "for line in file:\n",
    "    line.strip()\n",
    "    line.replace('\\ufeff', '')\n",
    "    line2 = line.split()\n",
    "    temps = set(line2)\n",
    "    xxx = xxx | temps\n",
    "# print(*sorted(list(xxx)))\n",
    "print(len(xxx))\n"
   ]
  },
  {
   "cell_type": "code",
   "execution_count": null,
   "metadata": {},
   "outputs": [],
   "source": [
    "import sys\n",
    "xxx = set()\n",
    "for line in sys.stdin:\n",
    "    line.strip()\n",
    "    line.replace('\\ufeff', '')\n",
    "    line2 = line.split()\n",
    "    temps = set(line2)\n",
    "    xxx = xxx | temps\n",
    "# print(*sorted(list(xxx)))\n",
    "print(len(xxx))\n"
   ]
  },
  {
   "cell_type": "code",
   "execution_count": null,
   "metadata": {},
   "outputs": [],
   "source": []
  },
  {
   "cell_type": "code",
   "execution_count": 13,
   "metadata": {},
   "outputs": [
    {
     "name": "stdin",
     "output_type": "stream",
     "text": [
      " 10\n",
      " 1 2 3 4 5\n",
      " YES\n",
      " 2 4 6 8 10\n",
      " NO\n",
      " HELP\n"
     ]
    },
    {
     "name": "stdout",
     "output_type": "stream",
     "text": [
      "1 3 5\n"
     ]
    }
   ],
   "source": [
    "n = int(input())\n",
    "intlist = set(range(n + 1))\n",
    "intlist.discard(0)\n",
    "# print(intlist)\n",
    "while True:\n",
    "    temp = input()\n",
    "    if temp == 'HELP':\n",
    "        break\n",
    "    elif temp == 'YES':\n",
    "        answer = 'YES'\n",
    "    elif temp == 'NO':\n",
    "        answer = 'NO'\n",
    "    else:\n",
    "        temp = temp.split()\n",
    "        list1 = set(map(int, temp))\n",
    "    answer = input()\n",
    "    if answer == 'YES':\n",
    "        intlist &= list1\n",
    "    else:\n",
    "        intlist -= list1\n",
    "print(*sorted(list(intlist)))\n"
   ]
  },
  {
   "cell_type": "code",
   "execution_count": null,
   "metadata": {},
   "outputs": [],
   "source": []
  },
  {
   "cell_type": "code",
   "execution_count": null,
   "metadata": {},
   "outputs": [],
   "source": []
  },
  {
   "cell_type": "code",
   "execution_count": 62,
   "metadata": {},
   "outputs": [
    {
     "name": "stdin",
     "output_type": "stream",
     "text": [
      " 3\n",
      " 3\n",
      " q\n",
      " w\n",
      " e\n",
      " 2\n",
      " q\n",
      " w\n",
      " 1\n",
      " q\n"
     ]
    },
    {
     "name": "stdout",
     "output_type": "stream",
     "text": [
      "1\n",
      "q\n",
      "3\n",
      "e\n",
      "q\n",
      "w\n"
     ]
    }
   ],
   "source": [
    "n = int(input())\n",
    "lan_list = []\n",
    "while n > 0:\n",
    "    m = int(input())\n",
    "    temp = []\n",
    "    while m > 0:\n",
    "        temp.append(input())\n",
    "        m -= 1\n",
    "    lan_list.append(temp)\n",
    "    n -= 1\n",
    "# print(lan_list)\n",
    "tmp = set(lan_list[0])\n",
    "# print(tmp)\n",
    "for i in range(1, len(lan_list)):\n",
    "    tmp &= set(lan_list[i])\n",
    "print(len(tmp))\n",
    "for elem in tmp:\n",
    "    print(elem)\n",
    "tmp2 = set(lan_list[0])\n",
    "# print(tmp2)\n",
    "for j in range(1, len(lan_list2)):\n",
    "    tmp2 |= set(lan_list[j])\n",
    "print(len(tmp2))\n",
    "for elem in tmp2:\n",
    "    print(elem)\n"
   ]
  },
  {
   "cell_type": "code",
   "execution_count": null,
   "metadata": {},
   "outputs": [],
   "source": []
  },
  {
   "cell_type": "code",
   "execution_count": 58,
   "metadata": {},
   "outputs": [
    {
     "name": "stdout",
     "output_type": "stream",
     "text": [
      "1\n",
      "3\n",
      "\n",
      "1\n",
      "3\n",
      "\n"
     ]
    }
   ],
   "source": [
    "file = open('input10.txt', 'r', encoding='utf-8')\n",
    "for tt in file:\n",
    "    tt.strip()\n",
    "    tt = tt.replace('\\ufeff', '')\n",
    "    n = int(tt)\n",
    "    break\n",
    "# print(n)\n",
    "lan_list = []\n",
    "lines = file.readlines()\n",
    "for line in lines:\n",
    "    line.strip()\n",
    "#    print(line)\n",
    "    while n > 0:\n",
    "        m = int(line)\n",
    "#        print(m)\n",
    "        temp = []\n",
    "        while m > 0:\n",
    "            temp.append(line)\n",
    "            m -= 1\n",
    "        lan_list.append(temp)\n",
    "        n -= 1\n",
    "# print(lan_list)\n",
    "tmp = set(lan_list[0])\n",
    "# print(tmp)\n",
    "for i in range(1, len(lan_list)):\n",
    "    tmp &= set(lan_list[i])\n",
    "print(len(tmp))\n",
    "for elem in tmp:\n",
    "    print(elem)\n",
    "tmp2 = set(lan_list[0])\n",
    "# print(tmp2)\n",
    "for j in range(1, len(lan_list2)):\n",
    "    tmp2 |= set(lan_list[j])\n",
    "print(len(tmp2))\n",
    "for elem in tmp2:\n",
    "    print(elem)\n"
   ]
  },
  {
   "cell_type": "code",
   "execution_count": 55,
   "metadata": {},
   "outputs": [
    {
     "name": "stdout",
     "output_type": "stream",
     "text": [
      "3\n",
      "\n",
      "3\n",
      "\n",
      "Russian\n",
      "\n",
      "English\n",
      "\n",
      "Japanese\n",
      "\n",
      "2\n",
      "\n",
      "Russian\n",
      "\n",
      "English\n",
      "\n",
      "1\n",
      "\n",
      "English\n",
      "\n"
     ]
    }
   ],
   "source": [
    "file = open('input9.txt', 'r', encoding='utf-8')\n",
    "for line in file:\n",
    "    line.replace('\\n', '')\n",
    "    print(line)"
   ]
  },
  {
   "cell_type": "code",
   "execution_count": null,
   "metadata": {},
   "outputs": [],
   "source": []
  },
  {
   "cell_type": "code",
   "execution_count": 61,
   "metadata": {},
   "outputs": [
    {
     "name": "stdin",
     "output_type": "stream",
     "text": [
      " 3\n",
      " 3\n",
      " q\n",
      " w\n",
      " e\n",
      " 2\n",
      " q\n",
      " w\n",
      " 1\n",
      " q\n"
     ]
    },
    {
     "name": "stdout",
     "output_type": "stream",
     "text": [
      "1\n",
      "q\n",
      "3\n",
      "e\n",
      "q\n",
      "w\n"
     ]
    }
   ],
   "source": [
    "union = set()\n",
    "lan_list = set()\n",
    "for i in range(int(input())):\n",
    "    m = int(input())\n",
    "    a = {input() for j in range(m)}\n",
    "    lan_list.update(a)\n",
    "    if i == 1:\n",
    "        union.update(a)\n",
    "    else:\n",
    "        union &= a\n",
    "print(len(union))\n",
    "print('\\n'.join(sorted(union)))\n",
    "print(len(lan_list))\n",
    "print('\\n'.join(sorted(lan_list)))\n"
   ]
  },
  {
   "cell_type": "code",
   "execution_count": null,
   "metadata": {},
   "outputs": [],
   "source": []
  },
  {
   "cell_type": "code",
   "execution_count": 75,
   "metadata": {},
   "outputs": [
    {
     "name": "stdin",
     "output_type": "stream",
     "text": [
      " 3 6 4 2\n"
     ]
    },
    {
     "name": "stdout",
     "output_type": "stream",
     "text": [
      "2\n"
     ]
    }
   ],
   "source": [
    "il = list(map(int, input().split()))\n",
    "# print(il)\n",
    "bus1 = [il[0], il[1]]\n",
    "bus2 = [il[2], il[3]]\n",
    "bus1.sort()\n",
    "bus2.sort()\n",
    "# print(bus1, bus2)\n",
    "peres = set(range(bus1[0], bus1[1] + 1)) & set(range(bus2[0], bus2[1] + 1))\n",
    "print(len(peres))\n"
   ]
  },
  {
   "cell_type": "code",
   "execution_count": null,
   "metadata": {},
   "outputs": [],
   "source": []
  },
  {
   "cell_type": "code",
   "execution_count": null,
   "metadata": {},
   "outputs": [],
   "source": []
  },
  {
   "cell_type": "code",
   "execution_count": 9,
   "metadata": {},
   "outputs": [
    {
     "name": "stdin",
     "output_type": "stream",
     "text": [
      " 1000 1\n",
      " 1 1\n"
     ]
    },
    {
     "name": "stdout",
     "output_type": "stream",
     "text": [
      "715\n"
     ]
    }
   ],
   "source": [
    "daysparty = list(map(int, input().split()))\n",
    "days = []\n",
    "for i in range(1, daysparty[0] + 1):\n",
    "    days.append(i)\n",
    "N = daysparty[1]\n",
    "# print(days)\n",
    "# print(party)\n",
    "party = []\n",
    "for i in range(N):\n",
    "    party.append(tuple(map(int, input().split())))\n",
    "# print(party)\n",
    "party = set(party)\n",
    "ddays = []\n",
    "for elem in party:\n",
    "    j = elem[0]\n",
    "    while j <= daysparty[0]:\n",
    "        ddays.append(j)\n",
    "        j += elem[1]\n",
    "# print(ddays)\n",
    "ddays = set(ddays)\n",
    "# print(ddays)\n",
    "holidays = []\n",
    "j = 6\n",
    "while j <= daysparty[0]:\n",
    "    ddays.discard(j)\n",
    "    ddays.discard(j + 1)\n",
    "    j += 7\n",
    "print(len(ddays))\n"
   ]
  },
  {
   "cell_type": "code",
   "execution_count": null,
   "metadata": {},
   "outputs": [],
   "source": []
  },
  {
   "cell_type": "markdown",
   "metadata": {},
   "source": [
    "### СЛОВАРИ"
   ]
  },
  {
   "cell_type": "code",
   "execution_count": 20,
   "metadata": {},
   "outputs": [
    {
     "name": "stdout",
     "output_type": "stream",
     "text": [
      "Moscow\n",
      "Washington\n",
      "{'Russia': 'Moscow', 'USA': 'Washington'}\n",
      "Russia USA\n",
      "True\n",
      "False\n"
     ]
    }
   ],
   "source": [
    "capitals = {'Russia': 'Moscow', 'France': 'Paris'}\n",
    "capitals['USA'] = 'Washington'\n",
    "#\n",
    "del capitals['France']\n",
    "#\n",
    "print(capitals['Russia'])\n",
    "print(capitals['USA'])\n",
    "print(capitals)\n",
    "print(*capitals)\n",
    "#\n",
    "print('Russia' in capitals)\n",
    "print('Moscow' in capitals)"
   ]
  },
  {
   "cell_type": "code",
   "execution_count": null,
   "metadata": {},
   "outputs": [],
   "source": []
  },
  {
   "cell_type": "code",
   "execution_count": 23,
   "metadata": {},
   "outputs": [
    {
     "name": "stdout",
     "output_type": "stream",
     "text": [
      "{'x': 5, 'y': 3}\n",
      "\n",
      "x 5\n",
      "y 3\n"
     ]
    }
   ],
   "source": [
    "myDict = dict([('x', 5), ('y', 3)])\n",
    "print(myDict)\n",
    "print()\n",
    "for i in myDict:\n",
    "    print(i, myDict[i])"
   ]
  },
  {
   "cell_type": "code",
   "execution_count": 24,
   "metadata": {},
   "outputs": [
    {
     "name": "stdout",
     "output_type": "stream",
     "text": [
      "{'x': 5, 'y': 3}\n",
      "\n",
      "x 5\n",
      "y 3\n"
     ]
    }
   ],
   "source": [
    "myDict = dict([('x', 5), ('y', 3)])\n",
    "print(myDict)\n",
    "print()\n",
    "for i, j in myDict.items():\n",
    "    print(i, j)"
   ]
  },
  {
   "cell_type": "code",
   "execution_count": null,
   "metadata": {},
   "outputs": [],
   "source": []
  },
  {
   "cell_type": "code",
   "execution_count": 26,
   "metadata": {},
   "outputs": [
    {
     "name": "stdin",
     "output_type": "stream",
     "text": [
      " hello\n"
     ]
    },
    {
     "name": "stdout",
     "output_type": "stream",
     "text": [
      "e 1\n",
      "h 1\n",
      "l 2\n",
      "o 1\n",
      "\n",
      "h 1\n",
      "e 1\n",
      "l 2\n",
      "o 1\n"
     ]
    }
   ],
   "source": [
    "s = input()\n",
    "letters = dict()\n",
    "for c in s:\n",
    "    if c in letters:\n",
    "        letters[c] += 1\n",
    "    else:\n",
    "        letters[c] = 1\n",
    "for c in sorted(letters):\n",
    "    print(c, letters[c])\n",
    "print()\n",
    "for c in letters:\n",
    "    print(c, letters[c])\n"
   ]
  },
  {
   "cell_type": "code",
   "execution_count": 27,
   "metadata": {},
   "outputs": [
    {
     "name": "stdin",
     "output_type": "stream",
     "text": [
      " hello\n"
     ]
    },
    {
     "name": "stdout",
     "output_type": "stream",
     "text": [
      "e 1\n",
      "h 1\n",
      "l 2\n",
      "o 1\n"
     ]
    }
   ],
   "source": [
    "s = input()\n",
    "letters = dict()\n",
    "for c in s:\n",
    "    if c not in letters:\n",
    "        letters[c] = 0\n",
    "    letters[c] += 1\n",
    "for c in sorted(letters):\n",
    "    print(c, letters[c])\n"
   ]
  },
  {
   "cell_type": "code",
   "execution_count": 36,
   "metadata": {},
   "outputs": [
    {
     "name": "stdin",
     "output_type": "stream",
     "text": [
      " asdasdwasdasd\n"
     ]
    },
    {
     "name": "stdout",
     "output_type": "stream",
     "text": [
      "a : 4\n",
      "d : 4\n",
      "s : 4\n",
      "w : 1\n"
     ]
    }
   ],
   "source": [
    "s = input()\n",
    "letters = dict()\n",
    "for c in s:\n",
    "    letters[c] = letters.get(c, 0) + 1\n",
    "for c in sorted(letters):\n",
    "    print(c, letters[c], sep=' : ')\n"
   ]
  },
  {
   "cell_type": "code",
   "execution_count": null,
   "metadata": {},
   "outputs": [],
   "source": []
  },
  {
   "cell_type": "code",
   "execution_count": 34,
   "metadata": {},
   "outputs": [
    {
     "name": "stdin",
     "output_type": "stream",
     "text": [
      " 2\n",
      " 2 3 4\n",
      " 3 3 3\n"
     ]
    },
    {
     "name": "stdout",
     "output_type": "stream",
     "text": [
      "2 3 3\n"
     ]
    }
   ],
   "source": [
    "gasCost = {}\n",
    "n = int(input())\n",
    "a92, a95, a98 = map(int, input().split())\n",
    "gasCost[92] = a92\n",
    "gasCost[95] = a95\n",
    "gasCost[98] = a98\n",
    "for i in range(n - 1):\n",
    "    a92, a95, a98 = map(int, input().split())\n",
    "    gasCost[92] = min(a92, gasCost[92])\n",
    "    gasCost[95] = min(a95, gasCost[95])\n",
    "    gasCost[98] = min(a98, gasCost[98])\n",
    "print(gasCost[92], gasCost[95], gasCost[98])\n"
   ]
  },
  {
   "cell_type": "code",
   "execution_count": 39,
   "metadata": {},
   "outputs": [
    {
     "name": "stdin",
     "output_type": "stream",
     "text": [
      " 2\n",
      " 2 3 4\n",
      " 3 2 3\n"
     ]
    },
    {
     "name": "stdout",
     "output_type": "stream",
     "text": [
      "2 2 3\n"
     ]
    }
   ],
   "source": [
    "gasCost = {}\n",
    "n = int(input())\n",
    "costs = list(map(int, input().split()))\n",
    "btypes = (92, 95, 98)\n",
    "for i in range(len(btypes)):\n",
    "    gasCost[btypes[i]] = costs[i]\n",
    "    \n",
    "for i in range(n - 1):\n",
    "    costs = list(map(int, input().split()))\n",
    "    for j in range(len(btypes)):\n",
    "        gasCost[btypes[j]] = min(costs[j], gasCost[btypes[j]])\n",
    "print(gasCost[92], gasCost[95], gasCost[98])\n"
   ]
  },
  {
   "cell_type": "code",
   "execution_count": null,
   "metadata": {},
   "outputs": [],
   "source": []
  },
  {
   "cell_type": "code",
   "execution_count": 47,
   "metadata": {},
   "outputs": [
    {
     "name": "stdin",
     "output_type": "stream",
     "text": [
      " asd12312asdas\n"
     ]
    },
    {
     "name": "stdout",
     "output_type": "stream",
     "text": [
      "False\n",
      "\n",
      "False\n",
      "\n",
      "False\n",
      "\n",
      "asd12312asdas\n",
      "\n",
      "asd12312asdas\n",
      "\n",
      "asd12312asdas\n",
      "\n",
      "True\n"
     ]
    }
   ],
   "source": [
    "s = input()\n",
    "print(s.isalpha())\n",
    "print()\n",
    "print(s.isdigit())\n",
    "print()\n",
    "print(s.isupper())\n",
    "print()\n",
    "print(s.strip())\n",
    "print()\n",
    "print(s.lstrip())\n",
    "print()\n",
    "print(s.rstrip())\n",
    "print()\n",
    "print(s.isalnum())"
   ]
  },
  {
   "cell_type": "code",
   "execution_count": null,
   "metadata": {},
   "outputs": [],
   "source": []
  },
  {
   "cell_type": "code",
   "execution_count": 56,
   "metadata": {},
   "outputs": [
    {
     "name": "stdout",
     "output_type": "stream",
     "text": [
      "apple - malum, pomum, popula\n",
      "\n",
      "fruit - baca, bacca, popum\n",
      "\n",
      "punishment - malum, multa\n",
      "\n"
     ]
    }
   ],
   "source": [
    "file = open('input.txt', 'r', encoding='utf-8')\n",
    "lines = file.readlines()\n",
    "for i in lines:\n",
    "    i.strip()\n",
    "    print(i)\n",
    "file.close()"
   ]
  },
  {
   "cell_type": "code",
   "execution_count": null,
   "metadata": {},
   "outputs": [],
   "source": []
  },
  {
   "cell_type": "code",
   "execution_count": 57,
   "metadata": {},
   "outputs": [
    {
     "name": "stdout",
     "output_type": "stream",
     "text": [
      "{'malum': ['apple', 'punishment'], 'pomum': ['apple'], 'popula': ['apple'], 'baca': ['fruit'], 'bacca': ['fruit'], 'popum': ['fruit'], 'multa': ['punishment']}\n"
     ]
    }
   ],
   "source": [
    "fin = open('input.txt')\n",
    "myDict = {}\n",
    "for line in fin:\n",
    "    eng, latins = line.split('-')\n",
    "    latinsList = latins.split(',')\n",
    "    eng = eng.strip()\n",
    "    for lat in latinsList:\n",
    "        if lat.strip() not in myDict:\n",
    "            myDict[lat.strip()] = []\n",
    "        myDict[lat.strip()].append(eng)\n",
    "print(myDict)\n"
   ]
  },
  {
   "cell_type": "code",
   "execution_count": null,
   "metadata": {},
   "outputs": [],
   "source": []
  },
  {
   "cell_type": "code",
   "execution_count": 70,
   "metadata": {},
   "outputs": [
    {
     "name": "stdin",
     "output_type": "stream",
     "text": [
      " +78047952807\n"
     ]
    },
    {
     "name": "stdout",
     "output_type": "stream",
     "text": [
      "8047952807\n"
     ]
    },
    {
     "name": "stdin",
     "output_type": "stream",
     "text": [
      " +78047952807\n",
      " +76147514928\n",
      " 88047952807\n"
     ]
    },
    {
     "name": "stdout",
     "output_type": "stream",
     "text": [
      "YES\n",
      "NO\n",
      "YES\n"
     ]
    }
   ],
   "source": [
    "tel = input()\n",
    "\n",
    "\n",
    "def clean(tel):\n",
    "    tel = tel.replace('-', '')\n",
    "    tel = tel.replace('+7', '')\n",
    "    tel = tel.replace('(', '')\n",
    "    tel = tel.replace(')', '')\n",
    "    if len(tel) == 7:\n",
    "        tel = '495' + tel\n",
    "    elif len(tel) == 11:\n",
    "        tel = tel[1:]\n",
    "    return tel\n",
    "\n",
    "tel = clean(tel)\n",
    "book = []\n",
    "# print(tel)\n",
    "for i in range(3):\n",
    "    temp = input()\n",
    "    temp = clean(temp)\n",
    "    book.append(temp)\n",
    "for phone in book:\n",
    "    if phone == tel:\n",
    "        print('YES')\n",
    "    else:\n",
    "        print('NO')\n"
   ]
  },
  {
   "cell_type": "code",
   "execution_count": null,
   "metadata": {},
   "outputs": [],
   "source": []
  },
  {
   "cell_type": "code",
   "execution_count": 76,
   "metadata": {},
   "outputs": [
    {
     "name": "stdout",
     "output_type": "stream",
     "text": [
      "baca - fruit\n",
      "bacca - fruit\n",
      "malum - apple, punishment\n",
      "multa - punishment\n",
      "pomum - apple\n",
      "popula - apple\n",
      "popum - fruit\n"
     ]
    }
   ],
   "source": [
    "fin = open('input.txt')\n",
    "myDict = {}\n",
    "for line in fin:\n",
    "    eng, latins = line.split('-')\n",
    "    latinsList = latins.split(',')\n",
    "    eng = eng.strip()\n",
    "    for lat in latinsList:\n",
    "        if lat.strip() not in myDict:\n",
    "            myDict[lat.strip()] = []\n",
    "        myDict[lat.strip()].append(eng)\n",
    "for lat in sorted(myDict):\n",
    "    print(lat, '-', ', '.join(sorted(myDict[lat])))\n"
   ]
  },
  {
   "cell_type": "code",
   "execution_count": null,
   "metadata": {},
   "outputs": [],
   "source": []
  },
  {
   "cell_type": "code",
   "execution_count": 77,
   "metadata": {},
   "outputs": [
    {
     "name": "stdout",
     "output_type": "stream",
     "text": [
      "{'a': {'b': {}, 'c': {'d': {}, 'e': {}}}}\n"
     ]
    }
   ],
   "source": [
    "tree = {'a': {\n",
    "            'b': dict(), \n",
    "            'c': {\n",
    "                 'd': dict(), \n",
    "                 'e': dict()\n",
    "                 }\n",
    "            }\n",
    "        }\n",
    "print(tree)\n"
   ]
  },
  {
   "cell_type": "code",
   "execution_count": null,
   "metadata": {},
   "outputs": [],
   "source": []
  },
  {
   "cell_type": "code",
   "execution_count": null,
   "metadata": {},
   "outputs": [],
   "source": [
    "n = int(input())\n",
    "latinEnglish = {}\n",
    "for i in range(n):\n",
    "    line = input()\n",
    "    english = line[:line.find('-')].strip()\n",
    "    latinsStr = line[line.find('-') + 1:].strip()\n",
    "    latins = map(lambda s : s.strip(), latinsStr.split(','))\n",
    "    for latin in latins:\n",
    "        if latin not in latinEnglish:\n",
    "            latinEnglish[latin] = []\n",
    "        latinEnglish[latin].append(english)\n",
    "print(len(latinEnglish))\n",
    "for latin in sorted(latinEnglish):\n",
    "    print(latin, '-', ', '.join(sorted(latinEnglish[latin])))\n"
   ]
  },
  {
   "cell_type": "code",
   "execution_count": null,
   "metadata": {},
   "outputs": [],
   "source": []
  },
  {
   "cell_type": "code",
   "execution_count": null,
   "metadata": {},
   "outputs": [],
   "source": []
  },
  {
   "cell_type": "code",
   "execution_count": 4,
   "metadata": {},
   "outputs": [
    {
     "name": "stdin",
     "output_type": "stream",
     "text": [
      " 2\n",
      " Russia Moscow Peter Novgorod Kaluga\n",
      " Ukraine Kiev Donetsk Odessa\n",
      " 3\n",
      " Odessa\n",
      " Moscow\n",
      " Novgorod\n"
     ]
    },
    {
     "name": "stdout",
     "output_type": "stream",
     "text": [
      "Ukraine\n",
      "Russia\n",
      "Russia\n"
     ]
    }
   ],
   "source": [
    "n = int(input())\n",
    "countries = {}\n",
    "while n > 0:\n",
    "    temp = list(input().split())\n",
    "    for i in range(1, len(temp)):\n",
    "        countries[temp[i]] = temp[0]\n",
    "    n -= 1\n",
    "# print(countries)\n",
    "m = int(input())\n",
    "townlist = []\n",
    "for i in range(m):\n",
    "    townlist.append(input())\n",
    "for town in townlist:\n",
    "    print(countries[town])\n"
   ]
  },
  {
   "cell_type": "code",
   "execution_count": null,
   "metadata": {},
   "outputs": [],
   "source": []
  },
  {
   "cell_type": "code",
   "execution_count": 14,
   "metadata": {},
   "outputs": [
    {
     "name": "stdout",
     "output_type": "stream",
     "text": [
      "one two one tho three\n",
      "0 0 1 0 00 "
     ]
    }
   ],
   "source": [
    "file = open('inputWordNum.txt', 'r', encoding='utf8')\n",
    "words = {}\n",
    "answer = []\n",
    "for line in file:\n",
    "    temp = line.strip().split()\n",
    "    print(*temp)\n",
    "    for word in temp:\n",
    "        words[word] = words.get(word, -1) + 1\n",
    "        answer.append(words[word])\n",
    "for i in range(len(answer)):\n",
    "    if i == len(answer) - 1:\n",
    "        print(answer[i], end='')\n",
    "    print(answer[i], end=' ')\n"
   ]
  },
  {
   "cell_type": "code",
   "execution_count": null,
   "metadata": {},
   "outputs": [],
   "source": []
  },
  {
   "cell_type": "code",
   "execution_count": 16,
   "metadata": {},
   "outputs": [
    {
     "name": "stdin",
     "output_type": "stream",
     "text": [
      " 3\n",
      " hello hi\n",
      " bye goodbye\n",
      " list array\n",
      " goodbye\n"
     ]
    },
    {
     "name": "stdout",
     "output_type": "stream",
     "text": [
      "bye\n"
     ]
    }
   ],
   "source": [
    "n = int(input())\n",
    "diq = {}\n",
    "while n > 0:\n",
    "    temp = list(input().split())\n",
    "    diq[temp[0]] = temp[1]\n",
    "    diq[temp[1]] = temp[0]\n",
    "    n -= 1\n",
    "word = input()\n",
    "print(diq[word])\n"
   ]
  },
  {
   "cell_type": "code",
   "execution_count": null,
   "metadata": {},
   "outputs": [],
   "source": []
  },
  {
   "cell_type": "code",
   "execution_count": null,
   "metadata": {},
   "outputs": [],
   "source": []
  },
  {
   "cell_type": "code",
   "execution_count": 20,
   "metadata": {},
   "outputs": [
    {
     "name": "stdout",
     "output_type": "stream",
     "text": [
      "McCain 16\n",
      "Obama 17\n"
     ]
    }
   ],
   "source": [
    "file = open('inputVote.txt', 'r', encoding='utf8')\n",
    "diq = {}\n",
    "for line in file:\n",
    "    temp = line.split()\n",
    "    diq[temp[0]] = diq.get(temp[0], 0) + int(temp[1])\n",
    "for i in sorted(diq):\n",
    "    print(i, diq[i])\n"
   ]
  },
  {
   "cell_type": "code",
   "execution_count": null,
   "metadata": {},
   "outputs": [],
   "source": []
  },
  {
   "cell_type": "code",
   "execution_count": 34,
   "metadata": {},
   "outputs": [
    {
     "name": "stdout",
     "output_type": "stream",
     "text": [
      "ding\n"
     ]
    }
   ],
   "source": [
    "file = open('inputWords2.txt', 'r', encoding='utf8')\n",
    "diq = {}\n",
    "for line in file:\n",
    "    temp = line.strip().split()\n",
    "    for i in temp:\n",
    "        diq[i] = diq.get(i, 0) + 1\n",
    "# print(diq)\n",
    "answer = []\n",
    "t = 0\n",
    "for elem in diq:\n",
    "    if diq[elem] > t:\n",
    "        answer = []\n",
    "        answer.append([elem, diq[elem]])\n",
    "        t = diq[elem]\n",
    "    elif diq[elem] == t:\n",
    "        answer.append([elem, diq[elem]])\n",
    "answer.sort(key=lambda x: x[0])\n",
    "print(answer[0][0])\n"
   ]
  },
  {
   "cell_type": "code",
   "execution_count": null,
   "metadata": {},
   "outputs": [],
   "source": []
  },
  {
   "cell_type": "code",
   "execution_count": 49,
   "metadata": {},
   "outputs": [
    {
     "name": "stdout",
     "output_type": "stream",
     "text": [
      "damme\n",
      "is\n",
      "name\n",
      "van\n",
      "bond\n",
      "claude\n",
      "hi\n",
      "my\n",
      "james\n",
      "jean\n",
      "what\n",
      "your\n"
     ]
    }
   ],
   "source": [
    "file = open('inputvandamm.txt', 'r', encoding='utf8')\n",
    "diq = {}\n",
    "for line in file:\n",
    "    temp = line.strip().split()\n",
    "    for i in temp:\n",
    "        diq[i] = diq.get(i, 0) + 1\n",
    "answer = []\n",
    "for elem in diq:\n",
    "    answer.append((diq[elem], elem))\n",
    "\n",
    "\n",
    "def sorter(a):\n",
    "    return -a[0], a[1]\n",
    "\n",
    "answer.sort(key=sorter)\n",
    "# print(answer)\n",
    "for j in answer:\n",
    "    print(j[1])\n"
   ]
  },
  {
   "cell_type": "code",
   "execution_count": null,
   "metadata": {},
   "outputs": [],
   "source": []
  },
  {
   "cell_type": "code",
   "execution_count": null,
   "metadata": {},
   "outputs": [],
   "source": []
  },
  {
   "cell_type": "code",
   "execution_count": 73,
   "metadata": {},
   "outputs": [],
   "source": [
    "file = open('inputpres2.txt', 'r', encoding='utf8')\n",
    "fout = open('output.txt', 'w', encoding='utf8')\n",
    "pres = {}\n",
    "k = 0\n",
    "for line in file:\n",
    "    line = line.strip()\n",
    "    pres[line] = pres.get(line, 0) + 1\n",
    "    k += 1\n",
    "# print(pres)\n",
    "answer = []\n",
    "for elem in pres:\n",
    "    answer.append((pres[elem], elem))\n",
    "# print(answer)\n",
    "answer.sort(key=lambda x: x[0], reverse=True)\n",
    "# print(answer)\n",
    "if answer[0][0] > k / 2:\n",
    "    print(answer[0][1], file=fout)\n",
    "else:\n",
    "    print(answer[0][1], file=fout)\n",
    "    print(answer[1][1], file=fout)\n",
    "fout.close()\n"
   ]
  },
  {
   "cell_type": "code",
   "execution_count": null,
   "metadata": {},
   "outputs": [],
   "source": []
  },
  {
   "cell_type": "code",
   "execution_count": null,
   "metadata": {},
   "outputs": [],
   "source": []
  },
  {
   "cell_type": "code",
   "execution_count": null,
   "metadata": {},
   "outputs": [],
   "source": []
  },
  {
   "cell_type": "code",
   "execution_count": null,
   "metadata": {},
   "outputs": [],
   "source": []
  },
  {
   "cell_type": "code",
   "execution_count": null,
   "metadata": {},
   "outputs": [],
   "source": []
  },
  {
   "cell_type": "code",
   "execution_count": null,
   "metadata": {},
   "outputs": [],
   "source": []
  },
  {
   "cell_type": "code",
   "execution_count": null,
   "metadata": {},
   "outputs": [],
   "source": []
  },
  {
   "cell_type": "code",
   "execution_count": null,
   "metadata": {},
   "outputs": [],
   "source": []
  },
  {
   "cell_type": "code",
   "execution_count": null,
   "metadata": {},
   "outputs": [],
   "source": []
  },
  {
   "cell_type": "code",
   "execution_count": null,
   "metadata": {},
   "outputs": [],
   "source": []
  }
 ],
 "metadata": {
  "kernelspec": {
   "display_name": "Python 3",
   "language": "python",
   "name": "python3"
  },
  "language_info": {
   "codemirror_mode": {
    "name": "ipython",
    "version": 3
   },
   "file_extension": ".py",
   "mimetype": "text/x-python",
   "name": "python",
   "nbconvert_exporter": "python",
   "pygments_lexer": "ipython3",
   "version": "3.7.3"
  }
 },
 "nbformat": 4,
 "nbformat_minor": 2
}
