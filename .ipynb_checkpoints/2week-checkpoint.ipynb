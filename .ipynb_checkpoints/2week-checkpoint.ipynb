{
 "cells": [
  {
   "cell_type": "code",
   "execution_count": 16,
   "metadata": {},
   "outputs": [],
   "source": [
    "l1 = [5, 10]\n",
    "l2 = [7, 11]\n",
    "\n",
    "lcon = list(set(l1 + l2))\n",
    "lcon.sort()"
   ]
  },
  {
   "cell_type": "code",
   "execution_count": 17,
   "metadata": {},
   "outputs": [
    {
     "data": {
      "text/plain": [
       "[5, 7, 10, 11]"
      ]
     },
     "execution_count": 17,
     "metadata": {},
     "output_type": "execute_result"
    }
   ],
   "source": [
    "lcon"
   ]
  },
  {
   "cell_type": "code",
   "execution_count": null,
   "metadata": {},
   "outputs": [],
   "source": []
  },
  {
   "cell_type": "code",
   "execution_count": 22,
   "metadata": {},
   "outputs": [
    {
     "name": "stdin",
     "output_type": "stream",
     "text": [
      " 1000\n"
     ]
    },
    {
     "name": "stdout",
     "output_type": "stream",
     "text": [
      "NO\n"
     ]
    }
   ],
   "source": [
    "a = int(input())\n",
    "if (a % 4 == 0 and a % 100 != 0) or (a % 400 == 0):\n",
    "    print('YES')\n",
    "else:\n",
    "    print('NO')\n"
   ]
  },
  {
   "cell_type": "code",
   "execution_count": null,
   "metadata": {},
   "outputs": [],
   "source": []
  },
  {
   "cell_type": "code",
   "execution_count": 24,
   "metadata": {},
   "outputs": [
    {
     "name": "stdin",
     "output_type": "stream",
     "text": [
      " 4\n",
      " 4\n",
      " 5\n",
      " 6\n"
     ]
    },
    {
     "name": "stdout",
     "output_type": "stream",
     "text": [
      "NO\n"
     ]
    }
   ],
   "source": [
    "a1 = int(input())\n",
    "a2 = int(input())\n",
    "b1 = int(input())\n",
    "b2 = int(input())\n",
    "if (b1-1 <= a1 <= b1+1) and (b2-1 <= a2 <= b2+1):\n",
    "    print('YES')\n",
    "else:\n",
    "    print('NO')\n"
   ]
  },
  {
   "cell_type": "code",
   "execution_count": null,
   "metadata": {},
   "outputs": [],
   "source": []
  },
  {
   "cell_type": "code",
   "execution_count": 41,
   "metadata": {},
   "outputs": [
    {
     "name": "stdin",
     "output_type": "stream",
     "text": [
      " 4\n",
      " 6\n"
     ]
    },
    {
     "name": "stdout",
     "output_type": "stream",
     "text": [
      "YES\n"
     ]
    }
   ],
   "source": [
    "a = int(input())\n",
    "b = int(input())\n",
    "c = b - a\n",
    "if a == 1:\n",
    "    print('YES')\n",
    "elif (b % (c + 1) == 0):\n",
    "    print('YES')\n",
    "else:\n",
    "    print('NO')\n"
   ]
  },
  {
   "cell_type": "code",
   "execution_count": null,
   "metadata": {},
   "outputs": [],
   "source": []
  },
  {
   "cell_type": "code",
   "execution_count": null,
   "metadata": {},
   "outputs": [],
   "source": []
  },
  {
   "cell_type": "code",
   "execution_count": null,
   "metadata": {},
   "outputs": [],
   "source": [
    "a1 = int(input())\n",
    "a2 = int(input())\n",
    "b1 = int(input())\n",
    "b2 = int(input())\n",
    "if (a1 + a2) % 2 == (b1 + b2) % 2:\n",
    "    print('YES')\n",
    "else:\n",
    "    print('NO')\n"
   ]
  },
  {
   "cell_type": "code",
   "execution_count": null,
   "metadata": {},
   "outputs": [],
   "source": []
  },
  {
   "cell_type": "code",
   "execution_count": null,
   "metadata": {},
   "outputs": [],
   "source": []
  },
  {
   "cell_type": "code",
   "execution_count": null,
   "metadata": {},
   "outputs": [],
   "source": []
  },
  {
   "cell_type": "code",
   "execution_count": 49,
   "metadata": {},
   "outputs": [
    {
     "name": "stdin",
     "output_type": "stream",
     "text": [
      " 4\n",
      " 20\n",
      " 14\n"
     ]
    },
    {
     "name": "stdout",
     "output_type": "stream",
     "text": [
      "NO\n"
     ]
    }
   ],
   "source": [
    "n = int(input())\n",
    "m = int(input())\n",
    "k = int(input())\n",
    "if n == 0 or m == 0 or k == 0:\n",
    "    print('NO')\n",
    "elif k > n * m:\n",
    "    print('NO')\n",
    "elif k % n == 0:\n",
    "        print('YES')\n",
    "elif k % m == 0:\n",
    "        print('YES')\n",
    "else:\n",
    "    print('NO')\n"
   ]
  },
  {
   "cell_type": "code",
   "execution_count": null,
   "metadata": {},
   "outputs": [],
   "source": []
  },
  {
   "cell_type": "code",
   "execution_count": null,
   "metadata": {},
   "outputs": [],
   "source": []
  },
  {
   "cell_type": "code",
   "execution_count": null,
   "metadata": {},
   "outputs": [],
   "source": []
  },
  {
   "cell_type": "code",
   "execution_count": 53,
   "metadata": {},
   "outputs": [
    {
     "name": "stdin",
     "output_type": "stream",
     "text": [
      " 12\n"
     ]
    },
    {
     "name": "stdout",
     "output_type": "stream",
     "text": [
      "12 korov\n"
     ]
    }
   ],
   "source": [
    "a = int(input())\n",
    "if 10 < a < 20 or a % 10 == 0 or a % 10 == 5 or a % 10 == 6:\n",
    "    print(a, 'korov')\n",
    "elif a % 10 == 7 or a % 10 == 8 or a % 10 == 9:\n",
    "    print(a, 'korov')\n",
    "elif a % 10 == 1:\n",
    "    print(a, 'korova')\n",
    "else:\n",
    "    print(a, 'korovy')\n"
   ]
  },
  {
   "cell_type": "code",
   "execution_count": null,
   "metadata": {},
   "outputs": [],
   "source": []
  },
  {
   "cell_type": "code",
   "execution_count": null,
   "metadata": {},
   "outputs": [],
   "source": []
  },
  {
   "cell_type": "code",
   "execution_count": null,
   "metadata": {},
   "outputs": [],
   "source": [
    "a = int(input())\n",
    "if a > 0:\n",
    "    print(1)\n",
    "elif a == 0:\n",
    "    print(0)\n",
    "else:\n",
    "    print(-1)\n"
   ]
  },
  {
   "cell_type": "code",
   "execution_count": null,
   "metadata": {},
   "outputs": [],
   "source": []
  },
  {
   "cell_type": "code",
   "execution_count": null,
   "metadata": {},
   "outputs": [],
   "source": []
  },
  {
   "cell_type": "code",
   "execution_count": null,
   "metadata": {},
   "outputs": [],
   "source": []
  },
  {
   "cell_type": "code",
   "execution_count": 58,
   "metadata": {},
   "outputs": [
    {
     "name": "stdin",
     "output_type": "stream",
     "text": [
      " 1\n",
      " -2\n",
      " -2\n",
      " 1\n"
     ]
    },
    {
     "name": "stdout",
     "output_type": "stream",
     "text": [
      "NO\n"
     ]
    }
   ],
   "source": [
    "a1 = int(input())\n",
    "a2 = int(input())\n",
    "b1 = int(input())\n",
    "b2 = int(input())\n",
    "if a1*b1 > 0 and a2*b2 > 0:\n",
    "    print('YES')\n",
    "else:\n",
    "    print('NO')\n"
   ]
  },
  {
   "cell_type": "code",
   "execution_count": null,
   "metadata": {},
   "outputs": [],
   "source": []
  },
  {
   "cell_type": "code",
   "execution_count": null,
   "metadata": {},
   "outputs": [],
   "source": []
  },
  {
   "cell_type": "code",
   "execution_count": 93,
   "metadata": {},
   "outputs": [
    {
     "name": "stdin",
     "output_type": "stream",
     "text": [
      " 1\n",
      " 4\n",
      " 2\n",
      " 1\n"
     ]
    },
    {
     "name": "stdout",
     "output_type": "stream",
     "text": [
      "YES\n"
     ]
    }
   ],
   "source": [
    "a = int(input())\n",
    "b = int(input())\n",
    "c = int(input())\n",
    "d = int(input())\n",
    "if a <= c and b <= d:\n",
    "    if a % 2 == 1 and b % 2 == 1:\n",
    "        if c % 2 == 1 and d % 2 == 1:\n",
    "            print(\"Yes\")\n",
    "        elif c % 2 == 0 and d % 2 == 0:\n",
    "            print('Yes')\n",
    "        else:\n",
    "            print('No')\n",
    "    elif a % 2 == 0 and b % 2 == 0:\n",
    "        if c % 2 == 1 and d % 2 == 1:\n",
    "            print(\"Yes\")\n",
    "        elif c % 2 == 0 and d % 2 == 0:\n",
    "            print('Yes')\n",
    "        else:\n",
    "            print('No')\n",
    "else:\n",
    "    print('No')"
   ]
  },
  {
   "cell_type": "code",
   "execution_count": null,
   "metadata": {},
   "outputs": [],
   "source": []
  },
  {
   "cell_type": "code",
   "execution_count": null,
   "metadata": {},
   "outputs": [],
   "source": []
  },
  {
   "cell_type": "code",
   "execution_count": null,
   "metadata": {},
   "outputs": [],
   "source": []
  },
  {
   "cell_type": "code",
   "execution_count": 1,
   "metadata": {},
   "outputs": [
    {
     "name": "stdin",
     "output_type": "stream",
     "text": [
      " 1\n",
      " 2\n",
      " 3\n"
     ]
    },
    {
     "name": "stdout",
     "output_type": "stream",
     "text": [
      "YES\n"
     ]
    }
   ],
   "source": [
    "a = int(input())\n",
    "b = int(input())\n",
    "c = int(input())\n",
    "if a % 2 == 0 and (b % 2 == 1 or c % 2 == 1):\n",
    "    print('YES')\n",
    "elif b % 2 == 0 and (a % 2 == 1 or c % 2 == 1):\n",
    "    print('YES')\n",
    "elif c % 2 == 0 and (a % 2 == 1 or b % 2 == 1):\n",
    "    print('YES')\n",
    "else:\n",
    "    print('NO')\n"
   ]
  },
  {
   "cell_type": "code",
   "execution_count": null,
   "metadata": {},
   "outputs": [],
   "source": []
  },
  {
   "cell_type": "code",
   "execution_count": null,
   "metadata": {},
   "outputs": [],
   "source": []
  },
  {
   "cell_type": "code",
   "execution_count": 6,
   "metadata": {},
   "outputs": [
    {
     "name": "stdin",
     "output_type": "stream",
     "text": [
      " 12\n",
      " 15\n",
      " 11\n"
     ]
    },
    {
     "name": "stdout",
     "output_type": "stream",
     "text": [
      "acute\n"
     ]
    }
   ],
   "source": [
    "a = int(input())\n",
    "b = int(input())\n",
    "c = int(input())\n",
    "if a + b <= c or a + c <= b or b + c <= a:\n",
    "    print('impossible')\n",
    "elif a*a == b*b + c*c or b*b == a*a + c*c or c*c == a*a + b*b:\n",
    "    print('rectangular')\n",
    "elif a*a > b*b + c*c or b*b > a*a + c*c or c*c > a*a + b*b:\n",
    "    print('obtuse')\n",
    "else:\n",
    "    print('acute')\n"
   ]
  },
  {
   "cell_type": "code",
   "execution_count": null,
   "metadata": {},
   "outputs": [],
   "source": []
  },
  {
   "cell_type": "code",
   "execution_count": null,
   "metadata": {},
   "outputs": [],
   "source": []
  },
  {
   "cell_type": "code",
   "execution_count": 9,
   "metadata": {},
   "outputs": [
    {
     "name": "stdin",
     "output_type": "stream",
     "text": [
      " 7\n",
      " 0\n",
      " 2\n"
     ]
    },
    {
     "name": "stdout",
     "output_type": "stream",
     "text": [
      "0 2 7\n"
     ]
    }
   ],
   "source": [
    "a, b, c = int(input()), int(input()), int(input())\n",
    "if a > c:\n",
    "    a, c = c, a\n",
    "if a > b:\n",
    "    a, b = b, a\n",
    "if b > c:\n",
    "    b, c = c, b\n",
    "print(a, b, c)\n"
   ]
  },
  {
   "cell_type": "code",
   "execution_count": null,
   "metadata": {},
   "outputs": [],
   "source": []
  },
  {
   "cell_type": "code",
   "execution_count": null,
   "metadata": {},
   "outputs": [],
   "source": []
  },
  {
   "cell_type": "code",
   "execution_count": 13,
   "metadata": {},
   "outputs": [
    {
     "name": "stdin",
     "output_type": "stream",
     "text": [
      " 11\n",
      " 23\n",
      " 234\n"
     ]
    },
    {
     "name": "stdout",
     "output_type": "stream",
     "text": [
      "0\n"
     ]
    }
   ],
   "source": [
    "a, b, c = int(input()), int(input()), int(input())\n",
    "if a == b == c:\n",
    "    print(3)\n",
    "elif a == b or a == c or b == c:\n",
    "    print(2)\n",
    "else:\n",
    "    print(0)\n"
   ]
  },
  {
   "cell_type": "code",
   "execution_count": null,
   "metadata": {},
   "outputs": [],
   "source": []
  },
  {
   "cell_type": "code",
   "execution_count": null,
   "metadata": {},
   "outputs": [],
   "source": []
  },
  {
   "cell_type": "code",
   "execution_count": 15,
   "metadata": {},
   "outputs": [
    {
     "name": "stdin",
     "output_type": "stream",
     "text": [
      " 2\n",
      " 2\n",
      " 2\n",
      " 1\n",
      " 1\n"
     ]
    },
    {
     "name": "stdout",
     "output_type": "stream",
     "text": [
      "NO\n"
     ]
    }
   ],
   "source": [
    "a, b, c = int(input()), int(input()), int(input())\n",
    "d, e = int(input()), int(input())\n",
    "if d >= a or d >= b or d >= c:\n",
    "    if e >= a or e >= b or e >= c:\n",
    "        print('YES')\n",
    "    else:\n",
    "        print('NO')\n",
    "else:\n",
    "    print('NO')\n"
   ]
  },
  {
   "cell_type": "code",
   "execution_count": null,
   "metadata": {},
   "outputs": [],
   "source": []
  },
  {
   "cell_type": "code",
   "execution_count": null,
   "metadata": {},
   "outputs": [],
   "source": []
  },
  {
   "cell_type": "code",
   "execution_count": 21,
   "metadata": {},
   "outputs": [
    {
     "name": "stdin",
     "output_type": "stream",
     "text": [
      " 2\n",
      " 2\n",
      " 3\n",
      " 3\n",
      " 2\n",
      " 1\n"
     ]
    },
    {
     "name": "stdout",
     "output_type": "stream",
     "text": [
      "The first box is larger than the second one\n"
     ]
    }
   ],
   "source": [
    "a1, b1, c1 = int(input()), int(input()), int(input())\n",
    "a2, b2, c2 = int(input()), int(input()), int(input())\n",
    "if a1 > c1:\n",
    "    a1, c1 = c1, a1\n",
    "if a1 > b1:\n",
    "    a1, b1 = b1, a1\n",
    "if b1 > c1:\n",
    "    b1, c1 = c1, b1\n",
    "if a2 > c2:\n",
    "    a2, c2 = c2, a2\n",
    "if a2 > b2:\n",
    "    a2, b2 = b2, a2\n",
    "if b2 > c2:\n",
    "    b2, c2 = c2, b2\n",
    "if a1 == a2 and b1 == b2 and c1 == c2:\n",
    "    print('Boxes are equal')\n",
    "elif a1 >= a2 and b1 >= b2 and c1 >= c2:\n",
    "    print('The first box is larger than the second one')\n",
    "elif a1 <= a2 and b1 <= b2 and c1 <= c2:\n",
    "    print('The first box is smaller than the second one')\n",
    "else:\n",
    "    print('Boxes are incomparable')\n"
   ]
  },
  {
   "cell_type": "code",
   "execution_count": null,
   "metadata": {},
   "outputs": [],
   "source": []
  },
  {
   "cell_type": "code",
   "execution_count": null,
   "metadata": {},
   "outputs": [],
   "source": []
  },
  {
   "cell_type": "code",
   "execution_count": 27,
   "metadata": {},
   "outputs": [
    {
     "name": "stdin",
     "output_type": "stream",
     "text": [
      " 100\n",
      " 100\n",
      " 1\n",
      " 2\n",
      " 2\n",
      " 2\n"
     ]
    },
    {
     "name": "stdout",
     "output_type": "stream",
     "text": [
      "0\n"
     ]
    }
   ],
   "source": [
    "a1 = int(input())\n",
    "b1 = int(input())\n",
    "c1 = int(input())\n",
    "x = int(input())\n",
    "y = int(input())\n",
    "z = int(input())\n",
    "d1 = (a1 // x) * (b1 // y) * (c1 // z)\n",
    "d2 = (a1 // x) * (c1 // y) * (b1 // z)\n",
    "d3 = (b1 // x) * (c1 // y) * (a1 // z)\n",
    "d4 = (b1 // x) * (a1 // y) * (c1 // z)\n",
    "d5 = (c1 // x) * (a1 // y) * (b1 // z)\n",
    "d6 = (c1 // x) * (b1 // y) * (a1 // z)\n",
    "if d1 >= d2:\n",
    "    d2 = d1\n",
    "if d3 >= d4:\n",
    "    d4 = d2\n",
    "if d5 >= d6:\n",
    "    d6 = d5\n",
    "if d2 >= d4 and d2 >= d6:\n",
    "    print(d2)\n",
    "elif d4 >= d6:\n",
    "    print(d4)\n",
    "else:\n",
    "    print(d6)\n"
   ]
  },
  {
   "cell_type": "code",
   "execution_count": null,
   "metadata": {},
   "outputs": [],
   "source": []
  },
  {
   "cell_type": "code",
   "execution_count": null,
   "metadata": {},
   "outputs": [],
   "source": []
  },
  {
   "cell_type": "code",
   "execution_count": 44,
   "metadata": {},
   "outputs": [
    {
     "name": "stdin",
     "output_type": "stream",
     "text": [
      " 26\n"
     ]
    },
    {
     "name": "stdout",
     "output_type": "stream",
     "text": [
      "YES\n"
     ]
    }
   ],
   "source": [
    "k = int(input())\n",
    "if k == 1 or k == 2:\n",
    "    print('NO')\n",
    "elif k % 3 == 0 or k % 5 == 0 or k % 8 == 0:\n",
    "    print('YES')\n",
    "elif (k % 3) % 5 == 0 or (k % 8) % 5 == 0:\n",
    "    print('YES')\n",
    "elif (k % 5) % 3 == 0 or (k % 8) % 3 == 0:\n",
    "    print('YES')\n",
    "elif (k % 5) % 8 == 0 or (k % 3) % 8 == 0:\n",
    "    print('YES')\n",
    "elif ((k - 5) % 3) == 0 or ((k - 8) % 3) == 0:\n",
    "    print('YES')\n",
    "elif ((k - 3) % 5) == 0 or ((k - 8) % 5) == 0:\n",
    "    print('YES')\n",
    "elif ((k - 5) % 8) == 0 or ((k - 3) % 8) == 0:\n",
    "    print('YES')\n",
    "elif ((k - 5) % 3) % 5 == 0 or ((k - 8) % 3) % 5 == 0:\n",
    "    print('YES')\n",
    "elif ((k - 5) % 3) % 8 == 0 or ((k - 8) % 3) % 8 == 0:\n",
    "    print('YES')\n",
    "elif ((k - 3) % 5) % 3 == 0 or ((k - 8) % 5) % 3 == 0:\n",
    "    print('YES')\n",
    "elif ((k - 3) % 5) % 8 == 0 or ((k - 8) % 5) % 8 == 0:\n",
    "    print('YES')\n",
    "elif ((k - 5) % 8) % 3 == 0 or ((k - 3) % 8) % 3 == 0:\n",
    "    print('YES')\n",
    "elif ((k - 5) % 8) % 5 == 0 or ((k - 3) % 8) % 5 == 0:\n",
    "    print('YES')\n",
    "else:\n",
    "    print('NO')\n"
   ]
  },
  {
   "cell_type": "code",
   "execution_count": null,
   "metadata": {},
   "outputs": [],
   "source": []
  },
  {
   "cell_type": "code",
   "execution_count": null,
   "metadata": {},
   "outputs": [],
   "source": [
    "k = int(input())\n",
    "if k == 0 or k == 1 or k == 2 or k == 4 or k == 7:\n",
    "    print('NO')\n",
    "else:\n",
    "    print('YES')\n"
   ]
  },
  {
   "cell_type": "code",
   "execution_count": null,
   "metadata": {},
   "outputs": [],
   "source": []
  },
  {
   "cell_type": "code",
   "execution_count": null,
   "metadata": {},
   "outputs": [],
   "source": []
  },
  {
   "cell_type": "code",
   "execution_count": null,
   "metadata": {},
   "outputs": [],
   "source": []
  },
  {
   "cell_type": "code",
   "execution_count": 48,
   "metadata": {},
   "outputs": [
    {
     "name": "stdin",
     "output_type": "stream",
     "text": [
      " 10\n"
     ]
    },
    {
     "name": "stdout",
     "output_type": "stream",
     "text": [
      "1 4 9 "
     ]
    }
   ],
   "source": [
    "i = int(input())\n",
    "k = 0\n",
    "t = 1\n",
    "while True:\n",
    "    k = t*t\n",
    "    if k > i:\n",
    "        break\n",
    "    print(k, end=' ')\n",
    "    t += 1\n"
   ]
  },
  {
   "cell_type": "code",
   "execution_count": null,
   "metadata": {},
   "outputs": [],
   "source": []
  },
  {
   "cell_type": "code",
   "execution_count": 55,
   "metadata": {},
   "outputs": [
    {
     "name": "stdin",
     "output_type": "stream",
     "text": [
      " 21\n"
     ]
    },
    {
     "name": "stdout",
     "output_type": "stream",
     "text": [
      "3\n"
     ]
    }
   ],
   "source": [
    "i = int(input())\n",
    "k = 2\n",
    "while True:\n",
    "    if i % k == 0:\n",
    "        break\n",
    "    else:\n",
    "        k += 1\n",
    "print(k)\n"
   ]
  },
  {
   "cell_type": "code",
   "execution_count": null,
   "metadata": {},
   "outputs": [],
   "source": []
  },
  {
   "cell_type": "code",
   "execution_count": 58,
   "metadata": {},
   "outputs": [
    {
     "name": "stdin",
     "output_type": "stream",
     "text": [
      " 8\n"
     ]
    },
    {
     "name": "stdout",
     "output_type": "stream",
     "text": [
      "1 2 4 8 "
     ]
    }
   ],
   "source": [
    "i = int(input())\n",
    "k = 1\n",
    "print(1, end=' ')\n",
    "while True:\n",
    "    k = k * 2\n",
    "    if k > i:\n",
    "        break\n",
    "    print(k, end=' ')\n"
   ]
  },
  {
   "cell_type": "code",
   "execution_count": null,
   "metadata": {},
   "outputs": [],
   "source": []
  },
  {
   "cell_type": "code",
   "execution_count": 64,
   "metadata": {},
   "outputs": [
    {
     "name": "stdin",
     "output_type": "stream",
     "text": [
      " 10\n"
     ]
    },
    {
     "name": "stdout",
     "output_type": "stream",
     "text": [
      "NO\n"
     ]
    }
   ],
   "source": [
    "i = int(input())\n",
    "k = 1\n",
    "if i == 1:\n",
    "    print('YES')\n",
    "else:\n",
    "    while True:\n",
    "        k = k * 2\n",
    "        if k == i:\n",
    "            print('YES')\n",
    "            break\n",
    "        else:\n",
    "            if k > i:\n",
    "                print('NO')\n",
    "                break\n"
   ]
  },
  {
   "cell_type": "code",
   "execution_count": null,
   "metadata": {},
   "outputs": [],
   "source": []
  },
  {
   "cell_type": "code",
   "execution_count": null,
   "metadata": {},
   "outputs": [],
   "source": []
  },
  {
   "cell_type": "code",
   "execution_count": 69,
   "metadata": {},
   "outputs": [
    {
     "name": "stdin",
     "output_type": "stream",
     "text": [
      " 11\n"
     ]
    },
    {
     "name": "stdout",
     "output_type": "stream",
     "text": [
      "4\n"
     ]
    }
   ],
   "source": [
    "n = int(input())\n",
    "k = 1\n",
    "i = 0\n",
    "if n == 1:\n",
    "    print(0)\n",
    "else:\n",
    "    while True:\n",
    "        k = k * 2\n",
    "        i += 1\n",
    "        if k >= n:\n",
    "            print(i)\n",
    "            break\n"
   ]
  },
  {
   "cell_type": "code",
   "execution_count": null,
   "metadata": {},
   "outputs": [],
   "source": []
  },
  {
   "cell_type": "code",
   "execution_count": null,
   "metadata": {},
   "outputs": [],
   "source": []
  },
  {
   "cell_type": "code",
   "execution_count": 72,
   "metadata": {},
   "outputs": [
    {
     "name": "stdin",
     "output_type": "stream",
     "text": [
      " 10\n",
      " 100\n"
     ]
    },
    {
     "name": "stdout",
     "output_type": "stream",
     "text": [
      "26\n"
     ]
    }
   ],
   "source": [
    "x, y = int(input()), int(input())\n",
    "k = 1\n",
    "if x >= y:\n",
    "    print(1)\n",
    "else:\n",
    "    while True:\n",
    "        k += 1\n",
    "        x = x * 0.1 + x\n",
    "        if x >= y:\n",
    "            print(k)\n",
    "            break\n"
   ]
  },
  {
   "cell_type": "code",
   "execution_count": null,
   "metadata": {},
   "outputs": [],
   "source": []
  },
  {
   "cell_type": "code",
   "execution_count": 76,
   "metadata": {},
   "outputs": [
    {
     "name": "stdin",
     "output_type": "stream",
     "text": [
      " 3\n",
      " 5\n",
      " 2\n",
      " 435\n",
      " 3453\n",
      " 0\n"
     ]
    },
    {
     "name": "stdout",
     "output_type": "stream",
     "text": [
      "3453\n"
     ]
    }
   ],
   "source": [
    "k = 0\n",
    "while True:\n",
    "    p = int(input())\n",
    "    if p > k and p != 0:\n",
    "        k = p\n",
    "    if p == 0:\n",
    "        print(k)\n",
    "        break\n"
   ]
  },
  {
   "cell_type": "code",
   "execution_count": null,
   "metadata": {},
   "outputs": [],
   "source": []
  },
  {
   "cell_type": "code",
   "execution_count": 88,
   "metadata": {},
   "outputs": [
    {
     "name": "stdin",
     "output_type": "stream",
     "text": [
      " 5\n"
     ]
    },
    {
     "name": "stdout",
     "output_type": "stream",
     "text": [
      "55\n"
     ]
    }
   ],
   "source": [
    "n = int(input())\n",
    "summa = 0\n",
    "p = 0\n",
    "while True:\n",
    "    p += 1\n",
    "    if p > n:\n",
    "        break\n",
    "    summa = summa + p**2\n",
    "print(summa)\n"
   ]
  },
  {
   "cell_type": "code",
   "execution_count": null,
   "metadata": {},
   "outputs": [],
   "source": []
  },
  {
   "cell_type": "code",
   "execution_count": null,
   "metadata": {},
   "outputs": [],
   "source": []
  },
  {
   "cell_type": "code",
   "execution_count": 92,
   "metadata": {},
   "outputs": [
    {
     "name": "stdin",
     "output_type": "stream",
     "text": [
      " 1 7 9 0 5\n"
     ]
    },
    {
     "ename": "ValueError",
     "evalue": "invalid literal for int() with base 10: '1 7 9 0 5'",
     "output_type": "error",
     "traceback": [
      "\u001b[1;31m---------------------------------------------------------------------------\u001b[0m",
      "\u001b[1;31mValueError\u001b[0m                                Traceback (most recent call last)",
      "\u001b[1;32m<ipython-input-92-74c9028cf7ce>\u001b[0m in \u001b[0;36m<module>\u001b[1;34m\u001b[0m\n\u001b[0;32m      1\u001b[0m \u001b[0mp\u001b[0m \u001b[1;33m=\u001b[0m \u001b[1;36m0\u001b[0m\u001b[1;33m\u001b[0m\u001b[1;33m\u001b[0m\u001b[0m\n\u001b[0;32m      2\u001b[0m \u001b[1;32mwhile\u001b[0m \u001b[1;32mTrue\u001b[0m\u001b[1;33m:\u001b[0m\u001b[1;33m\u001b[0m\u001b[1;33m\u001b[0m\u001b[0m\n\u001b[1;32m----> 3\u001b[1;33m     \u001b[0mi\u001b[0m \u001b[1;33m=\u001b[0m \u001b[0mint\u001b[0m\u001b[1;33m(\u001b[0m\u001b[0minput\u001b[0m\u001b[1;33m(\u001b[0m\u001b[1;33m)\u001b[0m\u001b[1;33m)\u001b[0m\u001b[1;33m\u001b[0m\u001b[1;33m\u001b[0m\u001b[0m\n\u001b[0m\u001b[0;32m      4\u001b[0m     \u001b[1;32mif\u001b[0m \u001b[0mi\u001b[0m \u001b[1;33m>\u001b[0m \u001b[1;36m0\u001b[0m\u001b[1;33m:\u001b[0m\u001b[1;33m\u001b[0m\u001b[1;33m\u001b[0m\u001b[0m\n\u001b[0;32m      5\u001b[0m         \u001b[0mp\u001b[0m \u001b[1;33m+=\u001b[0m \u001b[1;36m1\u001b[0m\u001b[1;33m\u001b[0m\u001b[1;33m\u001b[0m\u001b[0m\n",
      "\u001b[1;31mValueError\u001b[0m: invalid literal for int() with base 10: '1 7 9 0 5'"
     ]
    }
   ],
   "source": [
    "p = 0\n",
    "while True:\n",
    "    i = int(input())\n",
    "    if i > 0:\n",
    "        p += 1\n",
    "    if i == 0:\n",
    "        break\n",
    "print(p)\n"
   ]
  },
  {
   "cell_type": "code",
   "execution_count": null,
   "metadata": {},
   "outputs": [],
   "source": []
  },
  {
   "cell_type": "code",
   "execution_count": null,
   "metadata": {},
   "outputs": [],
   "source": [
    "p = 0\n",
    "while True:\n",
    "    i = int(input())\n",
    "    if i > 0:\n",
    "        p += i\n",
    "    if i == 0:\n",
    "        break\n",
    "print(p)\n"
   ]
  },
  {
   "cell_type": "code",
   "execution_count": null,
   "metadata": {},
   "outputs": [],
   "source": []
  },
  {
   "cell_type": "code",
   "execution_count": null,
   "metadata": {},
   "outputs": [],
   "source": []
  },
  {
   "cell_type": "code",
   "execution_count": 1,
   "metadata": {},
   "outputs": [
    {
     "name": "stdin",
     "output_type": "stream",
     "text": [
      " 1\n",
      " 1\n",
      " 1\n",
      " 1\n",
      " 0\n"
     ]
    },
    {
     "name": "stdout",
     "output_type": "stream",
     "text": [
      "1.0\n"
     ]
    }
   ],
   "source": [
    "p = 0\n",
    "n = 0\n",
    "while True:\n",
    "    i = int(input())\n",
    "    if i != 0:\n",
    "        p += i\n",
    "        n += 1\n",
    "    if i == 0:\n",
    "        break\n",
    "print(p / n)\n"
   ]
  },
  {
   "cell_type": "code",
   "execution_count": null,
   "metadata": {},
   "outputs": [],
   "source": []
  },
  {
   "cell_type": "code",
   "execution_count": 2,
   "metadata": {},
   "outputs": [
    {
     "name": "stdin",
     "output_type": "stream",
     "text": [
      " 1\n",
      " 2\n",
      " 3\n",
      " 4\n",
      " 5\n",
      " 6\n",
      " 7\n",
      " 0\n"
     ]
    },
    {
     "name": "stdout",
     "output_type": "stream",
     "text": [
      "3\n"
     ]
    }
   ],
   "source": [
    "p = 0\n",
    "while True:\n",
    "    a = int(input())\n",
    "    if a == 0:\n",
    "        break\n",
    "    if a % 2 == 0:\n",
    "        p += 1\n",
    "print(p)\n"
   ]
  },
  {
   "cell_type": "code",
   "execution_count": null,
   "metadata": {},
   "outputs": [],
   "source": []
  },
  {
   "cell_type": "code",
   "execution_count": 5,
   "metadata": {},
   "outputs": [
    {
     "name": "stdin",
     "output_type": "stream",
     "text": [
      " 222\n",
      " 111\n",
      " 444\n",
      " 2\n",
      " 3\n",
      " 0\n"
     ]
    },
    {
     "name": "stdout",
     "output_type": "stream",
     "text": [
      "2\n"
     ]
    }
   ],
   "source": [
    "p = 0\n",
    "temp = int(input())\n",
    "while True:\n",
    "    i = int(input())\n",
    "    if i == 0:\n",
    "        break\n",
    "    if i > temp:\n",
    "        p += 1\n",
    "    temp = i\n",
    "print(p)\n"
   ]
  },
  {
   "cell_type": "code",
   "execution_count": null,
   "metadata": {},
   "outputs": [],
   "source": []
  },
  {
   "cell_type": "code",
   "execution_count": 15,
   "metadata": {},
   "outputs": [
    {
     "name": "stdin",
     "output_type": "stream",
     "text": [
      " 2\n",
      " 5\n",
      " 6\n",
      " 7\n",
      " 3\n",
      " 4\n",
      " 0\n"
     ]
    },
    {
     "name": "stdout",
     "output_type": "stream",
     "text": [
      "6\n"
     ]
    }
   ],
   "source": [
    "first = int(input())\n",
    "second = int(input())\n",
    "if first <= second:\n",
    "    first, second = second, first\n",
    "while True:\n",
    "    i = int(input())\n",
    "    if i == 0:\n",
    "        break\n",
    "    if i >= first:\n",
    "        second = first\n",
    "        first = i\n",
    "        continue\n",
    "    if i >= second:\n",
    "        second = i\n",
    "print(second)\n"
   ]
  },
  {
   "cell_type": "code",
   "execution_count": null,
   "metadata": {},
   "outputs": [],
   "source": []
  },
  {
   "cell_type": "code",
   "execution_count": null,
   "metadata": {},
   "outputs": [],
   "source": []
  },
  {
   "cell_type": "code",
   "execution_count": 18,
   "metadata": {},
   "outputs": [
    {
     "name": "stdin",
     "output_type": "stream",
     "text": [
      " 3\n",
      " 4\n",
      " 5\n",
      " 6\n",
      " 7\n",
      " 8\n",
      " 9\n",
      " 9\n",
      " 0\n"
     ]
    },
    {
     "name": "stdout",
     "output_type": "stream",
     "text": [
      "2\n"
     ]
    }
   ],
   "source": [
    "k = 0\n",
    "max = 0\n",
    "while True:\n",
    "    i = int(input())\n",
    "    if i == 0:\n",
    "        break\n",
    "    if i > max:\n",
    "        max = i\n",
    "        k = 1\n",
    "        continue\n",
    "    if i == max:\n",
    "        k += 1\n",
    "        continue\n",
    "print(k)\n"
   ]
  },
  {
   "cell_type": "code",
   "execution_count": null,
   "metadata": {},
   "outputs": [],
   "source": []
  },
  {
   "cell_type": "code",
   "execution_count": null,
   "metadata": {},
   "outputs": [],
   "source": []
  },
  {
   "cell_type": "code",
   "execution_count": 57,
   "metadata": {},
   "outputs": [
    {
     "name": "stdin",
     "output_type": "stream",
     "text": [
      " 6\n"
     ]
    },
    {
     "name": "stdout",
     "output_type": "stream",
     "text": [
      "8\n"
     ]
    }
   ],
   "source": [
    "n = int(input())\n",
    "fib1 = 0\n",
    "fib2 = 1\n",
    "temp = 0\n",
    "if n == 1:\n",
    "    temp = 1\n",
    "else:\n",
    "    while n > 1:\n",
    "        temp = fib2 + fib1\n",
    "        fib1 = fib2\n",
    "        fib2 = temp\n",
    "        n -= 1\n",
    "print(temp)\n"
   ]
  },
  {
   "cell_type": "code",
   "execution_count": null,
   "metadata": {},
   "outputs": [],
   "source": []
  },
  {
   "cell_type": "code",
   "execution_count": null,
   "metadata": {},
   "outputs": [],
   "source": []
  },
  {
   "cell_type": "code",
   "execution_count": 69,
   "metadata": {},
   "outputs": [
    {
     "name": "stdin",
     "output_type": "stream",
     "text": [
      " 610\n"
     ]
    },
    {
     "name": "stdout",
     "output_type": "stream",
     "text": [
      "15\n"
     ]
    }
   ],
   "source": [
    "n = int(input())\n",
    "fib1 = 0\n",
    "fib2 = 1\n",
    "temp = 0\n",
    "counter = 1\n",
    "if n == 1:\n",
    "    counter = 1\n",
    "elif n == 0:\n",
    "    counter = 0\n",
    "else:\n",
    "    while n > temp:\n",
    "        temp = fib2 + fib1\n",
    "        fib1 = fib2\n",
    "        fib2 = temp\n",
    "        counter += 1\n",
    "        if temp == n:\n",
    "            break\n",
    "        if temp > n:\n",
    "            counter = -1\n",
    "            break\n",
    "print(counter)\n"
   ]
  },
  {
   "cell_type": "code",
   "execution_count": null,
   "metadata": {},
   "outputs": [],
   "source": []
  },
  {
   "cell_type": "code",
   "execution_count": null,
   "metadata": {},
   "outputs": [],
   "source": []
  },
  {
   "cell_type": "code",
   "execution_count": 77,
   "metadata": {},
   "outputs": [
    {
     "name": "stdin",
     "output_type": "stream",
     "text": [
      " 179\n",
      " 20\n"
     ]
    },
    {
     "name": "stdout",
     "output_type": "stream",
     "text": [
      "-1\n",
      ":2\n",
      "-1\n",
      ":2\n",
      ":2\n",
      "-1\n",
      "-1\n"
     ]
    }
   ],
   "source": [
    "a = int(input())\n",
    "b = int(input())\n",
    "\n",
    "while a > b:\n",
    "    if a % 2 == 1:\n",
    "        a -= 1\n",
    "        print('-1')\n",
    "    elif a // 2 < b:\n",
    "        a -= 1\n",
    "        print('-1')\n",
    "        continue\n",
    "    else:\n",
    "        a = a // 2\n",
    "        print(':2')\n",
    "#print(a, b)\n"
   ]
  },
  {
   "cell_type": "code",
   "execution_count": null,
   "metadata": {},
   "outputs": [],
   "source": []
  },
  {
   "cell_type": "code",
   "execution_count": null,
   "metadata": {},
   "outputs": [],
   "source": []
  },
  {
   "cell_type": "code",
   "execution_count": 37,
   "metadata": {},
   "outputs": [
    {
     "name": "stdin",
     "output_type": "stream",
     "text": [
      " 234567789\n"
     ]
    },
    {
     "name": "stdout",
     "output_type": "stream",
     "text": [
      "987765432\n"
     ]
    }
   ],
   "source": [
    "a = int(input())\n",
    "i = 10\n",
    "k = 1\n",
    "k2 = 1\n",
    "p = 0\n",
    "t = 0\n",
    "while a // (i ** k) > 0:\n",
    "    k += 1\n",
    "k -= 1\n",
    "t = (a % 10) * (i ** k)\n",
    "k -= 1\n",
    "#print(k)\n",
    "#print(t)\n",
    "while a // (i ** k2) > 0:\n",
    "    t += (a // (10 ** k2) % 10) * (i ** k)\n",
    "    k2 += 1\n",
    "    k -= 1\n",
    "print(t)\n"
   ]
  },
  {
   "cell_type": "code",
   "execution_count": null,
   "metadata": {},
   "outputs": [],
   "source": []
  },
  {
   "cell_type": "code",
   "execution_count": 51,
   "metadata": {},
   "outputs": [
    {
     "name": "stdin",
     "output_type": "stream",
     "text": [
      " 10\n"
     ]
    },
    {
     "name": "stdout",
     "output_type": "stream",
     "text": [
      "9\n"
     ]
    }
   ],
   "source": [
    "chislo = int(input())\n",
    "a = 1\n",
    "counter = 0\n",
    "while a < chislo:\n",
    "    i = 10\n",
    "    k = 1\n",
    "    k2 = 1\n",
    "    p = 0\n",
    "    t = 0\n",
    "    while a // (i ** k) > 0:\n",
    "        k += 1\n",
    "    k -= 1\n",
    "    t = (a % 10) * (i ** k)\n",
    "    k -= 1\n",
    "# print(k)\n",
    "# print(t)\n",
    "    while a // (i ** k2) > 0:\n",
    "        t += (a // (10 ** k2) % 10) * (i ** k)\n",
    "        k2 += 1\n",
    "        k -= 1\n",
    "    if t == a:\n",
    "        counter += 1\n",
    "    a += 1\n",
    "if counter == 0:\n",
    "    counter = 1\n",
    "print(counter)\n"
   ]
  },
  {
   "cell_type": "code",
   "execution_count": null,
   "metadata": {},
   "outputs": [],
   "source": []
  },
  {
   "cell_type": "code",
   "execution_count": 57,
   "metadata": {},
   "outputs": [
    {
     "name": "stdin",
     "output_type": "stream",
     "text": [
      " 1\n",
      " 2\n",
      " 3\n",
      " 4\n",
      " 5\n",
      " 6\n",
      " 0\n"
     ]
    },
    {
     "name": "stdout",
     "output_type": "stream",
     "text": [
      "0\n"
     ]
    }
   ],
   "source": [
    "k1 = 0\n",
    "k2 = 0\n",
    "a1 = int(input())\n",
    "while True:\n",
    "    a2 = int(input())\n",
    "    if a2 == 0:\n",
    "        break\n",
    "    if a1 == a2:\n",
    "        k1 += 1\n",
    "        if k2 < k1:\n",
    "            k2 = k1\n",
    "            k2 += 1\n",
    "    else:\n",
    "        k1 = 0\n",
    "    a1 = a2\n",
    "print(k2)\n"
   ]
  },
  {
   "cell_type": "code",
   "execution_count": null,
   "metadata": {},
   "outputs": [],
   "source": []
  },
  {
   "cell_type": "code",
   "execution_count": null,
   "metadata": {},
   "outputs": [],
   "source": []
  },
  {
   "cell_type": "code",
   "execution_count": 5,
   "metadata": {},
   "outputs": [
    {
     "name": "stdin",
     "output_type": "stream",
     "text": [
      " 1\n",
      " 7\n",
      " 7\n",
      " 9\n",
      " 1\n",
      " 0\n"
     ]
    },
    {
     "name": "stdout",
     "output_type": "stream",
     "text": [
      "2\n"
     ]
    }
   ],
   "source": [
    "a1 = int(input())\n",
    "k1 = 1\n",
    "k0 = 1\n",
    "k2 = 1\n",
    "while True:\n",
    "    a2 = int(input())\n",
    "    if a2 == 0:\n",
    "        break\n",
    "    if a2 != a1:\n",
    "        if a2 > a1:\n",
    "            k1 += 1\n",
    "            k0 = 1\n",
    "        else:\n",
    "            k0 += 1\n",
    "            k1 = 1\n",
    "        if k2 < k1:\n",
    "            k2 = k1\n",
    "        if k2 < k0:\n",
    "            k2 = k0\n",
    "    else:\n",
    "        k1 = 0\n",
    "        k0 = 0\n",
    "    a1 = a2\n",
    "print(k2)\n"
   ]
  },
  {
   "cell_type": "code",
   "execution_count": null,
   "metadata": {},
   "outputs": [],
   "source": []
  },
  {
   "cell_type": "code",
   "execution_count": null,
   "metadata": {},
   "outputs": [],
   "source": []
  },
  {
   "cell_type": "code",
   "execution_count": 28,
   "metadata": {},
   "outputs": [
    {
     "name": "stdin",
     "output_type": "stream",
     "text": [
      " 1\n",
      " 2\n",
      " 1\n",
      " 1\n",
      " 2\n",
      " 1\n",
      " 2\n",
      " 1\n",
      " 0\n"
     ]
    },
    {
     "name": "stdout",
     "output_type": "stream",
     "text": [
      "2\n"
     ]
    }
   ],
   "source": [
    "a1 = int(input())\n",
    "a2 = int(input())\n",
    "l = 0\n",
    "maxl = 0\n",
    "maxl2 = 100000000000\n",
    "start = 0\n",
    "max2 = 0\n",
    "while True:\n",
    "    a3 = int(input())\n",
    "    if a3 == 0:\n",
    "        break\n",
    "    if a2 > a1 and a2 > a3:\n",
    "        start = 1\n",
    "        max2 += 1\n",
    "        if l > maxl and l != 0:\n",
    "            maxl = l\n",
    "        if maxl < maxl2 and maxl != 0:\n",
    "            maxl2 = maxl\n",
    "        l = 0\n",
    "        maxl = 0\n",
    "    if start == 1:\n",
    "        l += 1\n",
    "    a1 = a2\n",
    "    a2 = a3\n",
    "if max2 > 1:\n",
    "    print(maxl2)\n",
    "else:\n",
    "    print(0)\n"
   ]
  },
  {
   "cell_type": "code",
   "execution_count": null,
   "metadata": {},
   "outputs": [],
   "source": []
  },
  {
   "cell_type": "code",
   "execution_count": null,
   "metadata": {},
   "outputs": [],
   "source": []
  },
  {
   "cell_type": "code",
   "execution_count": null,
   "metadata": {},
   "outputs": [],
   "source": []
  }
 ],
 "metadata": {
  "kernelspec": {
   "display_name": "Python 3",
   "language": "python",
   "name": "python3"
  },
  "language_info": {
   "codemirror_mode": {
    "name": "ipython",
    "version": 3
   },
   "file_extension": ".py",
   "mimetype": "text/x-python",
   "name": "python",
   "nbconvert_exporter": "python",
   "pygments_lexer": "ipython3",
   "version": "3.7.3"
  }
 },
 "nbformat": 4,
 "nbformat_minor": 2
}
