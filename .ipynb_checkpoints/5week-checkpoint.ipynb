{
 "cells": [
  {
   "cell_type": "markdown",
   "metadata": {},
   "source": [
    "### КОРТЕЖИ"
   ]
  },
  {
   "cell_type": "code",
   "execution_count": 3,
   "metadata": {},
   "outputs": [
    {
     "name": "stdout",
     "output_type": "stream",
     "text": [
      "1\n",
      "(1, 2, 3, 4, 5, 6)\n",
      "6\n"
     ]
    }
   ],
   "source": [
    "mytup = (1, 2, 3)\n",
    "print(mytup[0])\n",
    "\n",
    "mytup2 = (4, 5, 6)\n",
    "print(mytup + mytup2)\n",
    "print(len(mytup + mytup2))"
   ]
  },
  {
   "cell_type": "code",
   "execution_count": null,
   "metadata": {},
   "outputs": [],
   "source": []
  },
  {
   "cell_type": "code",
   "execution_count": 4,
   "metadata": {},
   "outputs": [
    {
     "name": "stdout",
     "output_type": "stream",
     "text": [
      "(1, 3.14, 'asd')\n"
     ]
    }
   ],
   "source": [
    "mytup = (1, 3.14, 'asd')\n",
    "print(mytup)"
   ]
  },
  {
   "cell_type": "markdown",
   "metadata": {},
   "source": [
    "###### кортеж из одного элемента - SINGLETON"
   ]
  },
  {
   "cell_type": "code",
   "execution_count": 8,
   "metadata": {},
   "outputs": [
    {
     "name": "stdout",
     "output_type": "stream",
     "text": [
      "(2, 3)\n",
      "2\n"
     ]
    }
   ],
   "source": [
    "mytup = (1, (2, 3), (4,))\n",
    "print(mytup[1])\n",
    "print(mytup[1][0])"
   ]
  },
  {
   "cell_type": "code",
   "execution_count": null,
   "metadata": {},
   "outputs": [],
   "source": []
  },
  {
   "cell_type": "code",
   "execution_count": 9,
   "metadata": {},
   "outputs": [
    {
     "name": "stdout",
     "output_type": "stream",
     "text": [
      "1 2 3\n"
     ]
    }
   ],
   "source": [
    "mytup = 1, 2, 3\n",
    "a, b, c = mytup\n",
    "print(a, b, c)"
   ]
  },
  {
   "cell_type": "code",
   "execution_count": null,
   "metadata": {},
   "outputs": [],
   "source": []
  },
  {
   "cell_type": "markdown",
   "metadata": {},
   "source": [
    "### Итератор - правило, как получить следующий элемент (последовательный доступ)"
   ]
  },
  {
   "cell_type": "markdown",
   "metadata": {},
   "source": [
    "### range, string, tuple"
   ]
  },
  {
   "cell_type": "code",
   "execution_count": 11,
   "metadata": {},
   "outputs": [
    {
     "name": "stdout",
     "output_type": "stream",
     "text": [
      "range(0, 10)\n",
      "(0, 1, 2, 3, 4, 5, 6, 7, 8, 9)\n"
     ]
    }
   ],
   "source": [
    "myrange = range(10)\n",
    "print(myrange)\n",
    "print(tuple(myrange))"
   ]
  },
  {
   "cell_type": "code",
   "execution_count": 12,
   "metadata": {},
   "outputs": [
    {
     "name": "stdout",
     "output_type": "stream",
     "text": [
      "('a', 'b', 'c', 'd', 'e', 'f', 'g', 'h')\n"
     ]
    }
   ],
   "source": [
    "print(tuple('abcdefgh'))"
   ]
  },
  {
   "cell_type": "code",
   "execution_count": 13,
   "metadata": {},
   "outputs": [
    {
     "name": "stdout",
     "output_type": "stream",
     "text": [
      "red apple\n",
      "green apple\n",
      "yellow apple\n"
     ]
    }
   ],
   "source": [
    "for color in ('red', 'green', 'yellow'):\n",
    "    print(color, 'apple')"
   ]
  },
  {
   "cell_type": "code",
   "execution_count": 15,
   "metadata": {},
   "outputs": [
    {
     "name": "stdout",
     "output_type": "stream",
     "text": [
      "0\n",
      "1\n",
      "2\n",
      "3\n",
      "4\n"
     ]
    }
   ],
   "source": [
    "for i in range(5):\n",
    "    print(i)"
   ]
  },
  {
   "cell_type": "code",
   "execution_count": 21,
   "metadata": {},
   "outputs": [
    {
     "name": "stdout",
     "output_type": "stream",
     "text": [
      "10 11 12 13 14 15 16 17 18 19 20 "
     ]
    }
   ],
   "source": [
    "for i in range(10, 21):\n",
    "    print(i, end=' ')"
   ]
  },
  {
   "cell_type": "code",
   "execution_count": 26,
   "metadata": {},
   "outputs": [
    {
     "name": "stdout",
     "output_type": "stream",
     "text": [
      "11 13 15 17 19 21 23 25 27 29 "
     ]
    }
   ],
   "source": [
    "for i in range(11, 31, 2):\n",
    "    print(i, end=' ')"
   ]
  },
  {
   "cell_type": "code",
   "execution_count": 28,
   "metadata": {},
   "outputs": [
    {
     "name": "stdout",
     "output_type": "stream",
     "text": [
      "10 9 8 7 6 5 4 3 2 1 0 "
     ]
    }
   ],
   "source": [
    "for i in range(10, -1, -1):\n",
    "    print(i, end=' ')"
   ]
  },
  {
   "cell_type": "code",
   "execution_count": 29,
   "metadata": {},
   "outputs": [
    {
     "name": "stdout",
     "output_type": "stream",
     "text": [
      "1 2 3 4 5 6 7 8 9 10 \n",
      "2 4 6 8 10 12 14 16 18 20 \n",
      "3 6 9 12 15 18 21 24 27 30 \n",
      "4 8 12 16 20 24 28 32 36 40 \n",
      "5 10 15 20 25 30 35 40 45 50 \n",
      "6 12 18 24 30 36 42 48 54 60 \n",
      "7 14 21 28 35 42 49 56 63 70 \n",
      "8 16 24 32 40 48 56 64 72 80 \n",
      "9 18 27 36 45 54 63 72 81 90 \n",
      "10 20 30 40 50 60 70 80 90 100 \n"
     ]
    }
   ],
   "source": [
    "for i in range(1, 11):\n",
    "    for j in range(1, 11):\n",
    "        print(i * j, end=' ')\n",
    "    print()"
   ]
  },
  {
   "cell_type": "code",
   "execution_count": null,
   "metadata": {},
   "outputs": [],
   "source": []
  },
  {
   "cell_type": "code",
   "execution_count": 32,
   "metadata": {},
   "outputs": [
    {
     "name": "stdin",
     "output_type": "stream",
     "text": [
      " -3\n",
      " 14\n"
     ]
    },
    {
     "name": "stdout",
     "output_type": "stream",
     "text": [
      "-3 -2 -1 0 1 2 3 4 5 6 7 8 9 10 11 12 13 14 "
     ]
    }
   ],
   "source": [
    "a, b = int(input()), int(input())\n",
    "for i in range(a, b + 1):\n",
    "    print(i, end=' ')\n"
   ]
  },
  {
   "cell_type": "code",
   "execution_count": null,
   "metadata": {},
   "outputs": [],
   "source": []
  },
  {
   "cell_type": "code",
   "execution_count": 45,
   "metadata": {},
   "outputs": [
    {
     "name": "stdin",
     "output_type": "stream",
     "text": [
      " 179\n",
      " 179\n"
     ]
    },
    {
     "name": "stdout",
     "output_type": "stream",
     "text": [
      "179 "
     ]
    }
   ],
   "source": [
    "a, b = int(input()), int(input())\n",
    "if a < b:\n",
    "    for i in range(a, b + 1):\n",
    "        print(i, end=' ')\n",
    "else:\n",
    "    for i in range(a, b - 1, -1):\n",
    "        print(i, end=' ')\n"
   ]
  },
  {
   "cell_type": "code",
   "execution_count": null,
   "metadata": {},
   "outputs": [],
   "source": []
  },
  {
   "cell_type": "code",
   "execution_count": null,
   "metadata": {},
   "outputs": [],
   "source": []
  },
  {
   "cell_type": "code",
   "execution_count": 71,
   "metadata": {},
   "outputs": [
    {
     "name": "stdin",
     "output_type": "stream",
     "text": [
      " 2\n"
     ]
    },
    {
     "name": "stdout",
     "output_type": "stream",
     "text": [
      "99 97 95 93 91 89 87 85 83 81 79 77 75 73 71 69 67 65 63 61 59 57 55 53 51 49 47 45 43 41 39 37 35 33 31 29 27 25 23 21 19 17 15 13 11 "
     ]
    }
   ],
   "source": [
    "n = int(input())\n",
    "for i in range((10 ** n - 1), ((10 ** (n - 1)) - 1), -2):\n",
    "    print(i, end=' ')\n"
   ]
  },
  {
   "cell_type": "code",
   "execution_count": null,
   "metadata": {},
   "outputs": [],
   "source": []
  },
  {
   "cell_type": "code",
   "execution_count": null,
   "metadata": {},
   "outputs": [],
   "source": []
  },
  {
   "cell_type": "code",
   "execution_count": 73,
   "metadata": {},
   "outputs": [
    {
     "name": "stdin",
     "output_type": "stream",
     "text": [
      " 3\n"
     ]
    },
    {
     "name": "stdout",
     "output_type": "stream",
     "text": [
      "14\n"
     ]
    }
   ],
   "source": [
    "n = int(input())\n",
    "\n",
    "\n",
    "def func(n):\n",
    "    temp = 0\n",
    "    for i in range(1, n + 1):\n",
    "        temp += i ** 2\n",
    "    return temp\n",
    "\n",
    "print(func(n))\n"
   ]
  },
  {
   "cell_type": "code",
   "execution_count": null,
   "metadata": {},
   "outputs": [],
   "source": []
  },
  {
   "cell_type": "code",
   "execution_count": 27,
   "metadata": {},
   "outputs": [
    {
     "name": "stdin",
     "output_type": "stream",
     "text": [
      " 4\n"
     ]
    },
    {
     "name": "stdout",
     "output_type": "stream",
     "text": [
      "+___ +___ +___ +___ \n",
      "|1 / |2 / |3 / |4 / \n",
      "|__\\ |__\\ |__\\ |__\\ \n",
      "|    |    |    |    "
     ]
    }
   ],
   "source": [
    "n = int(input())\n",
    "i = 1\n",
    "s1 = r'+___ '\n",
    "s2 = r'|' + str(i) + ' / '\n",
    "s3 = r'|__\\ '\n",
    "s4 = r'|    '\n",
    "while n >= i:\n",
    "    print(s1, end='')\n",
    "    i += 1\n",
    "i = 1\n",
    "print()\n",
    "while n >= i:\n",
    "    print(s2, end='')\n",
    "    i += 1\n",
    "    s2 = '|' + str(i) + ' / '\n",
    "i = 1\n",
    "print()\n",
    "while n >= i:\n",
    "    print(s3, end='')\n",
    "    i += 1\n",
    "i = 1\n",
    "print()\n",
    "while n >= i:\n",
    "    print(s4, end='')\n",
    "    i += 1\n"
   ]
  },
  {
   "cell_type": "code",
   "execution_count": null,
   "metadata": {},
   "outputs": [],
   "source": []
  },
  {
   "cell_type": "code",
   "execution_count": null,
   "metadata": {},
   "outputs": [],
   "source": []
  },
  {
   "cell_type": "code",
   "execution_count": 30,
   "metadata": {},
   "outputs": [
    {
     "name": "stdin",
     "output_type": "stream",
     "text": [
      " 5\n",
      " 0\n",
      " 7\n",
      " 0\n",
      " 2\n",
      " 2\n"
     ]
    },
    {
     "name": "stdout",
     "output_type": "stream",
     "text": [
      "2\n"
     ]
    }
   ],
   "source": [
    "n = int(input())\n",
    "counter = 0\n",
    "while n > 0:\n",
    "    n -= 1\n",
    "    a = int(input())\n",
    "    if a == 0:\n",
    "        counter += 1\n",
    "print(counter)\n"
   ]
  },
  {
   "cell_type": "code",
   "execution_count": null,
   "metadata": {},
   "outputs": [],
   "source": []
  },
  {
   "cell_type": "code",
   "execution_count": 25,
   "metadata": {},
   "outputs": [
    {
     "name": "stdin",
     "output_type": "stream",
     "text": [
      " 5\n"
     ]
    },
    {
     "name": "stdout",
     "output_type": "stream",
     "text": [
      "1\n",
      "12\n",
      "123\n",
      "1234\n",
      "12345\n"
     ]
    }
   ],
   "source": [
    "n = int(input())\n",
    "n += 1\n",
    "l = 2\n",
    "for i in range(1, n):\n",
    "    sma = 0\n",
    "    counter = 1\n",
    "    for j in range(1, l):\n",
    "        sma = sma * 10 + counter\n",
    "        counter += 1\n",
    "    print(str(sma), end='')\n",
    "    print()\n",
    "    l += 1\n"
   ]
  },
  {
   "cell_type": "code",
   "execution_count": null,
   "metadata": {},
   "outputs": [],
   "source": []
  },
  {
   "cell_type": "code",
   "execution_count": 28,
   "metadata": {},
   "outputs": [
    {
     "name": "stdout",
     "output_type": "stream",
     "text": [
      "36\n"
     ]
    }
   ],
   "source": [
    "for i in range(10, 101):\n",
    "    if (i // 10) * (i % 10) * 2 == i:\n",
    "        print(i)\n"
   ]
  },
  {
   "cell_type": "code",
   "execution_count": null,
   "metadata": {},
   "outputs": [],
   "source": []
  },
  {
   "cell_type": "code",
   "execution_count": 41,
   "metadata": {},
   "outputs": [
    {
     "name": "stdin",
     "output_type": "stream",
     "text": [
      " 3\n"
     ]
    },
    {
     "name": "stdout",
     "output_type": "stream",
     "text": [
      "9\n"
     ]
    }
   ],
   "source": [
    "n = int(input())\n",
    "n += 1\n",
    "total = 0\n",
    "fac = 1\n",
    "for i in range(1, n):\n",
    "    fac = fac * i\n",
    "    total = total + fac\n",
    "print(total)\n"
   ]
  },
  {
   "cell_type": "code",
   "execution_count": null,
   "metadata": {},
   "outputs": [],
   "source": []
  },
  {
   "cell_type": "code",
   "execution_count": null,
   "metadata": {},
   "outputs": [],
   "source": []
  },
  {
   "cell_type": "code",
   "execution_count": 53,
   "metadata": {},
   "outputs": [
    {
     "name": "stdin",
     "output_type": "stream",
     "text": [
      " 1000\n",
      " 2000\n"
     ]
    },
    {
     "name": "stdout",
     "output_type": "stream",
     "text": [
      "1001\n",
      "1111\n",
      "1221\n",
      "1331\n",
      "1441\n",
      "1551\n",
      "1661\n",
      "1771\n",
      "1881\n",
      "1991\n"
     ]
    }
   ],
   "source": [
    "a, b = int(input()), int(input())\n",
    "b += 1\n",
    "for i in range(a, b):\n",
    "    temp1 = ((i % 10) * 10) + ((i // 10) % 10)\n",
    "    temp2 = i // 100\n",
    "    if temp1 == temp2:\n",
    "        print(i)\n"
   ]
  },
  {
   "cell_type": "code",
   "execution_count": null,
   "metadata": {},
   "outputs": [],
   "source": []
  },
  {
   "cell_type": "markdown",
   "metadata": {},
   "source": [
    "#### СПИСКИ"
   ]
  },
  {
   "cell_type": "code",
   "execution_count": 56,
   "metadata": {},
   "outputs": [],
   "source": [
    "a = [1, 2, 3]\n",
    "b = a\n",
    "c = a[:]\n",
    "a[0] = 15"
   ]
  },
  {
   "cell_type": "code",
   "execution_count": 57,
   "metadata": {},
   "outputs": [
    {
     "data": {
      "text/plain": [
       "[15, 2, 3]"
      ]
     },
     "execution_count": 57,
     "metadata": {},
     "output_type": "execute_result"
    }
   ],
   "source": [
    "b"
   ]
  },
  {
   "cell_type": "code",
   "execution_count": 58,
   "metadata": {},
   "outputs": [
    {
     "data": {
      "text/plain": [
       "[1, 2, 3]"
      ]
     },
     "execution_count": 58,
     "metadata": {},
     "output_type": "execute_result"
    }
   ],
   "source": [
    "c"
   ]
  },
  {
   "cell_type": "code",
   "execution_count": 59,
   "metadata": {},
   "outputs": [
    {
     "data": {
      "text/plain": [
       "[1, 2, 3]"
      ]
     },
     "execution_count": 59,
     "metadata": {},
     "output_type": "execute_result"
    }
   ],
   "source": [
    "a = [1, 2, 3]\n",
    "b = [1, 2, 3]\n",
    "a[0] = 8\n",
    "b"
   ]
  },
  {
   "cell_type": "code",
   "execution_count": null,
   "metadata": {},
   "outputs": [],
   "source": []
  },
  {
   "cell_type": "code",
   "execution_count": 64,
   "metadata": {},
   "outputs": [
    {
     "name": "stdout",
     "output_type": "stream",
     "text": [
      "None\n",
      "[1, 2, 3]\n"
     ]
    }
   ],
   "source": [
    "def reverse(flist):\n",
    "    flist = flist[::-1]\n",
    "    #return flist\n",
    "a = [1, 2, 3]\n",
    "print(reverse(a))\n",
    "print(a)"
   ]
  },
  {
   "cell_type": "code",
   "execution_count": null,
   "metadata": {},
   "outputs": [],
   "source": []
  },
  {
   "cell_type": "code",
   "execution_count": 69,
   "metadata": {},
   "outputs": [
    {
     "name": "stdout",
     "output_type": "stream",
     "text": [
      "['a', 'b', 'c', 'd', 'e']\n",
      "X!b!c!d!e\n"
     ]
    }
   ],
   "source": [
    "a = list('abcde')\n",
    "print(a)\n",
    "a[0] = 'X'\n",
    "b = '!'.join(a)\n",
    "print(b)"
   ]
  },
  {
   "cell_type": "code",
   "execution_count": null,
   "metadata": {},
   "outputs": [],
   "source": []
  },
  {
   "cell_type": "code",
   "execution_count": 71,
   "metadata": {},
   "outputs": [
    {
     "name": "stdout",
     "output_type": "stream",
     "text": [
      "['ASD', 'bcv', 'DSF']\n"
     ]
    }
   ],
   "source": [
    "s = 'ASD bcv DSF'\n",
    "wordlist = s.split()\n",
    "print(wordlist)"
   ]
  },
  {
   "cell_type": "markdown",
   "metadata": {},
   "source": [
    "# MAP ПРИМЕНЯЕТ МЕТОД КО ВСЕМ ЭЛЕМЕНТАМ СПИСКА"
   ]
  },
  {
   "cell_type": "code",
   "execution_count": 77,
   "metadata": {},
   "outputs": [
    {
     "name": "stdin",
     "output_type": "stream",
     "text": [
      " 123 2345 25645 6\n"
     ]
    },
    {
     "name": "stdout",
     "output_type": "stream",
     "text": [
      "123 2345 25645 6\n",
      "123 2345 25645 6\n"
     ]
    }
   ],
   "source": [
    "intlist = list(map(int, input().split()))\n",
    "print(' '.join(map(str, intlist)))\n",
    "\n",
    "print(*intlist)"
   ]
  },
  {
   "cell_type": "code",
   "execution_count": null,
   "metadata": {},
   "outputs": [],
   "source": []
  },
  {
   "cell_type": "code",
   "execution_count": null,
   "metadata": {},
   "outputs": [],
   "source": []
  },
  {
   "cell_type": "code",
   "execution_count": 84,
   "metadata": {},
   "outputs": [
    {
     "name": "stdin",
     "output_type": "stream",
     "text": [
      " 4 5 3 4 2 3\n"
     ]
    },
    {
     "name": "stdout",
     "output_type": "stream",
     "text": [
      "4 3 2 "
     ]
    }
   ],
   "source": [
    "intlist = list(map(int, input().split()))\n",
    "i = 0\n",
    "while i <= len(intlist) - 1:\n",
    "    print(intlist[i], end=' ')\n",
    "    i += 2\n"
   ]
  },
  {
   "cell_type": "code",
   "execution_count": null,
   "metadata": {},
   "outputs": [],
   "source": []
  },
  {
   "cell_type": "code",
   "execution_count": null,
   "metadata": {},
   "outputs": [],
   "source": []
  },
  {
   "cell_type": "code",
   "execution_count": null,
   "metadata": {},
   "outputs": [],
   "source": [
    "intlist = list(map(int, input().split()))\n",
    "for i in intlist:\n",
    "    if i % 2 == 0:\n",
    "        print(i, end=' ')\n"
   ]
  },
  {
   "cell_type": "code",
   "execution_count": null,
   "metadata": {},
   "outputs": [],
   "source": []
  },
  {
   "cell_type": "code",
   "execution_count": null,
   "metadata": {},
   "outputs": [],
   "source": [
    "intlist = list(map(int, input().split()))\n",
    "counter = 0\n",
    "for i in intlist:\n",
    "    if i > 0:\n",
    "        counter += 1\n",
    "print(counter)\n"
   ]
  },
  {
   "cell_type": "code",
   "execution_count": null,
   "metadata": {},
   "outputs": [],
   "source": []
  },
  {
   "cell_type": "code",
   "execution_count": 87,
   "metadata": {},
   "outputs": [
    {
     "name": "stdin",
     "output_type": "stream",
     "text": [
      " 1 2 3 4 5\n"
     ]
    },
    {
     "name": "stdout",
     "output_type": "stream",
     "text": [
      "5 4\n"
     ]
    }
   ],
   "source": [
    "intlist = list(map(int, input().split()))\n",
    "index = 0\n",
    "m = 0\n",
    "for i in range(len(intlist)):\n",
    "    if intlist[i] >= m:\n",
    "        m = intlist[i]\n",
    "        index = i\n",
    "print(m, index)\n"
   ]
  },
  {
   "cell_type": "code",
   "execution_count": null,
   "metadata": {},
   "outputs": [],
   "source": []
  },
  {
   "cell_type": "code",
   "execution_count": 89,
   "metadata": {},
   "outputs": [
    {
     "name": "stdin",
     "output_type": "stream",
     "text": [
      " 1 2 3\n"
     ]
    },
    {
     "name": "stdout",
     "output_type": "stream",
     "text": [
      "2 3 "
     ]
    }
   ],
   "source": [
    "intlist = list(map(int, input().split()))\n",
    "i = 0\n",
    "j = 1\n",
    "while j <= len(intlist) - 1:\n",
    "    if intlist[j] > intlist[i]:\n",
    "        print(intlist[j], end=' ')\n",
    "    i += 1\n",
    "    j += 1\n"
   ]
  },
  {
   "cell_type": "code",
   "execution_count": null,
   "metadata": {},
   "outputs": [],
   "source": []
  },
  {
   "cell_type": "code",
   "execution_count": null,
   "metadata": {},
   "outputs": [],
   "source": []
  },
  {
   "cell_type": "code",
   "execution_count": 104,
   "metadata": {},
   "outputs": [
    {
     "name": "stdin",
     "output_type": "stream",
     "text": [
      " 2 2 2\n"
     ]
    },
    {
     "name": "stdout",
     "output_type": "stream",
     "text": [
      "NO\n"
     ]
    }
   ],
   "source": [
    "intlist = list(map(int, input().split()))\n",
    "\n",
    "\n",
    "def IsAscending(A):\n",
    "    i = 0\n",
    "    j = 1\n",
    "    while j <= len(A) -1:\n",
    "        if A[i] >= A[j]:\n",
    "            return 0\n",
    "        i += 1\n",
    "        j += 1\n",
    "    return 1\n",
    "\n",
    "if IsAscending(intlist):\n",
    "    print('YES')\n",
    "else:\n",
    "    print('NO')\n"
   ]
  },
  {
   "cell_type": "code",
   "execution_count": null,
   "metadata": {},
   "outputs": [],
   "source": []
  },
  {
   "cell_type": "code",
   "execution_count": null,
   "metadata": {},
   "outputs": [],
   "source": []
  },
  {
   "cell_type": "code",
   "execution_count": 109,
   "metadata": {},
   "outputs": [
    {
     "name": "stdin",
     "output_type": "stream",
     "text": [
      " -1 2 3 -1 -2\n"
     ]
    },
    {
     "name": "stdout",
     "output_type": "stream",
     "text": [
      "2 3\n"
     ]
    }
   ],
   "source": [
    "intlist = list(map(int, input().split()))\n",
    "i = 0\n",
    "j = 1\n",
    "while j <= len(intlist) - 1:\n",
    "    if intlist[i] < 0 and intlist[j] < 0:\n",
    "        print(intlist[i], intlist[j])\n",
    "        break\n",
    "    if intlist[i] > 0 and intlist[j] > 0:\n",
    "        print(intlist[i], intlist[j])\n",
    "        break\n",
    "    i += 1\n",
    "    j += 1\n"
   ]
  },
  {
   "cell_type": "code",
   "execution_count": null,
   "metadata": {},
   "outputs": [],
   "source": []
  },
  {
   "cell_type": "code",
   "execution_count": null,
   "metadata": {},
   "outputs": [],
   "source": []
  },
  {
   "cell_type": "code",
   "execution_count": null,
   "metadata": {},
   "outputs": [],
   "source": []
  },
  {
   "cell_type": "code",
   "execution_count": 4,
   "metadata": {},
   "outputs": [
    {
     "name": "stdin",
     "output_type": "stream",
     "text": [
      " 1 5 1 5 1\n"
     ]
    },
    {
     "name": "stdout",
     "output_type": "stream",
     "text": [
      "2\n"
     ]
    }
   ],
   "source": [
    "intlist = list(map(int, input().split()))\n",
    "i = 1\n",
    "k = 0\n",
    "while i < len(intlist) - 1:\n",
    "    if intlist[i - 1] < intlist[i] and intlist[i] > intlist[i + 1]:\n",
    "        k += 1\n",
    "    i += 1\n",
    "print(k)\n"
   ]
  },
  {
   "cell_type": "code",
   "execution_count": null,
   "metadata": {},
   "outputs": [],
   "source": []
  },
  {
   "cell_type": "code",
   "execution_count": null,
   "metadata": {},
   "outputs": [],
   "source": []
  },
  {
   "cell_type": "code",
   "execution_count": 9,
   "metadata": {},
   "outputs": [
    {
     "name": "stdin",
     "output_type": "stream",
     "text": [
      " 1 3 2\n"
     ]
    },
    {
     "name": "stdout",
     "output_type": "stream",
     "text": [
      "3 1\n"
     ]
    }
   ],
   "source": [
    "intlist = list(map(int, input().split()))\n",
    "i = 0\n",
    "index = 0\n",
    "mx = intlist[0]\n",
    "while i <= len(intlist) - 1:\n",
    "    if intlist[i] > mx:\n",
    "        mx = intlist[i]\n",
    "        index = i\n",
    "    i += 1\n",
    "print(mx, index)\n"
   ]
  },
  {
   "cell_type": "code",
   "execution_count": null,
   "metadata": {},
   "outputs": [],
   "source": []
  },
  {
   "cell_type": "code",
   "execution_count": null,
   "metadata": {},
   "outputs": [],
   "source": []
  },
  {
   "cell_type": "code",
   "execution_count": 19,
   "metadata": {},
   "outputs": [
    {
     "name": "stdin",
     "output_type": "stream",
     "text": [
      " 0 1 2 3 4\n"
     ]
    },
    {
     "name": "stdout",
     "output_type": "stream",
     "text": [
      "1\n"
     ]
    }
   ],
   "source": [
    "intlist = list(map(int, input().split()))\n",
    "i = 0\n",
    "k = 0\n",
    "for elem in intlist:\n",
    "    if elem > 0:\n",
    "        k = elem\n",
    "        break\n",
    "while i <= len(intlist) - 1:\n",
    "    if 0 < intlist[i] < k:\n",
    "        k = intlist[i]\n",
    "    i += 1\n",
    "print(k)\n"
   ]
  },
  {
   "cell_type": "code",
   "execution_count": null,
   "metadata": {},
   "outputs": [],
   "source": []
  },
  {
   "cell_type": "code",
   "execution_count": 22,
   "metadata": {},
   "outputs": [
    {
     "name": "stdin",
     "output_type": "stream",
     "text": [
      " 2 4 6 8 10 19\n"
     ]
    },
    {
     "name": "stdout",
     "output_type": "stream",
     "text": [
      "19\n"
     ]
    }
   ],
   "source": [
    "intlist = list(map(int, input().split()))\n",
    "i = 0\n",
    "k = 0\n",
    "for elem in intlist:\n",
    "    if elem % 2 == 1:\n",
    "        k = elem\n",
    "        break\n",
    "while i <= len(intlist) - 1:\n",
    "    if intlist[i] < k and intlist[i] % 2 == 1:\n",
    "        k = intlist[i]\n",
    "    i += 1\n",
    "print(k)\n"
   ]
  },
  {
   "cell_type": "code",
   "execution_count": null,
   "metadata": {},
   "outputs": [],
   "source": []
  },
  {
   "cell_type": "code",
   "execution_count": 23,
   "metadata": {},
   "outputs": [
    {
     "name": "stdin",
     "output_type": "stream",
     "text": [
      " 1 2 3 4 5\n"
     ]
    },
    {
     "name": "stdout",
     "output_type": "stream",
     "text": [
      "5 4 3 2 1 "
     ]
    }
   ],
   "source": [
    "intlist = list(map(int, input().split()))\n",
    "i = len(intlist) - 1\n",
    "while i != -1:\n",
    "    print(intlist[i], end=' ')\n",
    "    i -= 1\n"
   ]
  },
  {
   "cell_type": "code",
   "execution_count": null,
   "metadata": {},
   "outputs": [],
   "source": []
  },
  {
   "cell_type": "code",
   "execution_count": null,
   "metadata": {},
   "outputs": [],
   "source": []
  },
  {
   "cell_type": "code",
   "execution_count": 26,
   "metadata": {},
   "outputs": [
    {
     "name": "stdin",
     "output_type": "stream",
     "text": [
      " 1 2 3 4 5\n"
     ]
    },
    {
     "name": "stdout",
     "output_type": "stream",
     "text": [
      "5 4 3 2 1 "
     ]
    }
   ],
   "source": [
    "intlist = list(map(int, input().split()))\n",
    "k = (len(intlist) - 1) // 2\n",
    "i = 0\n",
    "j = len(intlist) - 1\n",
    "while j > k:\n",
    "    temp = intlist[j]\n",
    "    intlist[j] = intlist[i]\n",
    "    intlist[i] = temp\n",
    "    i += 1\n",
    "    j -= 1\n",
    "for elem in intlist:\n",
    "    print(elem, end=' ')\n"
   ]
  },
  {
   "cell_type": "code",
   "execution_count": null,
   "metadata": {},
   "outputs": [],
   "source": []
  },
  {
   "cell_type": "code",
   "execution_count": null,
   "metadata": {},
   "outputs": [],
   "source": []
  },
  {
   "cell_type": "code",
   "execution_count": null,
   "metadata": {},
   "outputs": [],
   "source": []
  },
  {
   "cell_type": "markdown",
   "metadata": {},
   "source": [
    "#### МЕТОДЫ РАБОТЫ СО СПИСКАМИ"
   ]
  },
  {
   "cell_type": "code",
   "execution_count": 29,
   "metadata": {},
   "outputs": [
    {
     "name": "stdout",
     "output_type": "stream",
     "text": [
      "3\n"
     ]
    }
   ],
   "source": [
    "a = [1, 2, 3, 4, 2, 2, 3]\n",
    "print(a.count(2))"
   ]
  },
  {
   "cell_type": "code",
   "execution_count": 30,
   "metadata": {},
   "outputs": [],
   "source": [
    "a.append(5)"
   ]
  },
  {
   "cell_type": "code",
   "execution_count": 31,
   "metadata": {},
   "outputs": [
    {
     "data": {
      "text/plain": [
       "[1, 2, 3, 4, 2, 2, 3, 5]"
      ]
     },
     "execution_count": 31,
     "metadata": {},
     "output_type": "execute_result"
    }
   ],
   "source": [
    "a"
   ]
  },
  {
   "cell_type": "code",
   "execution_count": 32,
   "metadata": {},
   "outputs": [
    {
     "data": {
      "text/plain": [
       "[1, 2, 3, 4, 2, 2, 3, 5, 777, 888]"
      ]
     },
     "execution_count": 32,
     "metadata": {},
     "output_type": "execute_result"
    }
   ],
   "source": [
    "b = [777, 888]\n",
    "a.extend(b)\n",
    "a"
   ]
  },
  {
   "cell_type": "markdown",
   "metadata": {},
   "source": [
    "#### при сложении списков (a + b) создается новый объект!\n",
    "remove - удаляет первое вхождение элемента в список\n",
    "\n",
    "\n",
    "reverse - "
   ]
  },
  {
   "cell_type": "code",
   "execution_count": 34,
   "metadata": {},
   "outputs": [
    {
     "data": {
      "text/plain": [
       "[1, 2, 10, 3, 4, 2, 2, 3]"
      ]
     },
     "execution_count": 34,
     "metadata": {},
     "output_type": "execute_result"
    }
   ],
   "source": [
    "a = [1, 2, 3, 4, 2, 2, 3]\n",
    "a.insert(2, 10)\n",
    "a"
   ]
  },
  {
   "cell_type": "code",
   "execution_count": 36,
   "metadata": {},
   "outputs": [
    {
     "data": {
      "text/plain": [
       "[1, 2, 3, 2, 2, 3]"
      ]
     },
     "execution_count": 36,
     "metadata": {},
     "output_type": "execute_result"
    }
   ],
   "source": [
    "a = [1, 2, 3, 4, 2, 2, 3]\n",
    "a.pop(3)\n",
    "a"
   ]
  },
  {
   "cell_type": "code",
   "execution_count": 39,
   "metadata": {},
   "outputs": [
    {
     "data": {
      "text/plain": [
       "4"
      ]
     },
     "execution_count": 39,
     "metadata": {},
     "output_type": "execute_result"
    }
   ],
   "source": [
    "a = [1, 2, 3, 4, 2, 2, 3]\n",
    "a.index(2, 2)"
   ]
  },
  {
   "cell_type": "code",
   "execution_count": null,
   "metadata": {},
   "outputs": [],
   "source": []
  },
  {
   "cell_type": "code",
   "execution_count": 52,
   "metadata": {},
   "outputs": [
    {
     "name": "stdin",
     "output_type": "stream",
     "text": [
      " 1 2 3 4 5\n",
      " -1\n"
     ]
    },
    {
     "name": "stdout",
     "output_type": "stream",
     "text": [
      "1 2 3 4 "
     ]
    }
   ],
   "source": [
    "intlist = list(map(int, input().split()))\n",
    "k = int(input())\n",
    "if k < 0:\n",
    "    k = len(intlist) + k\n",
    "i = k + 1\n",
    "for i in range(i, len(intlist)):\n",
    "    intlist[k] = intlist[i]\n",
    "    i += 1\n",
    "    k += 1\n",
    "intlist.pop()\n",
    "for elem in intlist:\n",
    "    print(elem, end=' ')\n"
   ]
  },
  {
   "cell_type": "code",
   "execution_count": null,
   "metadata": {},
   "outputs": [],
   "source": []
  },
  {
   "cell_type": "code",
   "execution_count": 58,
   "metadata": {},
   "outputs": [
    {
     "name": "stdin",
     "output_type": "stream",
     "text": [
      " 7 6 5 4 3 2 1\n",
      " 2 0\n"
     ]
    },
    {
     "name": "stdout",
     "output_type": "stream",
     "text": [
      "7 6 0 5 4 3 2 1 "
     ]
    }
   ],
   "source": [
    "intlist = list(map(int, input().split()))\n",
    "templist = list(map(int, input().split()))\n",
    "pos = templist[0]\n",
    "target = templist[1]\n",
    "intlist.append(123)\n",
    "i = len(intlist) - 1\n",
    "k = len(intlist) - 2\n",
    "while k >= pos:\n",
    "    intlist[i] = intlist[k]\n",
    "    i -= 1\n",
    "    k -= 1\n",
    "intlist[pos] = target\n",
    "for elem in intlist:\n",
    "    print(elem, end=' ')\n"
   ]
  },
  {
   "cell_type": "code",
   "execution_count": null,
   "metadata": {},
   "outputs": [],
   "source": []
  },
  {
   "cell_type": "markdown",
   "metadata": {},
   "source": [
    "### ОБРАБОТКА СПИСКОВ"
   ]
  },
  {
   "cell_type": "code",
   "execution_count": 5,
   "metadata": {},
   "outputs": [
    {
     "name": "stdin",
     "output_type": "stream",
     "text": [
      " 1 2 3 4 5\n"
     ]
    },
    {
     "name": "stdout",
     "output_type": "stream",
     "text": [
      "2 4\n"
     ]
    }
   ],
   "source": [
    "a = list(map(int, input().split()))\n",
    "i = 0\n",
    "while i < len(a):\n",
    "    if a[i] % 2 != 0:\n",
    "        a.pop(i)\n",
    "    else:\n",
    "        i = 0\n",
    "    i += 1\n",
    "print(*a)"
   ]
  },
  {
   "cell_type": "code",
   "execution_count": null,
   "metadata": {},
   "outputs": [],
   "source": []
  },
  {
   "cell_type": "code",
   "execution_count": 6,
   "metadata": {},
   "outputs": [
    {
     "name": "stdin",
     "output_type": "stream",
     "text": [
      " 1 2 3 4 5 6\n"
     ]
    },
    {
     "name": "stdout",
     "output_type": "stream",
     "text": [
      "2 4 6\n"
     ]
    }
   ],
   "source": [
    "a = list(map(int, input().split()))\n",
    "b = []\n",
    "for now in a:\n",
    "    if now % 2 == 0:\n",
    "        b.append(now)\n",
    "print(*b)"
   ]
  },
  {
   "cell_type": "code",
   "execution_count": null,
   "metadata": {},
   "outputs": [],
   "source": []
  },
  {
   "cell_type": "code",
   "execution_count": null,
   "metadata": {},
   "outputs": [],
   "source": []
  },
  {
   "cell_type": "code",
   "execution_count": 19,
   "metadata": {},
   "outputs": [
    {
     "name": "stdin",
     "output_type": "stream",
     "text": [
      " 3\n",
      " -999 -1000 -998\n",
      " 1000\n"
     ]
    },
    {
     "name": "stdout",
     "output_type": "stream",
     "text": [
      "-998\n"
     ]
    }
   ],
   "source": [
    "n = int(input()) - 1\n",
    "intlist = list(map(int, input().split()))\n",
    "x = int(input())\n",
    "diff = 2001\n",
    "pos = 0\n",
    "while n > -1:\n",
    "    if abs(intlist[n] - x) < diff:\n",
    "        diff = abs(intlist[n] - x)\n",
    "        pos = n\n",
    "    n -= 1\n",
    "print(intlist[pos])\n"
   ]
  },
  {
   "cell_type": "code",
   "execution_count": null,
   "metadata": {},
   "outputs": [],
   "source": []
  },
  {
   "cell_type": "code",
   "execution_count": null,
   "metadata": {},
   "outputs": [],
   "source": []
  },
  {
   "cell_type": "code",
   "execution_count": 28,
   "metadata": {},
   "outputs": [
    {
     "name": "stdin",
     "output_type": "stream",
     "text": [
      " 100 100 100\n",
      " 100\n"
     ]
    },
    {
     "name": "stdout",
     "output_type": "stream",
     "text": [
      "4\n"
     ]
    }
   ],
   "source": [
    "intlist = list(map(int, input().split()))\n",
    "x = int(input())\n",
    "intlist.append(500)\n",
    "i = 0\n",
    "pos = 0\n",
    "while i < len(intlist) - 1:\n",
    "    if intlist[i] - x >= 0:\n",
    "        pos += 1\n",
    "        i += 1\n",
    "    else:\n",
    "        break\n",
    "print(pos + 1)\n"
   ]
  },
  {
   "cell_type": "code",
   "execution_count": null,
   "metadata": {},
   "outputs": [],
   "source": []
  },
  {
   "cell_type": "code",
   "execution_count": null,
   "metadata": {},
   "outputs": [],
   "source": []
  },
  {
   "cell_type": "code",
   "execution_count": 29,
   "metadata": {},
   "outputs": [
    {
     "name": "stdin",
     "output_type": "stream",
     "text": [
      " 1 2 2 3 3 3\n"
     ]
    },
    {
     "name": "stdout",
     "output_type": "stream",
     "text": [
      "3\n"
     ]
    }
   ],
   "source": [
    "intlist = list(map(int, input().split()))\n",
    "print(len(set(intlist)))\n"
   ]
  },
  {
   "cell_type": "code",
   "execution_count": null,
   "metadata": {},
   "outputs": [],
   "source": []
  },
  {
   "cell_type": "code",
   "execution_count": 31,
   "metadata": {},
   "outputs": [
    {
     "name": "stdin",
     "output_type": "stream",
     "text": [
      " 1 2 3 4 5\n"
     ]
    },
    {
     "name": "stdout",
     "output_type": "stream",
     "text": [
      "5\n"
     ]
    }
   ],
   "source": [
    "intlist = list(map(int, input().split()))\n",
    "a = []\n",
    "a.append(intlist[0])\n",
    "j = 0\n",
    "for i in intlist:\n",
    "    if i > a[j]:\n",
    "        a.append(i)\n",
    "        j += 1\n",
    "print(len(a))\n"
   ]
  },
  {
   "cell_type": "code",
   "execution_count": null,
   "metadata": {},
   "outputs": [],
   "source": []
  },
  {
   "cell_type": "code",
   "execution_count": null,
   "metadata": {},
   "outputs": [],
   "source": []
  },
  {
   "cell_type": "code",
   "execution_count": 6,
   "metadata": {},
   "outputs": [
    {
     "name": "stdin",
     "output_type": "stream",
     "text": [
      " 1 2 3 4\n"
     ]
    },
    {
     "name": "stdout",
     "output_type": "stream",
     "text": [
      "2 1 4 3\n"
     ]
    }
   ],
   "source": [
    "intlist = list(map(int, input().split()))\n",
    "if len(intlist) % 2 != 0:\n",
    "    i = len(intlist) - 2\n",
    "else:\n",
    "    i = len(intlist) - 1\n",
    "j = 0\n",
    "k = 1\n",
    "while j < i:\n",
    "    intlist[j], intlist[k] = intlist[k], intlist[j]\n",
    "    j += 2\n",
    "    k += 2\n",
    "print(*intlist)\n"
   ]
  },
  {
   "cell_type": "code",
   "execution_count": null,
   "metadata": {},
   "outputs": [],
   "source": []
  },
  {
   "cell_type": "code",
   "execution_count": null,
   "metadata": {},
   "outputs": [],
   "source": []
  },
  {
   "cell_type": "code",
   "execution_count": 13,
   "metadata": {},
   "outputs": [
    {
     "name": "stdin",
     "output_type": "stream",
     "text": [
      " 1 2 3 4 5\n"
     ]
    },
    {
     "name": "stdout",
     "output_type": "stream",
     "text": [
      "5 1 2 3 4\n"
     ]
    }
   ],
   "source": [
    "intlist = list(map(int, input().split()))\n",
    "i = len(intlist) - 1\n",
    "j = i - 1\n",
    "while i > 0:\n",
    "    intlist[i], intlist[j] = intlist[j], intlist[i]\n",
    "    i -= 1\n",
    "    j = i - 1\n",
    "print(*intlist)\n"
   ]
  },
  {
   "cell_type": "code",
   "execution_count": null,
   "metadata": {},
   "outputs": [],
   "source": []
  },
  {
   "cell_type": "code",
   "execution_count": null,
   "metadata": {},
   "outputs": [],
   "source": []
  },
  {
   "cell_type": "code",
   "execution_count": 15,
   "metadata": {},
   "outputs": [
    {
     "name": "stdin",
     "output_type": "stream",
     "text": [
      " 1 2 3 4 5\n"
     ]
    },
    {
     "name": "stdout",
     "output_type": "stream",
     "text": [
      "5 2 3 4 1\n"
     ]
    }
   ],
   "source": [
    "intlist = list(map(int, input().split()))\n",
    "mi = intlist[0]\n",
    "mx = intlist[0]\n",
    "posmi = 0\n",
    "posmx = 0\n",
    "i = 0\n",
    "for i in range(len(intlist)):\n",
    "    if intlist[i] > mx:\n",
    "        mx = intlist[i]\n",
    "        posmx = i\n",
    "    if mi > intlist[i]:\n",
    "        mi = intlist[i]\n",
    "        posmi = i\n",
    "intlist[posmi], intlist[posmx] = intlist[posmx], intlist[posmi]\n",
    "print(*intlist)\n"
   ]
  },
  {
   "cell_type": "code",
   "execution_count": null,
   "metadata": {},
   "outputs": [],
   "source": []
  },
  {
   "cell_type": "code",
   "execution_count": null,
   "metadata": {},
   "outputs": [],
   "source": []
  },
  {
   "cell_type": "code",
   "execution_count": 4,
   "metadata": {},
   "outputs": [
    {
     "name": "stdin",
     "output_type": "stream",
     "text": [
      " -1 1\n"
     ]
    },
    {
     "name": "stdout",
     "output_type": "stream",
     "text": [
      "0 1\n"
     ]
    }
   ],
   "source": [
    "intlist = list(map(int, input().split()))\n",
    "min1 = 0\n",
    "min2 = 0\n",
    "max1 = 0\n",
    "max2 = 0\n",
    "for i in range(len(intlist)):\n",
    "    if intlist[i] >= max1:\n",
    "        max2 = max1\n",
    "        max1 = intlist[i]\n",
    "    elif intlist[i] > max2:\n",
    "        max2 = intlist[i]\n",
    "    if min1 >= intlist[i]:\n",
    "        min2 = min1\n",
    "        min1 = intlist[i]\n",
    "    elif min2 >= intlist[i]:\n",
    "        min2 = intlist[i]\n",
    "if (min1 * min2) > (max1 * max2):\n",
    "    print(min1, min2)\n",
    "else:\n",
    "    print(max2, max1)\n"
   ]
  },
  {
   "cell_type": "code",
   "execution_count": null,
   "metadata": {},
   "outputs": [],
   "source": []
  },
  {
   "cell_type": "code",
   "execution_count": null,
   "metadata": {},
   "outputs": [],
   "source": []
  },
  {
   "cell_type": "code",
   "execution_count": 40,
   "metadata": {},
   "outputs": [
    {
     "name": "stdin",
     "output_type": "stream",
     "text": [
      " -1 -2 0 -3 -4\n"
     ]
    },
    {
     "name": "stdout",
     "output_type": "stream",
     "text": [
      "-2 -3 -4\n",
      "-1 -2 -3 -3 -4\n"
     ]
    }
   ],
   "source": [
    "intlist = list(map(int, input().split()))\n",
    "a1, a2, a3, a4, a5 = 0, 0, 0, 0, 0\n",
    "i = 0\n",
    "while a1 == 0 and i < len(intlist):\n",
    "    a1 = intlist[i]\n",
    "    i += 1\n",
    "while a2 == 0 and i < len(intlist):\n",
    "    a2 = intlist[i]\n",
    "    i += 1\n",
    "while a3 == 0 and i < len(intlist):\n",
    "    a3 = intlist[i]\n",
    "    i += 1\n",
    "# print(a1, a2, a3)\n",
    "if a3 > a1:\n",
    "    if a3 > a2:\n",
    "        a1, a2, a3 = a3, a2, a1\n",
    "    else:\n",
    "        a1, a2, a3 = a2, a3, a1\n",
    "else:\n",
    "    if a1 < a2:\n",
    "        a1, a2, a3 = a2, a1, a3\n",
    "    else:\n",
    "        if a3 > a2:\n",
    "            a1, a2, a3 = a1, a3, a2\n",
    "# print(a1, a2, a3)\n",
    "j = 0\n",
    "while a4 == 0 and j < len(intlist):\n",
    "    if intlist[j] < 0:\n",
    "        a4 = intlist[j]\n",
    "    j += 1\n",
    "while a5 == 0 and j < len(intlist):\n",
    "    if intlist[j] < 0:\n",
    "        a5 = intlist[j]\n",
    "    j += 1\n",
    "if a5 > a4:\n",
    "    a4, a5 = a5, a4\n",
    "# print(a4, a5)\n",
    "# i = 0\n",
    "while i < len(intlist):\n",
    "    if intlist[i] > a1:\n",
    "        a3 = a2\n",
    "        a2 = a1\n",
    "        a1 = intlist[i]\n",
    "    elif intlist[i] >= a2:\n",
    "        a3 = a2\n",
    "        a2 = intlist[i]\n",
    "    elif intlist[i] >= a3:\n",
    "        a3 = intlist[i]\n",
    "    i += 1\n",
    "while j < len(intlist):\n",
    "    if a5 > intlist[j]:\n",
    "        a4 = a5\n",
    "        a5 = intlist[j]\n",
    "    elif a4 >= intlist[j]:\n",
    "        a4 = intlist[j]\n",
    "    j += 1\n",
    "if a1 < 0 and a2 < 0 and a3 < 0:\n",
    "    if a3 != a4 and a3 != a5:\n",
    "        print(a3, a4, a5)\n",
    "    elif a2 != a4 and a2 != a5:\n",
    "        print(a2, a4, a5)\n",
    "    else:\n",
    "        print(a1, a4, a5)\n",
    "elif (a1 * a2 * a3) > (a1 * a4 * a5):\n",
    "    print(a1, a2, a3)\n",
    "else:\n",
    "    print(a1, a4, a5)\n",
    "print(a1, a2, a3, a4, a5)\n"
   ]
  },
  {
   "cell_type": "markdown",
   "metadata": {},
   "source": []
  },
  {
   "cell_type": "code",
   "execution_count": null,
   "metadata": {},
   "outputs": [],
   "source": []
  },
  {
   "cell_type": "code",
   "execution_count": 81,
   "metadata": {},
   "outputs": [
    {
     "name": "stdin",
     "output_type": "stream",
     "text": [
      " -2 -4 -56 -3 0\n"
     ]
    },
    {
     "name": "stdout",
     "output_type": "stream",
     "text": [
      "0 -4 -56\n",
      "0 -2 -3 -4 -56\n"
     ]
    }
   ],
   "source": [
    "intlist = list(map(int, input().split()))\n",
    "a1, a2, a3 = -99999999999999, -999999999999, -999999999999\n",
    "a4, a5 = 99999999999999, 99999999999999\n",
    "i = 0\n",
    "if a5 > a4:\n",
    "    a4, a5 = a5, a4\n",
    "while i < len(intlist):\n",
    "    if intlist[i] > a1:\n",
    "        a3 = a2\n",
    "        a2 = a1\n",
    "        a1 = intlist[i]\n",
    "    elif intlist[i] >= a2:\n",
    "        a3 = a2\n",
    "        a2 = intlist[i]\n",
    "    elif intlist[i] >= a3:\n",
    "        a3 = intlist[i]\n",
    "    if a5 > intlist[i]:\n",
    "        a4 = a5\n",
    "        a5 = intlist[i]\n",
    "    elif a4 >= intlist[i]:\n",
    "        a4 = intlist[i]\n",
    "    i += 1\n",
    "if (a1 * a2 * a3) > (a1 * a4 * a5):\n",
    "    print(a1, a2, a3)\n",
    "else:\n",
    "    print(a1, a4, a5)\n",
    "# print(a1, a2, a3, a4, a5)\n"
   ]
  },
  {
   "cell_type": "code",
   "execution_count": null,
   "metadata": {},
   "outputs": [],
   "source": []
  },
  {
   "cell_type": "code",
   "execution_count": null,
   "metadata": {},
   "outputs": [],
   "source": []
  },
  {
   "cell_type": "code",
   "execution_count": 91,
   "metadata": {},
   "outputs": [
    {
     "name": "stdin",
     "output_type": "stream",
     "text": [
      " 1 1 1 1 1\n"
     ]
    },
    {
     "name": "stdout",
     "output_type": "stream",
     "text": [
      "10\n"
     ]
    }
   ],
   "source": [
    "intlist = list(map(int, input().split()))\n",
    "k = 0\n",
    "i = 0\n",
    "j = 0\n",
    "while i < len(intlist):\n",
    "    j = i + 1\n",
    "    while j < len(intlist):\n",
    "        if intlist[i] == intlist[j]:\n",
    "            k += 1\n",
    "        j += 1\n",
    "    i += 1\n",
    "print(k)\n"
   ]
  },
  {
   "cell_type": "code",
   "execution_count": null,
   "metadata": {},
   "outputs": [],
   "source": []
  },
  {
   "cell_type": "code",
   "execution_count": 99,
   "metadata": {},
   "outputs": [
    {
     "name": "stdin",
     "output_type": "stream",
     "text": [
      " 1 1 1 1 1\n"
     ]
    }
   ],
   "source": [
    "intlist = list(map(int, input().split()))\n",
    "i = 0\n",
    "j = 0\n",
    "k = 0\n",
    "while i < len(intlist):\n",
    "    j = 0\n",
    "    while j < len(intlist):\n",
    "        if intlist[i] == intlist[j]:\n",
    "            k += 1\n",
    "        j += 1\n",
    "    if k == 1:\n",
    "        print(intlist[i], end=' ')\n",
    "    k = 0\n",
    "    i += 1\n"
   ]
  },
  {
   "cell_type": "code",
   "execution_count": null,
   "metadata": {},
   "outputs": [],
   "source": []
  },
  {
   "cell_type": "code",
   "execution_count": null,
   "metadata": {},
   "outputs": [],
   "source": []
  },
  {
   "cell_type": "code",
   "execution_count": 102,
   "metadata": {},
   "outputs": [
    {
     "name": "stdin",
     "output_type": "stream",
     "text": [
      " 1 2 3 4 24 343 12 23 1\n"
     ]
    },
    {
     "name": "stdout",
     "output_type": "stream",
     "text": [
      "2 3 4 24 343 12 23 "
     ]
    }
   ],
   "source": [
    "intlist = list(map(int, input().split()))\n",
    "for i in intlist:\n",
    "    if intlist.count(i) == 1:\n",
    "        print(i, end=' ')\n"
   ]
  },
  {
   "cell_type": "code",
   "execution_count": null,
   "metadata": {},
   "outputs": [],
   "source": []
  },
  {
   "cell_type": "code",
   "execution_count": null,
   "metadata": {},
   "outputs": [],
   "source": []
  },
  {
   "cell_type": "code",
   "execution_count": 114,
   "metadata": {},
   "outputs": [
    {
     "name": "stdin",
     "output_type": "stream",
     "text": [
      " 10 3\n",
      " 8 10\n",
      " 2 5\n",
      " 3 6\n"
     ]
    },
    {
     "name": "stdout",
     "output_type": "stream",
     "text": [
      "I.....I..."
     ]
    }
   ],
   "source": [
    "kegli = list(map(int, input().split()))\n",
    "n = kegli[1]\n",
    "keglist = ['I'] * kegli[0]\n",
    "while n > 0:\n",
    "    intlist = list(map(int, input().split()))\n",
    "    a = intlist[0] - 1\n",
    "    b = intlist[1] - 1\n",
    "    while a <= b:\n",
    "        keglist[a] = '.'\n",
    "        a += 1\n",
    "    n -= 1\n",
    "for i in keglist:\n",
    "    print(i, end='')\n"
   ]
  },
  {
   "cell_type": "code",
   "execution_count": null,
   "metadata": {},
   "outputs": [],
   "source": []
  },
  {
   "cell_type": "code",
   "execution_count": 124,
   "metadata": {},
   "outputs": [
    {
     "name": "stdin",
     "output_type": "stream",
     "text": [
      " 2 2\n",
      " 3 5\n",
      " 8 6\n",
      " 7 4\n",
      " 5 1\n",
      " 1 4\n",
      " 4 3\n",
      " 6 7\n"
     ]
    },
    {
     "name": "stdout",
     "output_type": "stream",
     "text": [
      "YES\n"
     ]
    }
   ],
   "source": [
    "n = 8\n",
    "d = []\n",
    "while n > 0:\n",
    "    inpt = list(map(int, input().split()))\n",
    "    d = d + inpt\n",
    "    n -= 1\n",
    "k = 0\n",
    "i = 0\n",
    "j = 0\n",
    "while i < len(d):\n",
    "    j = i + 2\n",
    "    while j < len(d):\n",
    "        if d[i] == d[j] or abs(d[i] - d[j]) == abs(d[i + 1] - d[j + 1]):\n",
    "            k = 1\n",
    "            break\n",
    "        if d[i + 1] == d[j + 1]:\n",
    "            k = 1\n",
    "            break\n",
    "        j += 2\n",
    "    i += 2\n",
    "if k == 1:\n",
    "    print('YES')\n",
    "else:\n",
    "    print('NO')\n"
   ]
  },
  {
   "cell_type": "code",
   "execution_count": null,
   "metadata": {},
   "outputs": [],
   "source": []
  },
  {
   "cell_type": "code",
   "execution_count": 159,
   "metadata": {},
   "outputs": [
    {
     "name": "stdin",
     "output_type": "stream",
     "text": [
      " 0 0 0 0 1 1 1 0 0 \n"
     ]
    },
    {
     "name": "stdout",
     "output_type": "stream",
     "text": [
      "1 1 1 0 0 0 0 0 0\n"
     ]
    }
   ],
   "source": [
    "intlist = list(map(int, input().split()))\n",
    "i = 0\n",
    "pos = 0\n",
    "k = 0\n",
    "while i < len(intlist):\n",
    "    if intlist[i] == 0:\n",
    "        if k == 0:\n",
    "            pos = i\n",
    "            k = 1\n",
    "            i += 1\n",
    "    if intlist[i] != 0 and k == 1:\n",
    "        intlist[i], intlist[pos] = intlist[pos], intlist[i]\n",
    "        pos += 1\n",
    "    i += 1\n",
    "print(*intlist)\n"
   ]
  },
  {
   "cell_type": "code",
   "execution_count": null,
   "metadata": {},
   "outputs": [],
   "source": []
  },
  {
   "cell_type": "code",
   "execution_count": null,
   "metadata": {},
   "outputs": [],
   "source": []
  },
  {
   "cell_type": "code",
   "execution_count": 161,
   "metadata": {},
   "outputs": [
    {
     "name": "stdin",
     "output_type": "stream",
     "text": [
      " 1 2 3 4 5 6 7 8 9 1\n"
     ]
    },
    {
     "name": "stdout",
     "output_type": "stream",
     "text": [
      "1\n"
     ]
    }
   ],
   "source": [
    "intlist = list(map(int, input().split()))\n",
    "k = 0\n",
    "temp = 'abc'\n",
    "for i in intlist:\n",
    "    if intlist.count(i) > k:\n",
    "        k = intlist.count(i)\n",
    "        temp = i\n",
    "print(temp)\n"
   ]
  },
  {
   "cell_type": "code",
   "execution_count": null,
   "metadata": {},
   "outputs": [],
   "source": []
  },
  {
   "cell_type": "code",
   "execution_count": null,
   "metadata": {},
   "outputs": [],
   "source": []
  }
 ],
 "metadata": {
  "kernelspec": {
   "display_name": "Python 3",
   "language": "python",
   "name": "python3"
  },
  "language_info": {
   "codemirror_mode": {
    "name": "ipython",
    "version": 3
   },
   "file_extension": ".py",
   "mimetype": "text/x-python",
   "name": "python",
   "nbconvert_exporter": "python",
   "pygments_lexer": "ipython3",
   "version": "3.7.3"
  }
 },
 "nbformat": 4,
 "nbformat_minor": 2
}
