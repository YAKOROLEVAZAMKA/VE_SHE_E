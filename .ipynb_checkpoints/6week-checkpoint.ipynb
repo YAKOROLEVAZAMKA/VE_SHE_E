{
 "cells": [
  {
   "cell_type": "code",
   "execution_count": 7,
   "metadata": {},
   "outputs": [
    {
     "name": "stdin",
     "output_type": "stream",
     "text": [
      " 1 2 3\n",
      " 5 3 1\n"
     ]
    },
    {
     "name": "stdout",
     "output_type": "stream",
     "text": [
      "1 1 2 3 3 5\n"
     ]
    }
   ],
   "source": [
    "intlist1 = list(map(int, input().split()))\n",
    "intlist2 = list(map(int, input().split()))\n",
    "\n",
    "\n",
    "def merge(A, B):\n",
    "    d = A + B\n",
    "    c = []\n",
    "    i = 0\n",
    "    while i < len(d):\n",
    "        c.append(min(d))\n",
    "        d.remove(min(d))\n",
    "    return c\n",
    "\n",
    "print(*merge(intlist1, intlist2))\n"
   ]
  },
  {
   "cell_type": "code",
   "execution_count": null,
   "metadata": {},
   "outputs": [],
   "source": []
  },
  {
   "cell_type": "code",
   "execution_count": 21,
   "metadata": {},
   "outputs": [
    {
     "name": "stdin",
     "output_type": "stream",
     "text": [
      " 1 2 4\n",
      " 2 66 \n"
     ]
    },
    {
     "name": "stdout",
     "output_type": "stream",
     "text": [
      "1 2 2 4 66\n"
     ]
    }
   ],
   "source": [
    "intlist1 = list(map(int, input().split()))\n",
    "intlist2 = list(map(int, input().split()))\n",
    "\n",
    "\n",
    "def merge(A, B):\n",
    "    flist = []\n",
    "    i = 0\n",
    "    j = 0\n",
    "    while True:\n",
    "        if i >= len(A):\n",
    "            x1 = -9999999999999\n",
    "        else:\n",
    "            x1 = A[i]\n",
    "        if j >= len(B):\n",
    "            x2 = -9999999999999\n",
    "        else:\n",
    "            x2 = B[j]\n",
    "        if x1 == -9999999999999 and x2 == -9999999999999:\n",
    "            break\n",
    "        if x1 == -9999999999999 and x2 != -9999999999999:\n",
    "            flist.append(x2)\n",
    "            j += 1\n",
    "        elif x2 == -9999999999999 and x1 != -9999999999999:\n",
    "            flist.append(x1)\n",
    "            i += 1\n",
    "        elif x1 > x2:\n",
    "            flist.append(x2)\n",
    "            j += 1\n",
    "        else:\n",
    "            flist.append(x1)\n",
    "            i += 1\n",
    "    return flist\n",
    "\n",
    "slist = merge(intlist1, intlist2)\n",
    "print(*slist)\n"
   ]
  },
  {
   "cell_type": "code",
   "execution_count": null,
   "metadata": {},
   "outputs": [],
   "source": []
  },
  {
   "cell_type": "code",
   "execution_count": 26,
   "metadata": {},
   "outputs": [
    {
     "name": "stdin",
     "output_type": "stream",
     "text": [
      " 1 2 3 4 5 6\n",
      " 2 5 6 7 8\n"
     ]
    },
    {
     "name": "stdout",
     "output_type": "stream",
     "text": [
      "2 5 6\n"
     ]
    }
   ],
   "source": [
    "intlist1 = list(map(int, input().split()))\n",
    "intlist2 = list(map(int, input().split()))\n",
    "\n",
    "\n",
    "def intersection(A, B):\n",
    "    flist = []\n",
    "    i = 0\n",
    "    j = 0\n",
    "    while True:\n",
    "        if i >= len(A):\n",
    "            x1 = -9999999999999\n",
    "        else:\n",
    "            x1 = A[i]\n",
    "        if j >= len(B):\n",
    "            x2 = -9999999999999\n",
    "        else:\n",
    "            x2 = B[j]\n",
    "        if x1 == -9999999999999 or x2 == -9999999999999:\n",
    "            break\n",
    "        if x1 == x2:\n",
    "            flist.append(x1)\n",
    "            i += 1\n",
    "            j += 1\n",
    "        elif x1 > x2:\n",
    "            j += 1\n",
    "        else:\n",
    "            i += 1\n",
    "    return flist\n",
    "\n",
    "slist = intersection(intlist1, intlist2)\n",
    "print(*slist)\n"
   ]
  },
  {
   "cell_type": "code",
   "execution_count": null,
   "metadata": {},
   "outputs": [],
   "source": []
  },
  {
   "cell_type": "code",
   "execution_count": null,
   "metadata": {},
   "outputs": [],
   "source": []
  },
  {
   "cell_type": "code",
   "execution_count": null,
   "metadata": {},
   "outputs": [],
   "source": []
  },
  {
   "cell_type": "code",
   "execution_count": null,
   "metadata": {},
   "outputs": [],
   "source": []
  },
  {
   "cell_type": "markdown",
   "metadata": {},
   "source": [
    "#### Сортировка"
   ]
  },
  {
   "cell_type": "code",
   "execution_count": 30,
   "metadata": {},
   "outputs": [
    {
     "name": "stdout",
     "output_type": "stream",
     "text": [
      "1 2 3\n",
      "1 2 3\n",
      "c b a\n"
     ]
    }
   ],
   "source": [
    "a = [3, 1, 2]\n",
    "a.sort() # ИЗМЕНЯЕТ СПИСОК\n",
    "b = sorted(a) # НЕ ИЗМЕНЯЕТ СПИСОК\n",
    "print(*a)\n",
    "print(*b)\n",
    "\n",
    "c = sorted('cba', reverse=True)\n",
    "print(*c)"
   ]
  },
  {
   "cell_type": "code",
   "execution_count": null,
   "metadata": {},
   "outputs": [],
   "source": []
  },
  {
   "cell_type": "code",
   "execution_count": 35,
   "metadata": {},
   "outputs": [
    {
     "name": "stdout",
     "output_type": "stream",
     "text": [
      "True\n"
     ]
    }
   ],
   "source": [
    "print((1, 4) < (2, 3))"
   ]
  },
  {
   "cell_type": "code",
   "execution_count": 38,
   "metadata": {},
   "outputs": [
    {
     "ename": "TypeError",
     "evalue": "'<' not supported between instances of 'int' and 'str'",
     "output_type": "error",
     "traceback": [
      "\u001b[1;31m---------------------------------------------------------------------------\u001b[0m",
      "\u001b[1;31mTypeError\u001b[0m                                 Traceback (most recent call last)",
      "\u001b[1;32m<ipython-input-38-0f46b63b1d10>\u001b[0m in \u001b[0;36m<module>\u001b[1;34m\u001b[0m\n\u001b[1;32m----> 1\u001b[1;33m \u001b[0mprint\u001b[0m\u001b[1;33m(\u001b[0m\u001b[1;33m(\u001b[0m\u001b[1;36m1\u001b[0m\u001b[1;33m,\u001b[0m \u001b[1;36m4\u001b[0m\u001b[1;33m)\u001b[0m \u001b[1;33m<\u001b[0m \u001b[1;33m(\u001b[0m\u001b[1;36m1\u001b[0m\u001b[1;33m,\u001b[0m \u001b[1;34m'abc'\u001b[0m\u001b[1;33m)\u001b[0m\u001b[1;33m)\u001b[0m\u001b[1;33m\u001b[0m\u001b[1;33m\u001b[0m\u001b[0m\n\u001b[0m",
      "\u001b[1;31mTypeError\u001b[0m: '<' not supported between instances of 'int' and 'str'"
     ]
    }
   ],
   "source": [
    "print((1, 4) < (1, 'abc'))"
   ]
  },
  {
   "cell_type": "code",
   "execution_count": 42,
   "metadata": {},
   "outputs": [
    {
     "name": "stdout",
     "output_type": "stream",
     "text": [
      "(172, 'Fedya') (172, 'Vasya') (180, 'Petya')\n"
     ]
    }
   ],
   "source": [
    "p = [(172, 'Vasya'),\n",
    "    (180, 'Petya'),\n",
    "    (172, 'Fedya')]\n",
    "p.sort()\n",
    "print(*p)"
   ]
  },
  {
   "cell_type": "code",
   "execution_count": 41,
   "metadata": {},
   "outputs": [
    {
     "name": "stdout",
     "output_type": "stream",
     "text": [
      "(180, 'Petya') (172, 'Vasya') (172, 'Fedya')\n"
     ]
    }
   ],
   "source": [
    "p = [(172, 'Vasya'),\n",
    "    (180, 'Petya'),\n",
    "    (172, 'Fedya')]\n",
    "p.sort(reverse=True)\n",
    "print(*p)"
   ]
  },
  {
   "cell_type": "code",
   "execution_count": null,
   "metadata": {},
   "outputs": [],
   "source": []
  },
  {
   "cell_type": "code",
   "execution_count": 43,
   "metadata": {},
   "outputs": [
    {
     "name": "stdin",
     "output_type": "stream",
     "text": [
      " 1 4 2 6 2\n"
     ]
    },
    {
     "name": "stdout",
     "output_type": "stream",
     "text": [
      "1 2 2 4 6\n"
     ]
    }
   ],
   "source": [
    "myList = list(map(int, input().split()))\n",
    "myList.sort()\n",
    "print(' '.join(map(str, myList)))"
   ]
  },
  {
   "cell_type": "code",
   "execution_count": null,
   "metadata": {},
   "outputs": [],
   "source": []
  },
  {
   "cell_type": "code",
   "execution_count": 46,
   "metadata": {},
   "outputs": [
    {
     "name": "stdin",
     "output_type": "stream",
     "text": [
      " 2\n",
      " 3 1\n"
     ]
    },
    {
     "name": "stdout",
     "output_type": "stream",
     "text": [
      "1 3\n"
     ]
    }
   ],
   "source": [
    "x = int(input())\n",
    "intlist = list(map(int, input().split()))\n",
    "intlist = intlist[:x]\n",
    "intlist.sort()\n",
    "print(*intlist)\n"
   ]
  },
  {
   "cell_type": "code",
   "execution_count": null,
   "metadata": {},
   "outputs": [],
   "source": []
  },
  {
   "cell_type": "code",
   "execution_count": null,
   "metadata": {},
   "outputs": [],
   "source": []
  },
  {
   "cell_type": "code",
   "execution_count": 71,
   "metadata": {},
   "outputs": [
    {
     "name": "stdin",
     "output_type": "stream",
     "text": [
      " 50\n",
      " 12\n"
     ]
    },
    {
     "name": "stdout",
     "output_type": "stream",
     "text": [
      "0\n"
     ]
    }
   ],
   "source": [
    "x = int(input())\n",
    "intlist = list(map(int, input().split()))\n",
    "intlist.sort()\n",
    "i = 0\n",
    "k = 1\n",
    "while x > intlist[i]:\n",
    "    i += 1\n",
    "    if i > len(intlist) - 1:\n",
    "        break\n",
    "intlist = intlist[i:]\n",
    "# print(*intlist)\n",
    "if len(intlist) == 1:\n",
    "    print(k)\n",
    "elif not len(intlist):\n",
    "    print(0)\n",
    "else:\n",
    "    temp = intlist[0]\n",
    "    j = 1\n",
    "    while j < len(intlist):\n",
    "        if temp <= (intlist[j] - 3):\n",
    "            k += 1\n",
    "            temp = intlist[j]\n",
    "        j += 1\n",
    "    print(k)\n"
   ]
  },
  {
   "cell_type": "code",
   "execution_count": null,
   "metadata": {},
   "outputs": [],
   "source": []
  },
  {
   "cell_type": "code",
   "execution_count": 84,
   "metadata": {},
   "outputs": [
    {
     "name": "stdin",
     "output_type": "stream",
     "text": [
      " 100 3\n",
      " 50\n",
      " 30\n",
      " 50\n"
     ]
    },
    {
     "name": "stdout",
     "output_type": "stream",
     "text": [
      "2\n"
     ]
    }
   ],
   "source": [
    "intlist = list(map(int, input().split()))\n",
    "S = intlist[0]\n",
    "N = intlist[1]\n",
    "N2 = intlist[1]\n",
    "intlist2 = []\n",
    "while N > 0:\n",
    "    intlist2.append(int(input()))\n",
    "    N -= 1\n",
    "intlist2.sort()\n",
    "# print(intlist2)\n",
    "i = 0\n",
    "summ = 0\n",
    "while i < len(intlist2):\n",
    "    summ += intlist2[i]\n",
    "    i += 1\n",
    "i -= 1\n",
    "# print(summ)\n",
    "while summ > S:\n",
    "    summ -= intlist2[i]\n",
    "    i -= 1\n",
    "    N2 -= 1\n",
    "print(N2)\n"
   ]
  },
  {
   "cell_type": "code",
   "execution_count": null,
   "metadata": {},
   "outputs": [],
   "source": []
  },
  {
   "cell_type": "markdown",
   "metadata": {},
   "source": [
    "#### Сортировка по 2-м параметрам"
   ]
  },
  {
   "cell_type": "code",
   "execution_count": 87,
   "metadata": {},
   "outputs": [
    {
     "name": "stdout",
     "output_type": "stream",
     "text": [
      "(180, 'Petya') (172, 'Fedya') (172, 'Vasya')\n"
     ]
    }
   ],
   "source": [
    "p = [(-172, 'Vasya'),\n",
    "    (-180, 'Petya'),\n",
    "    (-172, 'Fedya')]\n",
    "p.sort()\n",
    "for i in range(len(p)):\n",
    "    p[i] = (-p[i][0], p[i][1])\n",
    "print(*p)"
   ]
  },
  {
   "cell_type": "code",
   "execution_count": 89,
   "metadata": {},
   "outputs": [
    {
     "name": "stdout",
     "output_type": "stream",
     "text": [
      "bc xyz abcd 1234\n"
     ]
    }
   ],
   "source": [
    "ls = ['abcd', 'bc', 'xyz', '1234']\n",
    "ls.sort(key=len)\n",
    "print(*ls)"
   ]
  },
  {
   "cell_type": "code",
   "execution_count": 90,
   "metadata": {},
   "outputs": [
    {
     "name": "stdout",
     "output_type": "stream",
     "text": [
      "(1, 1) (5, 5) (10, 1)\n"
     ]
    }
   ],
   "source": [
    "points = [\n",
    "    (1, 1),\n",
    "    (10, 1),\n",
    "    (5, 5)\n",
    "]\n",
    "def sqrDist(point):\n",
    "    return point[0]**2 + point[1]**2\n",
    "points.sort(key=sqrDist)\n",
    "print(*points)"
   ]
  },
  {
   "cell_type": "code",
   "execution_count": null,
   "metadata": {},
   "outputs": [],
   "source": []
  },
  {
   "cell_type": "code",
   "execution_count": 91,
   "metadata": {},
   "outputs": [
    {
     "name": "stdout",
     "output_type": "stream",
     "text": [
      "(180, 'Petya') (172, 'Fedya') (172, 'Vasya')\n"
     ]
    }
   ],
   "source": [
    "p = [(172, 'Vasya'),\n",
    "    (180, 'Petya'),\n",
    "    (172, 'Fedya')]\n",
    "def makeTuple(man):\n",
    "    return (-man[0], man[1])\n",
    "p.sort(key=makeTuple)\n",
    "print(*p)"
   ]
  },
  {
   "cell_type": "code",
   "execution_count": null,
   "metadata": {},
   "outputs": [],
   "source": []
  },
  {
   "cell_type": "code",
   "execution_count": null,
   "metadata": {},
   "outputs": [],
   "source": []
  },
  {
   "cell_type": "code",
   "execution_count": 139,
   "metadata": {},
   "outputs": [
    {
     "name": "stdin",
     "output_type": "stream",
     "text": [
      " 5\n",
      " 1 2 3 4 5\n",
      " 3\n",
      " 7 8 9\n"
     ]
    },
    {
     "name": "stdout",
     "output_type": "stream",
     "text": [
      "6 7\n",
      "5 6\n",
      "4 5\n",
      "3 4\n",
      "2 3\n",
      "[(1, 1), (2, 2), (3, 3), (4, 4), (5, 5)]\n",
      "[(7, 1), (8, 2), (9, 3)]\n",
      "[(1, 1), (2, 1), (3, 1), (4, 1), (5, 1)]\n",
      "1 1 1 1 1 "
     ]
    }
   ],
   "source": [
    "n = int(input())\n",
    "intlist1 = list(map(int, input().split()))\n",
    "# intlist1 = intlist1[:n]\n",
    "m = int(input())\n",
    "intlist2 = list(map(int, input().split()))\n",
    "# intlist2 = intlist2[:m]\n",
    "houses = []\n",
    "bombs = []\n",
    "for i in range(n):\n",
    "    temp = (intlist1[i], i + 1)\n",
    "    houses.append(temp)\n",
    "for i in range(m):\n",
    "    temp = (intlist2[i], i + 1)\n",
    "    bombs.append(temp)\n",
    "\n",
    "\n",
    "def sorter(number):\n",
    "    return number[0]\n",
    "\n",
    "houses.sort(key=sorter)\n",
    "bombs.sort(key=sorter)\n",
    "answer = []\n",
    "i, j = 0, 0\n",
    "if len(bombs) == 1:\n",
    "    for i in range(n):\n",
    "        temp = (1, 1)\n",
    "        answer.append(temp)\n",
    "else:\n",
    "    while i < len(houses):\n",
    "        tmp1 = abs(houses[i][0] - bombs[j][0])\n",
    "        tmp2 = abs(houses[i][0] - bombs[j + 1][0])\n",
    "        print(tmp1, tmp2)\n",
    "        if tmp2 > tmp1:\n",
    "            temp = (houses[i][1], bombs[j][1])\n",
    "            answer.append(temp)\n",
    "        else:\n",
    "            while j + 2 < len(bombs):\n",
    "                j += 1\n",
    "                if \n",
    "           \n",
    "            else:\n",
    "                temp = (houses[i][1], bombs[j + 1][1])\n",
    "                answer.append(temp)\n",
    "\n",
    "            if j + 2 < len(bombs):\n",
    "                j += 1\n",
    "        i += 1\n",
    "# print(n, m)\n",
    "# print(*intlist1)\n",
    "# print(*intlist2)\n",
    "print(houses)\n",
    "print(bombs)\n",
    "print(answer)\n",
    "answer.sort(key=sorter)\n",
    "for i in answer:\n",
    "    print(i[1], end=' ')\n"
   ]
  },
  {
   "cell_type": "code",
   "execution_count": null,
   "metadata": {},
   "outputs": [],
   "source": []
  },
  {
   "cell_type": "code",
   "execution_count": 140,
   "metadata": {},
   "outputs": [
    {
     "name": "stdin",
     "output_type": "stream",
     "text": [
      " 10\n",
      " 79 64 13 8 38 29 58 20 56 17\n",
      " 10\n",
      " 53 19 20 85 82 39 58 46 51 69\n"
     ]
    },
    {
     "name": "stdout",
     "output_type": "stream",
     "text": [
      "[79, 1, 5] [64, 2, 10] [13, 3, 2] [8, 4, 2] [38, 5, 6] [29, 6, 3] [58, 7, 7] [20, 8, 3] [56, 9, 7] [17, 10, 2]\n"
     ]
    }
   ],
   "source": [
    "n = int(input())\n",
    "np = list(map(int, input().split()))\n",
    "# Здесь создали 3-е поле для номера бомбоубежища\n",
    "for i in range(n):\n",
    "    np[i] = [np[i], i + 1, 0]\n",
    "np.sort()\n",
    " \n",
    "m = int(input())\n",
    "bu = list(map(int, input().split()))\n",
    "for i in range(m):\n",
    "    bu[i] = [bu[i], i + 1]\n",
    "bu.sort()\n",
    " \n",
    "# Переменная для начала вложенного цикла\n",
    "start = 0\n",
    "for i in range(n):\n",
    "# Точка нахождения нужного бомбоубежища\n",
    "    idx = 0\n",
    "# Чтобы минимум был точно больше любого найденного\n",
    "    minimum = 10e10\n",
    "    for j in range(start, m):\n",
    "        tmp = abs(np[i][0] - bu[j][0])\n",
    "# Либо обновляем минимум и номер бомбоубежища\n",
    "        if tmp < minimum:\n",
    "            idx = j\n",
    "            minimum = tmp\n",
    "            np[i][2] = bu[j][1]\n",
    "# Либо заканчиваем цикл\n",
    "        else:\n",
    "            break\n",
    "# Переопределяем начало вложенного цикла\n",
    "    start = idx\n",
    " \n",
    "np.sort(key=lambda idx: idx[1])\n",
    "# Получаем упорядоченный согласно порядка ввода список населённых пунктов и\n",
    "# назначенных им бомбоубежищ. В качестве отладки такое:\n",
    "print(*np)"
   ]
  },
  {
   "cell_type": "code",
   "execution_count": null,
   "metadata": {},
   "outputs": [],
   "source": []
  },
  {
   "cell_type": "code",
   "execution_count": null,
   "metadata": {},
   "outputs": [],
   "source": []
  },
  {
   "cell_type": "code",
   "execution_count": 186,
   "metadata": {},
   "outputs": [
    {
     "name": "stdin",
     "output_type": "stream",
     "text": [
      " 3\n",
      " 1 2 3\n",
      " 1\n",
      " 1\n"
     ]
    },
    {
     "name": "stdout",
     "output_type": "stream",
     "text": [
      "1 1 1 "
     ]
    }
   ],
   "source": [
    "n = int(input())\n",
    "intlist1 = list(map(int, input().split()))\n",
    "# intlist1 = intlist1[:n]\n",
    "m = int(input())\n",
    "intlist2 = list(map(int, input().split()))\n",
    "# intlist2 = intlist2[:m]\n",
    "houses = []\n",
    "bombs = []\n",
    "for i in range(n):\n",
    "    temp = (intlist1[i], i + 1)\n",
    "    houses.append(temp)\n",
    "for i in range(m):\n",
    "    temp = (intlist2[i], i + 1)\n",
    "    bombs.append(temp)\n",
    "\n",
    "\n",
    "def sorter(number):\n",
    "    return number[0]\n",
    "\n",
    "\n",
    "def sorter2(number):\n",
    "    return number[2]\n",
    "\n",
    "houses.sort(key=sorter)\n",
    "bombs.sort(key=sorter)\n",
    "answer = []\n",
    "if len(bombs) == 1:\n",
    "    for i in range(n):\n",
    "        print('1', end=' ')\n",
    "else:\n",
    "    for i in range(n):\n",
    "        answer.append([i, 0, 0])\n",
    "    start = 0\n",
    "    for i in range(n):\n",
    "        bplace = 0\n",
    "        mini = 10e10\n",
    "        for j in range(start, m):\n",
    "            tmp1 = abs(houses[i][0] - bombs[j][0])\n",
    "            if tmp1 < mini:\n",
    "                mini = tmp1\n",
    "                bplace = j\n",
    "                answer[i][1] = bombs[j][1]\n",
    "                answer[i][2] = houses[i][1]\n",
    "            else:\n",
    "                break\n",
    "        start = bplace\n",
    "# print(n, m)\n",
    "# print(*intlist1)\n",
    "# print(*intlist2)\n",
    "# print(houses)\n",
    "# print(bombs)\n",
    "# print(answer)\n",
    "    answer.sort(key=sorter2)\n",
    "    for i in answer:\n",
    "        print(i[1], end=' ')\n"
   ]
  },
  {
   "cell_type": "code",
   "execution_count": null,
   "metadata": {},
   "outputs": [],
   "source": []
  },
  {
   "cell_type": "markdown",
   "metadata": {},
   "source": [
    "#### СТРУКТУРЫ"
   ]
  },
  {
   "cell_type": "code",
   "execution_count": 187,
   "metadata": {},
   "outputs": [
    {
     "name": "stdin",
     "output_type": "stream",
     "text": [
      " 3\n",
      " 172 Vasy\n",
      " 180 Daun\n",
      " 172 Guezoz\n"
     ]
    },
    {
     "name": "stdout",
     "output_type": "stream",
     "text": [
      "172 Guezoz\n",
      "172 Vasy\n",
      "180 Daun\n"
     ]
    }
   ],
   "source": [
    "class Man:\n",
    "    height = 0\n",
    "    name = ''\n",
    "\n",
    "p = []\n",
    "n = int(input())\n",
    "for i in range(n):\n",
    "    h, n = input().split()\n",
    "    h = int(h)\n",
    "    man = Man()\n",
    "    man.height = h\n",
    "    man.name = n\n",
    "    p.append(man)\n",
    "\n",
    "    \n",
    "def makeTuple(man):\n",
    "    return (man.height, man.name)\n",
    "\n",
    "p.sort(key=makeTuple)\n",
    "for item in p:\n",
    "    print(item.height, item.name)\n"
   ]
  },
  {
   "cell_type": "code",
   "execution_count": null,
   "metadata": {},
   "outputs": [],
   "source": []
  },
  {
   "cell_type": "markdown",
   "metadata": {},
   "source": [
    "### LAMBDA"
   ]
  },
  {
   "cell_type": "code",
   "execution_count": 188,
   "metadata": {},
   "outputs": [
    {
     "name": "stdout",
     "output_type": "stream",
     "text": [
      "(1, 1) (5, 1) (10, 10)\n"
     ]
    }
   ],
   "source": [
    "points = [(1, 1),\n",
    "          (5, 1),\n",
    "          (10, 10)\n",
    "]\n",
    "\n",
    "def sqrDist(p):\n",
    "    return p[0] ** 2 + p[1] ** 2\n",
    "\n",
    "points.sort(key=sqrDist)\n",
    "print(*points)"
   ]
  },
  {
   "cell_type": "code",
   "execution_count": 189,
   "metadata": {},
   "outputs": [
    {
     "name": "stdout",
     "output_type": "stream",
     "text": [
      "(1, 1) (5, 1) (10, 10)\n"
     ]
    }
   ],
   "source": [
    "points = [(1, 1),\n",
    "          (5, 1),\n",
    "          (10, 10)\n",
    "]\n",
    "\n",
    "def sqrDist(p):\n",
    "    return p[0] ** 2 + p[1] ** 2\n",
    "\n",
    "points.sort(key=lambda p: p[0] ** 2 + p[1] ** 2)\n",
    "print(*points)"
   ]
  },
  {
   "cell_type": "code",
   "execution_count": 190,
   "metadata": {},
   "outputs": [
    {
     "name": "stdout",
     "output_type": "stream",
     "text": [
      "(1, 1) (5, 1) (10, 10)\n"
     ]
    }
   ],
   "source": [
    "points = [(1, 1),\n",
    "          (5, 1),\n",
    "          (10, 10)\n",
    "]\n",
    "\n",
    "sqrDist = lambda p: p[0] ** 2 + p[1] ** 2\n",
    "\n",
    "points.sort(key=sqrDist)\n",
    "print(*points)"
   ]
  },
  {
   "cell_type": "code",
   "execution_count": null,
   "metadata": {},
   "outputs": [],
   "source": []
  },
  {
   "cell_type": "code",
   "execution_count": null,
   "metadata": {},
   "outputs": [],
   "source": []
  },
  {
   "cell_type": "code",
   "execution_count": 194,
   "metadata": {},
   "outputs": [
    {
     "name": "stdout",
     "output_type": "stream",
     "text": [
      "1 25 4 9\n"
     ]
    }
   ],
   "source": [
    "x = [1, 5, 2, 3]\n",
    "p = [2, 2, 2]\n",
    "y = list(map(lambda number: number ** 2, x))\n",
    "print(*y)"
   ]
  },
  {
   "cell_type": "code",
   "execution_count": null,
   "metadata": {},
   "outputs": [],
   "source": []
  },
  {
   "cell_type": "markdown",
   "metadata": {},
   "source": [
    "### ИМЕНОВАННЫЕ ПАРАМЕТРЫ"
   ]
  },
  {
   "cell_type": "code",
   "execution_count": null,
   "metadata": {},
   "outputs": [],
   "source": []
  },
  {
   "cell_type": "code",
   "execution_count": 207,
   "metadata": {},
   "outputs": [
    {
     "name": "stdout",
     "output_type": "stream",
     "text": [
      "1a2a3\n",
      "5 6 7\n"
     ]
    }
   ],
   "source": [
    "def printList(lst, seps=' '):\n",
    "    for i in range(len(lst) - 1):\n",
    "        print(lst[i], seps, sep='', end ='')\n",
    "    print(lst[-1], sep='')\n",
    "\n",
    "printList([1, 2, 3], seps='a')\n",
    "printList([5, 6, 7])"
   ]
  },
  {
   "cell_type": "code",
   "execution_count": null,
   "metadata": {},
   "outputs": [],
   "source": []
  },
  {
   "cell_type": "code",
   "execution_count": 208,
   "metadata": {},
   "outputs": [
    {
     "name": "stdout",
     "output_type": "stream",
     "text": [
      "15\n"
     ]
    }
   ],
   "source": [
    "def mySum(*args):\n",
    "    return sum(args)\n",
    "\n",
    "print(mySum(1, 2, 3, 4, 5))"
   ]
  },
  {
   "cell_type": "code",
   "execution_count": 209,
   "metadata": {},
   "outputs": [
    {
     "name": "stdout",
     "output_type": "stream",
     "text": [
      "15\n"
     ]
    }
   ],
   "source": [
    "def mySum(*args):\n",
    "    summ = 0\n",
    "    for i in args:\n",
    "        summ += i\n",
    "    return summ\n",
    "\n",
    "print(mySum(1, 2, 3, 4, 5))"
   ]
  },
  {
   "cell_type": "code",
   "execution_count": null,
   "metadata": {},
   "outputs": [],
   "source": []
  },
  {
   "cell_type": "code",
   "execution_count": 210,
   "metadata": {},
   "outputs": [
    {
     "name": "stdout",
     "output_type": "stream",
     "text": [
      "3\n"
     ]
    }
   ],
   "source": [
    "def myMin(first, *others):\n",
    "    nowMin = first\n",
    "    for i in others:\n",
    "        if i < nowMin:\n",
    "            nowMin = i\n",
    "    return nowMin\n",
    "\n",
    "print(myMin(5, 3, 7))"
   ]
  },
  {
   "cell_type": "code",
   "execution_count": null,
   "metadata": {},
   "outputs": [],
   "source": []
  },
  {
   "cell_type": "markdown",
   "metadata": {},
   "source": [
    "### ОТКРЫТИЕ ФАЙЛОВ"
   ]
  },
  {
   "cell_type": "code",
   "execution_count": 214,
   "metadata": {},
   "outputs": [
    {
     "name": "stdout",
     "output_type": "stream",
     "text": [
      "5\n"
     ]
    }
   ],
   "source": [
    "fin = open('input.txt', 'r', encoding='utf8')\n",
    "a = int(fin.readline())\n",
    "b = int(fin.readline())\n",
    "print(a + b)"
   ]
  },
  {
   "cell_type": "code",
   "execution_count": 221,
   "metadata": {},
   "outputs": [
    {
     "name": "stdout",
     "output_type": "stream",
     "text": [
      "['2', '3']\n",
      "['2\\n', '3\\n']\n",
      "['2\\n', '3\\n']\n"
     ]
    }
   ],
   "source": [
    "fin = open('input.txt', 'r', encoding='utf8')\n",
    "lines = fin.readlines()\n",
    "print([lines[0].strip(), lines[1].strip()])\n",
    "print(lines)\n",
    "for i in lines:\n",
    "    i = i.strip()\n",
    "print(lines)"
   ]
  },
  {
   "cell_type": "code",
   "execution_count": 222,
   "metadata": {},
   "outputs": [
    {
     "name": "stdout",
     "output_type": "stream",
     "text": [
      "3\n",
      "4\n"
     ]
    }
   ],
   "source": [
    "fin = open('input.txt', 'r', encoding='utf8')\n",
    "for line in fin:\n",
    "    print(int(line) + 1)"
   ]
  },
  {
   "cell_type": "code",
   "execution_count": 223,
   "metadata": {},
   "outputs": [
    {
     "name": "stdout",
     "output_type": "stream",
     "text": [
      "['2\\n3\\n']\n"
     ]
    }
   ],
   "source": [
    "fin = open('input.txt', 'r', encoding='utf8')\n",
    "a = fin.read()\n",
    "print([a])"
   ]
  },
  {
   "cell_type": "code",
   "execution_count": 226,
   "metadata": {},
   "outputs": [],
   "source": [
    "fin = open('input.txt', 'r', encoding='utf8')\n",
    "fout = open('output.txt', 'w', encoding='utf8')\n",
    "print(sum(map(int, fin.readlines())), file=fout)\n",
    "fout.close()"
   ]
  },
  {
   "cell_type": "code",
   "execution_count": 227,
   "metadata": {},
   "outputs": [],
   "source": [
    "# line[-2::-1]"
   ]
  },
  {
   "cell_type": "code",
   "execution_count": null,
   "metadata": {},
   "outputs": [],
   "source": []
  },
  {
   "cell_type": "code",
   "execution_count": 250,
   "metadata": {},
   "outputs": [
    {
     "name": "stdout",
     "output_type": "stream",
     "text": [
      "63.666666666666664 86.0 57.333333333333336\n"
     ]
    }
   ],
   "source": [
    "file = open('input1.txt', 'r', encoding='utf8')\n",
    "grades = [0.0, 0.0, 0.0]\n",
    "k = [0, 0, 0]\n",
    "for line in file:\n",
    "    temp = line.split()\n",
    "    temp[2] = int(temp[2])\n",
    "    temp[3] = int(temp[3])\n",
    "    if temp[2] == 9:\n",
    "        grades[0] += temp[3]\n",
    "        k[0] += 1\n",
    "    elif temp[2] == 10:\n",
    "        grades[1] += temp[3]\n",
    "        k[1] += 1\n",
    "    elif temp[2] == 11:\n",
    "        grades[2] += temp[3]\n",
    "        k[2] += 1\n",
    "file.close()\n",
    "print(grades[0]/k[0], grades[1]/k[1], grades[2]/k[2])\n"
   ]
  },
  {
   "cell_type": "code",
   "execution_count": 248,
   "metadata": {},
   "outputs": [
    {
     "name": "stdout",
     "output_type": "stream",
     "text": [
      "['\\ufeffЕгоров', 'Павел', '11', '30']\n",
      "['Кострикова', 'Анна', '9', '49']\n",
      "['Туаршев', 'Тенгиз', '9', '91']\n",
      "['Кузьмин', 'Александр', '11', '99']\n",
      "['Перочинская', 'Виктория', '11', '53']\n",
      "['Лебедев', 'Дмитрий', '11', '29']\n",
      "['Гольсков', 'Алексей', '11', '92']\n",
      "['Васильева', 'Александра', '11', '41']\n",
      "['Медведев', 'Дмитрий', '10', '86']\n",
      "['Аптараули', 'Алексей', '9', '51']\n"
     ]
    }
   ],
   "source": [
    "file = open('input1.txt', 'r', encoding='utf8')\n",
    "\n",
    "for line in file:\n",
    "    temp = line.split()\n",
    "    print(temp)\n",
    "file.close()"
   ]
  },
  {
   "cell_type": "code",
   "execution_count": null,
   "metadata": {},
   "outputs": [],
   "source": []
  },
  {
   "cell_type": "code",
   "execution_count": null,
   "metadata": {},
   "outputs": [],
   "source": []
  },
  {
   "cell_type": "code",
   "execution_count": 268,
   "metadata": {},
   "outputs": [],
   "source": [
    "file = open('input2.txt', 'r', encoding='utf8')\n",
    "pupils = []\n",
    "for line in file:\n",
    "    temp = line.split()\n",
    "    temp[0] = temp[0].replace('\\ufeff', '')\n",
    "    temp2 = (temp[0], temp[1], temp[3])\n",
    "    pupils.append(temp2)\n",
    "pupils.sort(key=lambda x: x[0])\n",
    "file2 = open('output.txt', 'w', encoding='utf8')\n",
    "for line in pupils:\n",
    "    print(' '.join(map(str, line)), file=file2)\n",
    "file.close()\n",
    "file2.close()\n"
   ]
  },
  {
   "cell_type": "code",
   "execution_count": 267,
   "metadata": {},
   "outputs": [
    {
     "name": "stdout",
     "output_type": "stream",
     "text": [
      "Андреев Роман 75\n",
      "Васильев Андрей 56\n",
      "Иванов Сергей 56\n",
      "Петров Василий 99\n",
      "Романов Иван 68\n",
      "Сергеев Петр 74\n"
     ]
    }
   ],
   "source": [
    "for line in pupils:\n",
    "    print(' '.join(map(str,line)))"
   ]
  },
  {
   "cell_type": "code",
   "execution_count": null,
   "metadata": {},
   "outputs": [],
   "source": []
  },
  {
   "cell_type": "code",
   "execution_count": null,
   "metadata": {},
   "outputs": [],
   "source": []
  },
  {
   "cell_type": "code",
   "execution_count": null,
   "metadata": {},
   "outputs": [],
   "source": []
  },
  {
   "cell_type": "code",
   "execution_count": null,
   "metadata": {},
   "outputs": [],
   "source": []
  },
  {
   "cell_type": "code",
   "execution_count": null,
   "metadata": {},
   "outputs": [],
   "source": []
  }
 ],
 "metadata": {
  "kernelspec": {
   "display_name": "Python 3",
   "language": "python",
   "name": "python3"
  },
  "language_info": {
   "codemirror_mode": {
    "name": "ipython",
    "version": 3
   },
   "file_extension": ".py",
   "mimetype": "text/x-python",
   "name": "python",
   "nbconvert_exporter": "python",
   "pygments_lexer": "ipython3",
   "version": "3.7.3"
  }
 },
 "nbformat": 4,
 "nbformat_minor": 2
}
