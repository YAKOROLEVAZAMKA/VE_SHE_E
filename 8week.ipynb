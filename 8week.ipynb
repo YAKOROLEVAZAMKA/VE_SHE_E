{
 "cells": [
  {
   "cell_type": "markdown",
   "metadata": {},
   "source": [
    "### ФУНКЦИОНАЛЬНОЕ ПРОГРАММИРОВАНИЕ"
   ]
  },
  {
   "cell_type": "markdown",
   "metadata": {},
   "source": [
    "sum()\n",
    "max()\n",
    "min()\n",
    "sorted()\n",
    "map()"
   ]
  },
  {
   "cell_type": "code",
   "execution_count": 2,
   "metadata": {},
   "outputs": [
    {
     "name": "stdin",
     "output_type": "stream",
     "text": [
      " 1 2 34 -9 -2 0 0 -213 123\n"
     ]
    },
    {
     "name": "stdout",
     "output_type": "stream",
     "text": [
      "1 2 34 123\n"
     ]
    }
   ],
   "source": [
    "intlist = map(int, input().split())\n",
    "print(*filter(lambda x: x > 0, intlist))\n"
   ]
  },
  {
   "cell_type": "code",
   "execution_count": 3,
   "metadata": {},
   "outputs": [
    {
     "name": "stdin",
     "output_type": "stream",
     "text": [
      " 1 2 3 -2 0\n"
     ]
    },
    {
     "name": "stdout",
     "output_type": "stream",
     "text": [
      "1 2 3\n"
     ]
    }
   ],
   "source": [
    "print(*filter(lambda x: x > 0, map(int, input().split())))"
   ]
  },
  {
   "cell_type": "code",
   "execution_count": null,
   "metadata": {},
   "outputs": [],
   "source": [
    "print(\n",
    "    *filter(\n",
    "        lambda x: x > 0,\n",
    "        map(\n",
    "            int,\n",
    "            input().split()\n",
    "           )\n",
    "    )\n",
    ")"
   ]
  },
  {
   "cell_type": "code",
   "execution_count": 4,
   "metadata": {},
   "outputs": [
    {
     "name": "stdout",
     "output_type": "stream",
     "text": [
      "(0, 'a') (1, 'b') (2, 'c') (3, 'a') (4, 's') (5, 'd')\n"
     ]
    }
   ],
   "source": [
    "print(*enumerate('abcasd'))"
   ]
  },
  {
   "cell_type": "code",
   "execution_count": 6,
   "metadata": {},
   "outputs": [
    {
     "name": "stdout",
     "output_type": "stream",
     "text": [
      "True\n"
     ]
    }
   ],
   "source": [
    "print(any((True, False, True)))"
   ]
  },
  {
   "cell_type": "code",
   "execution_count": 7,
   "metadata": {},
   "outputs": [
    {
     "name": "stdout",
     "output_type": "stream",
     "text": [
      "False\n"
     ]
    }
   ],
   "source": [
    "print(all((True, False, True)))"
   ]
  },
  {
   "cell_type": "code",
   "execution_count": null,
   "metadata": {},
   "outputs": [],
   "source": []
  },
  {
   "cell_type": "code",
   "execution_count": 11,
   "metadata": {},
   "outputs": [
    {
     "name": "stdin",
     "output_type": "stream",
     "text": [
      " 1 23 0\n"
     ]
    },
    {
     "name": "stdout",
     "output_type": "stream",
     "text": [
      "False\n"
     ]
    }
   ],
   "source": [
    "print(\n",
    "    all(\n",
    "        map(\n",
    "            lambda x: x > 0,\n",
    "            map(\n",
    "                int,\n",
    "                input().split()\n",
    "            )\n",
    "        )\n",
    "    )\n",
    ")"
   ]
  },
  {
   "cell_type": "code",
   "execution_count": null,
   "metadata": {},
   "outputs": [],
   "source": []
  },
  {
   "cell_type": "code",
   "execution_count": 20,
   "metadata": {},
   "outputs": [
    {
     "name": "stdin",
     "output_type": "stream",
     "text": [
      " 1 2\n",
      " 10 20\n"
     ]
    },
    {
     "name": "stdout",
     "output_type": "stream",
     "text": [
      "2 1\n"
     ]
    }
   ],
   "source": [
    "pas = map(int, input().split())\n",
    "sortedPas = sorted(enumerate(pas), key=lambda x: x[1])\n",
    "# print(sortedPas)\n",
    "taxi = map(int, input().split())\n",
    "sortedTaxi = sorted(enumerate(taxi), key=lambda x: x[1], reverse=True)\n",
    "# print(sortedTaxi)\n",
    "# print(*zip(sortedPas, sortedTaxi))\n",
    "ans = zip(sortedPas, sortedTaxi)\n",
    "sortedAns = sorted(ans, key=lambda x: x[0][0])\n",
    "print(*map(lambda x: x[1][0] + 1, sortedAns))"
   ]
  },
  {
   "cell_type": "code",
   "execution_count": 21,
   "metadata": {},
   "outputs": [
    {
     "name": "stdin",
     "output_type": "stream",
     "text": [
      " 1 2\n",
      " 10 20\n"
     ]
    },
    {
     "name": "stdout",
     "output_type": "stream",
     "text": [
      "2 1\n"
     ]
    }
   ],
   "source": [
    "print(\n",
    "    *map(\n",
    "        lambda x: x[1][0] + 1,\n",
    "        sorted(\n",
    "            zip(\n",
    "                sorted(\n",
    "                    enumerate(\n",
    "                        map(\n",
    "                            int, \n",
    "                            input().split()\n",
    "                        )\n",
    "                    ), \n",
    "                    key=lambda x: x[1]\n",
    "                ), \n",
    "                sorted(\n",
    "                    enumerate(\n",
    "                        map(\n",
    "                            int, \n",
    "                            input().split()\n",
    "                        )\n",
    "                    ),\n",
    "                    key=lambda x: x[1], \n",
    "                    reverse=True\n",
    "                )\n",
    "            ), \n",
    "            key=lambda x: x[0][0]\n",
    "        )\n",
    "    )\n",
    ")"
   ]
  },
  {
   "cell_type": "code",
   "execution_count": null,
   "metadata": {},
   "outputs": [],
   "source": []
  },
  {
   "cell_type": "code",
   "execution_count": null,
   "metadata": {},
   "outputs": [],
   "source": []
  },
  {
   "cell_type": "code",
   "execution_count": null,
   "metadata": {},
   "outputs": [],
   "source": []
  },
  {
   "cell_type": "code",
   "execution_count": null,
   "metadata": {},
   "outputs": [],
   "source": []
  },
  {
   "cell_type": "code",
   "execution_count": null,
   "metadata": {},
   "outputs": [],
   "source": []
  },
  {
   "cell_type": "code",
   "execution_count": null,
   "metadata": {},
   "outputs": [],
   "source": []
  }
 ],
 "metadata": {
  "kernelspec": {
   "display_name": "Python 3",
   "language": "python",
   "name": "python3"
  },
  "language_info": {
   "codemirror_mode": {
    "name": "ipython",
    "version": 3
   },
   "file_extension": ".py",
   "mimetype": "text/x-python",
   "name": "python",
   "nbconvert_exporter": "python",
   "pygments_lexer": "ipython3",
   "version": "3.7.3"
  }
 },
 "nbformat": 4,
 "nbformat_minor": 2
}
