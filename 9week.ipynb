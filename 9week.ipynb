{
 "cells": [
  {
   "cell_type": "markdown",
   "metadata": {},
   "source": [
    "## КОМПЛЕКСНЫЕ ЧИСЛА"
   ]
  },
  {
   "cell_type": "code",
   "execution_count": 4,
   "metadata": {},
   "outputs": [
    {
     "name": "stdout",
     "output_type": "stream",
     "text": [
      "1 0\n",
      "2 3\n",
      "<__main__.Complex object at 0x000001B456650940>\n"
     ]
    }
   ],
   "source": [
    "class Complex:\n",
    "    def __init__(self, re=0, im=0):\n",
    "        self.re = re\n",
    "        self.im = im\n",
    "a = Complex()\n",
    "b = Complex(1)\n",
    "c = Complex(2, 3)\n",
    "print(b.re, b.im)\n",
    "print(c.re, c.im)\n",
    "print(a)"
   ]
  },
  {
   "cell_type": "code",
   "execution_count": 6,
   "metadata": {},
   "outputs": [
    {
     "name": "stdout",
     "output_type": "stream",
     "text": [
      "3 4\n"
     ]
    }
   ],
   "source": [
    "d = Complex()\n",
    "d.re = 3\n",
    "d.im = 4\n",
    "print(d.re, d.im)"
   ]
  },
  {
   "cell_type": "code",
   "execution_count": null,
   "metadata": {},
   "outputs": [],
   "source": [
    "#work"
   ]
  },
  {
   "cell_type": "code",
   "execution_count": null,
   "metadata": {},
   "outputs": [],
   "source": [
    "from copy import deepcopy\n",
    "from sys import stdin\n",
    "\n",
    "\n",
    "class Matrix:\n",
    "    def __init__(self, matrix):\n",
    "        self.matrix = deepcopy(matrix)\n",
    "\n",
    "    def __str__(self):\n",
    "        temp = ''\n",
    "        for i in self.matrix:\n",
    "            for j in i:\n",
    "                temp = temp + '%s' % j + '\\t'\n",
    "            temp = temp[:-1]\n",
    "            temp += '\\n'\n",
    "        temp = temp[:-1]\n",
    "        return temp\n",
    "\n",
    "    def size(self):\n",
    "        return(len(self.matrix), len(self.matrix[0]))\n"
   ]
  },
  {
   "cell_type": "code",
   "execution_count": null,
   "metadata": {},
   "outputs": [],
   "source": []
  },
  {
   "cell_type": "code",
   "execution_count": null,
   "metadata": {},
   "outputs": [],
   "source": []
  },
  {
   "cell_type": "code",
   "execution_count": null,
   "metadata": {},
   "outputs": [],
   "source": []
  },
  {
   "cell_type": "code",
   "execution_count": null,
   "metadata": {},
   "outputs": [],
   "source": []
  },
  {
   "cell_type": "code",
   "execution_count": 120,
   "metadata": {},
   "outputs": [],
   "source": [
    "from copy import deepcopy\n",
    "from sys import stdin\n",
    "\n",
    "\n",
    "class Matrix:\n",
    "    def __init__(self, matrix):\n",
    "        self.matrix = deepcopy(matrix)\n",
    "\n",
    "    def __str__(self):\n",
    "        temp = ''\n",
    "        for i in self.matrix:\n",
    "            for j in i:\n",
    "                temp = temp + str(j) + '\\t'\n",
    "            temp = temp[:-1]\n",
    "            temp += '\\n'\n",
    "        temp = temp[:-1]\n",
    "        return temp\n",
    "\n",
    "    def size(self):\n",
    "        return(len(self.matrix), len(self.matrix[0]))\n"
   ]
  },
  {
   "cell_type": "code",
   "execution_count": 123,
   "metadata": {},
   "outputs": [
    {
     "name": "stdout",
     "output_type": "stream",
     "text": [
      "1\t10\n",
      "0\t1\n",
      "2\t0\t0\n",
      "0\t1\t10000\n",
      "-10\t20\t50\t2443\n",
      "-5235\t12\t4324\t4234\n"
     ]
    }
   ],
   "source": [
    "m = Matrix([[1, 10], [0, 1]])\n",
    "print(m)\n",
    "m = Matrix([[2, 0, 0], [0, 1, 10000]])\n",
    "print(m)\n",
    "m = Matrix([[-10, 20, 50, 2443], [-5235, 12, 4324, 4234]])\n",
    "print(m)"
   ]
  },
  {
   "cell_type": "code",
   "execution_count": 122,
   "metadata": {},
   "outputs": [
    {
     "name": "stdout",
     "output_type": "stream",
     "text": [
      "(2, 4)\n"
     ]
    }
   ],
   "source": [
    "print(m.size())"
   ]
  },
  {
   "cell_type": "code",
   "execution_count": null,
   "metadata": {},
   "outputs": [],
   "source": []
  },
  {
   "cell_type": "code",
   "execution_count": null,
   "metadata": {},
   "outputs": [],
   "source": []
  },
  {
   "cell_type": "code",
   "execution_count": 45,
   "metadata": {},
   "outputs": [],
   "source": [
    "from sys import stdin\n",
    "from copy import deepcopy\n",
    " \n",
    " \n",
    "class Matrix:\n",
    "    def __init__(self, matrix):\n",
    "        self.matrix = deepcopy(matrix)\n",
    " \n",
    "    def __str__(self):  # без аргументов\n",
    "        return '\\n'.join(['\\t'.join(map(str, list)) for list in self.matrix])\n",
    " \n",
    "    def __add__(self, other):\n",
    "        return Matrix()\n",
    " \n",
    "    def size(self):  # без аргументов!\n",
    "        return (len(self.matrix), len(self.matrix[0]))\n",
    " \n",
    "    def __add__(self, other):\n",
    "        return Matrix(list(map(\n",
    "                        lambda x, y: list(map(lambda z, w: z + w, x, y)),\n",
    "                        self.matrix, other.matrix)))\n",
    " \n",
    "    def __mul__(self, other):\n",
    "        return Matrix([[i * other for i in list] for list in self.matrix])\n",
    " \n",
    "    __rmul__ = __mul__\n",
    " \n",
    " \n",
    "exec(stdin.read())"
   ]
  },
  {
   "cell_type": "code",
   "execution_count": 46,
   "metadata": {},
   "outputs": [],
   "source": [
    "fout = open('123.txt', 'w', encoding='utf8')\n",
    "m = Matrix([[1, 0], [0, 1]])\n",
    "print(m, file=fout)\n",
    "m = Matrix([[2, 0, 0], [0, 1, 10000]])\n",
    "print(m, file=fout)\n",
    "m = Matrix([[-10, 20, 50, 2443], [-5235, 12, 4324, 4234]])\n",
    "print(m, file=fout)"
   ]
  },
  {
   "cell_type": "code",
   "execution_count": 193,
   "metadata": {},
   "outputs": [],
   "source": [
    "fout.close()"
   ]
  },
  {
   "cell_type": "code",
   "execution_count": 47,
   "metadata": {},
   "outputs": [
    {
     "name": "stdout",
     "output_type": "stream",
     "text": [
      "-10\t20\t50\t2443\n",
      "-5235\t12\t4324\t4234\n"
     ]
    }
   ],
   "source": [
    "print(m)"
   ]
  },
  {
   "cell_type": "code",
   "execution_count": null,
   "metadata": {},
   "outputs": [],
   "source": []
  },
  {
   "cell_type": "code",
   "execution_count": null,
   "metadata": {},
   "outputs": [],
   "source": [
    "from copy import deepcopy\n",
    "from sys import stdin\n",
    "\n",
    "\n",
    "class Matrix:\n",
    "    def __init__(self, matrix):\n",
    "        self.matrix = deepcopy(matrix)\n",
    "\n",
    "    def __str__(self):\n",
    "        temp = ''\n",
    "        for i in self.matrix:\n",
    "            for j in i:\n",
    "                temp = temp + '%s' % j + '\\t'\n",
    "            temp = temp[:-1]\n",
    "            temp += '\\n'\n",
    "        temp = temp[:-1]\n",
    "        return temp\n",
    "\n",
    "    def size(self):\n",
    "        return(len(self.matrix), len(self.matrix[0]))\n",
    "\n",
    "exec(stdin.read())\n"
   ]
  },
  {
   "cell_type": "code",
   "execution_count": null,
   "metadata": {},
   "outputs": [],
   "source": []
  },
  {
   "cell_type": "code",
   "execution_count": null,
   "metadata": {},
   "outputs": [],
   "source": []
  },
  {
   "cell_type": "code",
   "execution_count": 132,
   "metadata": {},
   "outputs": [
    {
     "name": "stdout",
     "output_type": "stream",
     "text": [
      "0+0i 2+3i 1+1i\n",
      "\n",
      "3+4i\n",
      "\n",
      "2+1i\n",
      "\n",
      "-1+5i\n"
     ]
    }
   ],
   "source": [
    "class Complex:\n",
    "    def __init__(self, re=0, im=0):\n",
    "        self.re = re\n",
    "        self.im = im\n",
    "    \n",
    "    def __str__(self):\n",
    "        return str(self.re) + '+' + str(self.im) + 'i'\n",
    "    \n",
    "    def __add__(self, other):\n",
    "        result = Complex(self.re + other.re, self.im + other.im)\n",
    "        return result\n",
    "    \n",
    "    def __mul__(self, other):\n",
    "        re = self.re * other.re - self.im * other.im\n",
    "        im = self.re * other.im + other.re * self.im\n",
    "        return Complex(re, im)\n",
    "        \n",
    "a = Complex()\n",
    "b = Complex(1, 1)\n",
    "c = Complex(2, 3)\n",
    "#print(b)\n",
    "print(a, str(c), str(b))\n",
    "\n",
    "print()\n",
    "print(b + c)\n",
    "print()\n",
    "\n",
    "print(b + Complex(1))\n",
    "print()\n",
    "\n",
    "print(b * c)"
   ]
  },
  {
   "cell_type": "code",
   "execution_count": null,
   "metadata": {},
   "outputs": [],
   "source": []
  },
  {
   "cell_type": "code",
   "execution_count": 188,
   "metadata": {},
   "outputs": [],
   "source": [
    "from copy import deepcopy\n",
    "from sys import stdin\n",
    "\n",
    "\n",
    "class Matrix:\n",
    "    def __init__(self, matrix):\n",
    "        self.matrix = deepcopy(matrix)\n",
    "\n",
    "    def __str__(self):\n",
    "        temp = ''\n",
    "        for i in self.matrix:\n",
    "            for j in i:\n",
    "                temp = temp + str(j) + '\\t'\n",
    "            temp = temp[:-1]\n",
    "            temp += '\\n'\n",
    "        temp = temp[:-1]\n",
    "        return temp\n",
    "\n",
    "    def size(self):\n",
    "        return(len(self.matrix), len(self.matrix[0]))\n",
    "\n",
    "    def __add__(self, other):\n",
    "        temp = []\n",
    "        for i in range(len(self.matrix)):\n",
    "            temp2 = 0\n",
    "            temp3 = []\n",
    "            for j in range(len(self.matrix[i])):\n",
    "                temp2 = float(self.matrix[i][j]) + float(other.matrix[i][j])\n",
    "                temp3.append(int(temp2))\n",
    "            temp.append(temp3)\n",
    "        return Matrix(temp)\n",
    "\n",
    "    def __mul__(self, k):\n",
    "        temp = []\n",
    "        for i in range(len(self.matrix)):\n",
    "            temp2 = 0\n",
    "            temp3 = []\n",
    "            for j in range(len(self.matrix[i])):\n",
    "                temp3.append(self.matrix[i][j] * k)\n",
    "            temp.append(temp3)\n",
    "        return Matrix(temp)\n",
    "\n",
    "    __rmul__ = __mul__\n",
    "\n",
    "#exec(stdin.read())\n"
   ]
  },
  {
   "cell_type": "code",
   "execution_count": 190,
   "metadata": {},
   "outputs": [
    {
     "name": "stdout",
     "output_type": "stream",
     "text": [
      "1\t1\t0\n",
      "20\t1\t-1\n",
      "-1\t-2\t1\n",
      "<class '__main__.Matrix'>\n"
     ]
    }
   ],
   "source": [
    "m1 = Matrix([[1, 0, 0], [0, 1, 0], [0, 0, 1]])\n",
    "m2 = Matrix([[0, 1, 0], [20, 0, -1], [-1, -2, 0]])\n",
    "print(m1 + m2)\n",
    "print(type(m1 + m2))"
   ]
  },
  {
   "cell_type": "code",
   "execution_count": null,
   "metadata": {},
   "outputs": [],
   "source": []
  },
  {
   "cell_type": "code",
   "execution_count": 183,
   "metadata": {},
   "outputs": [
    {
     "name": "stdout",
     "output_type": "stream",
     "text": [
      "15\t15\t0\n",
      "0\t30\t150\n",
      "150\t225\t450\n",
      "15\t15\t0\n",
      "0\t30\t150\n",
      "150\t225\t450\n"
     ]
    }
   ],
   "source": [
    "m = Matrix([[1, 1, 0], [0, 2, 10], [10, 15, 30]])\n",
    "alpha = 15\n",
    "print(m * alpha)\n",
    "print(alpha * m)"
   ]
  },
  {
   "cell_type": "code",
   "execution_count": null,
   "metadata": {},
   "outputs": [],
   "source": []
  },
  {
   "cell_type": "code",
   "execution_count": null,
   "metadata": {},
   "outputs": [],
   "source": []
  },
  {
   "cell_type": "code",
   "execution_count": 192,
   "metadata": {},
   "outputs": [
    {
     "name": "stdout",
     "output_type": "stream",
     "text": [
      "0+0i 2+3i 1+1i\n",
      "\n",
      "3+4i\n",
      "\n",
      "2+1i\n",
      "\n",
      "-1+5i\n",
      "\n",
      "2+2i\n",
      "2.5+2.5i\n",
      "2.5+2.5i\n"
     ]
    }
   ],
   "source": [
    "class Complex:\n",
    "    def __init__(self, re=0, im=0):\n",
    "        self.re = re\n",
    "        self.im = im\n",
    "    \n",
    "    def __str__(self):\n",
    "        return str(self.re) + '+' + str(self.im) + 'i'\n",
    "    \n",
    "    def __add__(self, other):\n",
    "        result = Complex(self.re + other.re, self.im + other.im)\n",
    "        return result\n",
    "    \n",
    "    def __mul__(self, other):\n",
    "        if isinstance(other, Complex):\n",
    "            re = self.re * other.re - self.im * other.im\n",
    "            im = self.re * other.im + other.re * self.im\n",
    "        elif isinstance(other, int) or isinstance(other, float):\n",
    "            re = self.re * other\n",
    "            im = self.im * other\n",
    "        return Complex(re, im)\n",
    "    \n",
    "    __rmul__ = __mul__\n",
    "    \n",
    "    \n",
    "        \n",
    "a = Complex()\n",
    "b = Complex(1, 1)\n",
    "c = Complex(2, 3)\n",
    "#print(b)\n",
    "print(a, str(c), str(b))\n",
    "\n",
    "print()\n",
    "print(b + c)\n",
    "print()\n",
    "\n",
    "print(b + Complex(1))\n",
    "print()\n",
    "\n",
    "print(b * c)\n",
    "\n",
    "print()\n",
    "print(b * 2)\n",
    "print(b * 2.5)\n",
    "print(2.5 * b)"
   ]
  },
  {
   "cell_type": "code",
   "execution_count": null,
   "metadata": {},
   "outputs": [],
   "source": []
  },
  {
   "cell_type": "code",
   "execution_count": null,
   "metadata": {},
   "outputs": [],
   "source": []
  },
  {
   "cell_type": "code",
   "execution_count": null,
   "metadata": {},
   "outputs": [],
   "source": []
  },
  {
   "cell_type": "code",
   "execution_count": null,
   "metadata": {},
   "outputs": [],
   "source": []
  },
  {
   "cell_type": "code",
   "execution_count": null,
   "metadata": {},
   "outputs": [],
   "source": []
  }
 ],
 "metadata": {
  "kernelspec": {
   "display_name": "Python 3",
   "language": "python",
   "name": "python3"
  },
  "language_info": {
   "codemirror_mode": {
    "name": "ipython",
    "version": 3
   },
   "file_extension": ".py",
   "mimetype": "text/x-python",
   "name": "python",
   "nbconvert_exporter": "python",
   "pygments_lexer": "ipython3",
   "version": "3.7.3"
  }
 },
 "nbformat": 4,
 "nbformat_minor": 2
}
